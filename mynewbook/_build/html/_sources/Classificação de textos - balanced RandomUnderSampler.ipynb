{
 "cells": [
  {
   "metadata": {},
   "cell_type": "markdown",
   "source": "## Classificação de textos com balanceamento \"Random Under Sampler\"",
   "id": "eff1704c2646597c"
  },
  {
   "metadata": {},
   "cell_type": "markdown",
   "source": "Técnica utilizada para lidar com dados desbalanceados em que o número de exemplos da calsse majoritária é reduzido para igualar ou aproximar o número de exemplos da classe minoritária.",
   "id": "2c864b1b40098347"
  },
  {
   "metadata": {},
   "cell_type": "markdown",
   "source": "### Bibliotecas",
   "id": "371b1d9b3ab16841"
  },
  {
   "metadata": {
    "tags": [
     "hide-cell"
    ],
    "ExecuteTime": {
     "end_time": "2024-10-13T21:20:13.553923Z",
     "start_time": "2024-10-13T21:20:13.227366Z"
    }
   },
   "cell_type": "code",
   "source": [
    "#Bibliotecas\n",
    "import pandas as pd\n",
    "import numpy as np\n",
    "import matplotlib.pyplot as plt\n",
    "import seaborn as sns\n",
    "from sklearn import metrics\n",
    "from sklearn.feature_extraction.text import CountVectorizer\n",
    "from sklearn.feature_extraction.text import TfidfVectorizer\n",
    "from sklearn.feature_extraction.text import TfidfTransformer\n",
    "from sklearn.linear_model import SGDClassifier\n",
    "from sklearn.pipeline import Pipeline\n",
    "from sklearn.model_selection import train_test_split\n",
    "from sklearn.metrics import f1_score\n",
    "from sklearn.metrics import ConfusionMatrixDisplay\n",
    "from collections import Counter\n",
    "from imblearn.under_sampling import RandomUnderSampler\n",
    "from imblearn.over_sampling import RandomOverSampler\n",
    "import warnings\n",
    "\n",
    "#Estilizar conteúdo\n",
    "warnings.filterwarnings('ignore')\n",
    "\n",
    "pd.set_option('display.max_rows', None)\n",
    "pd.set_option('display.max_columns', None)\n",
    "\n",
    "def estilo_tabelas(df, max_altura='300px', casas_decimais=3):\n",
    "    def cor_linhas(row):\n",
    "        if row.name % 2 == 0:\n",
    "            return ['background-color: #ffffff'] * len(row)\n",
    "        else:\n",
    "            return ['background-color: #f9f9f9'] * len(row)\n",
    "    \n",
    "    return (\n",
    "        df.style.apply(cor_linhas, axis=1)  # Aplica cor alternada às linhas\n",
    "        .set_table_styles(\n",
    "            [\n",
    "                {'selector': 'thead th', 'props': [('font-size', '12px'), ('text-align', 'center'), ('border-bottom', '2px solid #007BFF')]},  # Azul abaixo do nome das colunas\n",
    "                {'selector': 'td', 'props': [('font-size', '10px'), ('text-align', 'center'), ('max-height', '40px'), ('white-space', 'nowrap'), ('text-overflow', 'ellipsis'), ('overflow', 'hidden'), ('max-width', '300px')]},\n",
    "                {'selector': 'table', 'props': [('width', '90%'), ('margin-left', 'auto'), ('margin-right', 'auto'), ('border-collapse', 'collapse')]},\n",
    "                {'selector': 'td, th', 'props': [('border', '1px solid #666')]},\n",
    "            ]\n",
    "        )\n",
    "        .set_properties(\n",
    "            **{'border-color': 'darkgray', 'border-style': 'solid', 'border-width': '1px'}\n",
    "        )\n",
    "        .set_table_attributes(\n",
    "            f'style=\"height:auto; overflow:auto; max-height:{max_altura}; display:block;\"'  \n",
    "        )\n",
    "        .format(\n",
    "            precision=casas_decimais  \n",
    "        )\n",
    "    )"
   ],
   "id": "49038a2f45aa21cf",
   "outputs": [],
   "execution_count": 1
  },
  {
   "metadata": {},
   "cell_type": "markdown",
   "source": "### Base de dados",
   "id": "e591c671fbd354a5"
  },
  {
   "metadata": {
    "tags": [
     "hide-input"
    ],
    "ExecuteTime": {
     "end_time": "2024-10-13T21:20:17.108327Z",
     "start_time": "2024-10-13T21:20:13.565622Z"
    }
   },
   "cell_type": "code",
   "source": [
    "#Leitura da base de dados\n",
    "\n",
    "object_columns = ['Protocolo_S2iD', 'Nome_Municipio', 'Sigla_UF', 'regiao',\n",
    "                  'Setores Censitários', 'Status', 'DH_Descricao', 'DM_Descricao',\n",
    "                  'DA_Descricao', 'DA_Polui/cont da água', 'DA_Polui/cont do ar',\n",
    "                  'DA_Polui/cont do solo', 'DA_Dimi/exauri hídrico',\n",
    "                  \"DA_Incêndi parques/APA's/APP's\", 'PEPL_Descricao', 'PEPR_Descricao',\n",
    "                  'Categoria', 'Grupo', 'Subgrupo', 'Tipo', 'Subtipo']\n",
    "\n",
    "dtype = {col: 'object' for col in object_columns}\n",
    "\n",
    "df_eventos = pd.read_csv(\n",
    "    \"https://raw.githubusercontent.com/brunagmoura/PrevisorReconhecimento/refs/heads/main/df_eventos_desastres_rec_nrec.csv\",\n",
    "    sep=';',\n",
    "    dtype = dtype,\n",
    "    decimal=',',\n",
    ")\n",
    "\n",
    "#Selecionar apenas as variáveis textuais\n",
    "df_eventos = df_eventos[[\"Status\", \"DH_Descricao\", \"DM_Descricao\", \"DA_Descricao\"]]\n",
    "\n",
    "#Atribuir valor 0 ao status \"Reconhecido\" e 1 ao status \"Não reconhecido\"\n",
    "df_eventos['Status'] = df_eventos['Status'].map({'Reconhecido': 0, 'Não reconhecido': 1})\n",
    "\n",
    "#Visualizar amostra de dados\n",
    "estilo_tabelas(df_eventos.tail(5))"
   ],
   "id": "f46fa0171dd5cc14",
   "outputs": [
    {
     "data": {
      "text/plain": [
       "<pandas.io.formats.style.Styler at 0x17767dfa0>"
      ],
      "text/html": [
       "<style type=\"text/css\">\n",
       "#T_fef2e thead th {\n",
       "  font-size: 12px;\n",
       "  text-align: center;\n",
       "  border-bottom: 2px solid #007BFF;\n",
       "}\n",
       "#T_fef2e td {\n",
       "  font-size: 10px;\n",
       "  text-align: center;\n",
       "  max-height: 40px;\n",
       "  white-space: nowrap;\n",
       "  text-overflow: ellipsis;\n",
       "  overflow: hidden;\n",
       "  max-width: 300px;\n",
       "}\n",
       "#T_fef2e table {\n",
       "  width: 90%;\n",
       "  margin-left: auto;\n",
       "  margin-right: auto;\n",
       "  border-collapse: collapse;\n",
       "}\n",
       "#T_fef2e td {\n",
       "  border: 1px solid #666;\n",
       "}\n",
       "#T_fef2e  th {\n",
       "  border: 1px solid #666;\n",
       "}\n",
       "#T_fef2e_row0_col0, #T_fef2e_row0_col1, #T_fef2e_row0_col2, #T_fef2e_row0_col3, #T_fef2e_row2_col0, #T_fef2e_row2_col1, #T_fef2e_row2_col2, #T_fef2e_row2_col3, #T_fef2e_row4_col0, #T_fef2e_row4_col1, #T_fef2e_row4_col2, #T_fef2e_row4_col3 {\n",
       "  background-color: #f9f9f9;\n",
       "  border-color: darkgray;\n",
       "  border-style: solid;\n",
       "  border-width: 1px;\n",
       "}\n",
       "#T_fef2e_row1_col0, #T_fef2e_row1_col1, #T_fef2e_row1_col2, #T_fef2e_row1_col3, #T_fef2e_row3_col0, #T_fef2e_row3_col1, #T_fef2e_row3_col2, #T_fef2e_row3_col3 {\n",
       "  background-color: #ffffff;\n",
       "  border-color: darkgray;\n",
       "  border-style: solid;\n",
       "  border-width: 1px;\n",
       "}\n",
       "</style>\n",
       "<table id=\"T_fef2e\" style=\"height:auto; overflow:auto; max-height:300px; display:block;\">\n",
       "  <thead>\n",
       "    <tr>\n",
       "      <th class=\"blank level0\" >&nbsp;</th>\n",
       "      <th id=\"T_fef2e_level0_col0\" class=\"col_heading level0 col0\" >Status</th>\n",
       "      <th id=\"T_fef2e_level0_col1\" class=\"col_heading level0 col1\" >DH_Descricao</th>\n",
       "      <th id=\"T_fef2e_level0_col2\" class=\"col_heading level0 col2\" >DM_Descricao</th>\n",
       "      <th id=\"T_fef2e_level0_col3\" class=\"col_heading level0 col3\" >DA_Descricao</th>\n",
       "    </tr>\n",
       "  </thead>\n",
       "  <tbody>\n",
       "    <tr>\n",
       "      <th id=\"T_fef2e_level0_row0\" class=\"row_heading level0 row0\" >26253</th>\n",
       "      <td id=\"T_fef2e_row0_col0\" class=\"data row0 col0\" >0</td>\n",
       "      <td id=\"T_fef2e_row0_col1\" class=\"data row0 col1\" >A seca tem causado interrupções no fornecimento de água potável para a população dos núcleos urbanos e limitações severas no consumo de água nos domicílios situados na zona rural que precisam aguardar um tempo elevado para que a água acumule em cisterna em volume que seja possível bombear. _x000D_\n",
       "_x000D_\n",
       "</td>\n",
       "      <td id=\"T_fef2e_row0_col2\" class=\"data row0 col2\" >nan</td>\n",
       "      <td id=\"T_fef2e_row0_col3\" class=\"data row0 col3\" >Redução dos cursos de água e pastagem provocado pela seca.</td>\n",
       "    </tr>\n",
       "    <tr>\n",
       "      <th id=\"T_fef2e_level0_row1\" class=\"row_heading level0 row1\" >26254</th>\n",
       "      <td id=\"T_fef2e_row1_col0\" class=\"data row1 col0\" >0</td>\n",
       "      <td id=\"T_fef2e_row1_col1\" class=\"data row1 col1\" >Conforme laudo da assistência social, o desastre Tempestade Local/Convectiva - Vendaval atingiu o município em todo o seu território urbano e rural,  afetando diretamente 1.180 famílias, aproximadamente 4.716 pessoas, desse total, aproximadamente 30 pessoas ficaram desalojadas. Ainda dentro desse número de famílias 30 famílias foram diretamente afetadas, sendo aproximadamente 120 pessoas encontram-se em vulnerabilidade social. Todos os afetados tiveram danos em suas residências, em telhados, em muitas delas perdendo móveis, roupas e alimentos. Estradas no interior que ficaram sem condições seguras de trafegabilidade e/ou bloqueadas, conforme constatado pela engenharia. A tempestade que atingiu o município afetou as famílias também com a falta de energia elétrica e consequentemente de água, sendo restabelecida em todo o território do município somente no dia 02 de Janeiro.</td>\n",
       "      <td id=\"T_fef2e_row1_col2\" class=\"data row1 col2\" >Conforme laudo da engenharia o evento vendaval causou danos em aproximadamente 30 unidades habitacionais, 01 instalação pública de saúde, uma de ensino e ainda nas estradas rurais do município.</td>\n",
       "      <td id=\"T_fef2e_row1_col3\" class=\"data row1 col3\" >Os danos ambientais recorrem da grande quantidade de lixo produzido pela quebra das telhas de fibrocimento e queda de árvores.</td>\n",
       "    </tr>\n",
       "    <tr>\n",
       "      <th id=\"T_fef2e_level0_row2\" class=\"row_heading level0 row2\" >26255</th>\n",
       "      <td id=\"T_fef2e_row2_col0\" class=\"data row2 col0\" >0</td>\n",
       "      <td id=\"T_fef2e_row2_col1\" class=\"data row2 col1\" >Conforme laudo da assistência social, 20 famílias, 80 pessoas ficaram desalojadas devido destelhamento das suas residências, sendo que três moradias teve todo telhado arrancado, com tesouras e forro. No total foram 276 unidades habitacionais danificadas conforme laudo da engenharia. Ainda conforme laudo da Emater em anexo, houve prejuízos na pecuária que chegam ao valor de R$ 132.000,00. </td>\n",
       "      <td id=\"T_fef2e_row2_col2\" class=\"data row2 col2\" >Conforme laudo da engenharia foram danificadas 276 unidades habitacionais, 07 instalações públicas de ensino sofreram destelhamento devidos aos fortes ventos.</td>\n",
       "      <td id=\"T_fef2e_row2_col3\" class=\"data row2 col3\" >Os danos ambientais recorrem da grande quantidade de lixo produzido pelas quebra das telhas de fibrocimento e quedas de inúmeras árvores.</td>\n",
       "    </tr>\n",
       "    <tr>\n",
       "      <th id=\"T_fef2e_level0_row3\" class=\"row_heading level0 row3\" >26256</th>\n",
       "      <td id=\"T_fef2e_row3_col0\" class=\"data row3 col0\" >0</td>\n",
       "      <td id=\"T_fef2e_row3_col1\" class=\"data row3 col1\" >As pessoas atingidas, tiveram os telhados de suas residências danificados, moveis molhados, sendo necessário cobrir com lonas, totalizando num total de 300 pessoas atingidas diretamente, de acordo com o laudo da assistência social.</td>\n",
       "      <td id=\"T_fef2e_row3_col2\" class=\"data row3 col2\" >De acordo com o laudo da engenharia civil, houve um total de 75 unidades habitacionais atingidas, totalizando um dano estimado de R$120.583,50. Além disso, foi registrado danos causados em prédios públicos, como postos de saúde, escolas, secretarias, totalizando um valor estimado de R$106.834,65.</td>\n",
       "      <td id=\"T_fef2e_row3_col3\" class=\"data row3 col3\" >nan</td>\n",
       "    </tr>\n",
       "    <tr>\n",
       "      <th id=\"T_fef2e_level0_row4\" class=\"row_heading level0 row4\" >26257</th>\n",
       "      <td id=\"T_fef2e_row4_col0\" class=\"data row4 col0\" >0</td>\n",
       "      <td id=\"T_fef2e_row4_col1\" class=\"data row4 col1\" >Toda a população do Município foi afetada direta ou indiretamente pelo evento adverso do dia 29 de dezembro de 2023, devido aos fortes ventos em todo teritório do Município de Ubiretama, que causaram vários destelhamentos em residências e prédios públicos, queda de galhos e árvores sobre as vias municipais, assim dificultando a locomoção das pessoas, bem como interrupçao de fornecimento de energia elétrica, sendo que todo município de Ubiretama está sem energia elétrica até o momento, o que pode perdurar por vários dias inclusive. </td>\n",
       "      <td id=\"T_fef2e_row4_col2\" class=\"data row4 col2\" >Várias residências afetadas, causando um valor aproximado de R$ 10.000,00(dez mil reais), e a quadra de futebol society, que foi teve a cobertura totalmente destruída, em razão dos fortes ventos, causando um prejuízo aproximado de R$ 250.000,00(duzentos e cinquenta mil reais), de acordo com o Relatório do Engenheiro Civil. </td>\n",
       "      <td id=\"T_fef2e_row4_col3\" class=\"data row4 col3\" >nan</td>\n",
       "    </tr>\n",
       "  </tbody>\n",
       "</table>\n"
      ]
     },
     "execution_count": 2,
     "metadata": {},
     "output_type": "execute_result"
    }
   ],
   "execution_count": 2
  },
  {
   "metadata": {},
   "cell_type": "markdown",
   "source": "### Balanceamento das classes",
   "id": "a28bda574aab0360"
  },
  {
   "metadata": {},
   "cell_type": "markdown",
   "source": "#### Under Sampler",
   "id": "a578dc94a42e3a2b"
  },
  {
   "metadata": {
    "tags": [
     "hide-input"
    ],
    "ExecuteTime": {
     "end_time": "2024-10-13T21:20:17.491443Z",
     "start_time": "2024-10-13T21:20:17.481310Z"
    }
   },
   "cell_type": "code",
   "source": [
    "X = df_eventos.loc[:, ['DH_Descricao', 'DM_Descricao', 'DA_Descricao']]\n",
    "y = df_eventos['Status']\n",
    "\n",
    "# Instanciar RandomUnderSampler\n",
    "under = RandomUnderSampler(random_state=0)\n",
    "\n",
    "# Treinar e fazer RandomUnderSampler nod dados\n",
    "X_balanceadounder, y_balanceadounder = under.fit_resample(X, y)\n",
    "\n",
    "# Mostrar as dimensões de X e y\n",
    "print('Dimensões de X_resampled = ', X_balanceadounder.shape)\n",
    "print('Dimensões de y_resampled = ', y_balanceadounder.shape)\n",
    "\n",
    "df_eventos_undersampler = pd.DataFrame(X_balanceadounder)\n",
    "df_eventos_undersampler['Status']= y_balanceadounder"
   ],
   "id": "38b71570be9abb47",
   "outputs": [
    {
     "name": "stdout",
     "output_type": "stream",
     "text": [
      "Dimensões de X_resampled =  (4774, 3)\n",
      "Dimensões de y_resampled =  (4774,)\n"
     ]
    }
   ],
   "execution_count": 3
  },
  {
   "metadata": {
    "tags": [
     "hide-input"
    ],
    "ExecuteTime": {
     "end_time": "2024-10-13T21:20:18.187300Z",
     "start_time": "2024-10-13T21:20:18.178722Z"
    }
   },
   "cell_type": "code",
   "source": [
    "df_DH_Descricao_undersampler = df_eventos_undersampler[['Status', 'DH_Descricao']].dropna(subset=['Status', 'DH_Descricao'])\n",
    "\n",
    "df_DM_Descricao_undersampler = df_eventos_undersampler[['Status', 'DM_Descricao']].dropna(subset=['Status', 'DM_Descricao'])\n",
    "\n",
    "df_DA_Descricao_undersampler = df_eventos_undersampler[['Status', 'DA_Descricao']].dropna(subset=['Status', 'DA_Descricao'])\n",
    "\n",
    "print('Dimensões das bases de dados (Balanceado com under sampler): \\n')\n",
    "print('Descrição dos danos humanos:', df_DH_Descricao_undersampler.shape)\n",
    "print('Descrição dos danos materiais:',df_DM_Descricao_undersampler.shape)\n",
    "print('Descrição dos danos ambientais:',df_DA_Descricao_undersampler.shape)\n",
    "\n",
    "print('\\n Novo balanceamento das bases de dados (Balanceado com under sampler): \\n')\n",
    "print('Balanceamento em \"danos humanos:', df_DH_Descricao_undersampler['Status'].value_counts())\n",
    "print('Balanceamento em \"danos materiais:', df_DM_Descricao_undersampler['Status'].value_counts())\n",
    "print('Balanceamento em \"danos ambientais:', df_DA_Descricao_undersampler['Status'].value_counts())"
   ],
   "id": "30c6b084f7a75fd7",
   "outputs": [
    {
     "name": "stdout",
     "output_type": "stream",
     "text": [
      "Dimensões das bases de dados (Balanceado com under sampler): \n",
      "\n",
      "Descrição dos danos humanos: (3659, 2)\n",
      "Descrição dos danos materiais: (2762, 2)\n",
      "Descrição dos danos ambientais: (2806, 2)\n",
      "\n",
      " Novo balanceamento das bases de dados (Balanceado com under sampler): \n",
      "\n",
      "Balanceamento em \"danos humanos: Status\n",
      "1    1892\n",
      "0    1767\n",
      "Name: count, dtype: int64\n",
      "Balanceamento em \"danos materiais: Status\n",
      "1    1575\n",
      "0    1187\n",
      "Name: count, dtype: int64\n",
      "Balanceamento em \"danos ambientais: Status\n",
      "0    1447\n",
      "1    1359\n",
      "Name: count, dtype: int64\n"
     ]
    }
   ],
   "execution_count": 4
  },
  {
   "metadata": {},
   "cell_type": "markdown",
   "source": "### Modelo para \"Descrição de danos humanos\"",
   "id": "e270a0f843bb29fa"
  },
  {
   "metadata": {
    "tags": [
     "hide-input"
    ],
    "ExecuteTime": {
     "end_time": "2024-10-13T21:20:19.382033Z",
     "start_time": "2024-10-13T21:20:18.931026Z"
    }
   },
   "cell_type": "code",
   "source": [
    "#Treino e teste\n",
    "X_train_humanos_under, X_test_humanos_under, y_train_humanos_under, y_test_humanos_under = train_test_split(df_DH_Descricao_undersampler['DH_Descricao'], df_DH_Descricao_undersampler['Status'], test_size=0.2, random_state=1)\n",
    "\n",
    "# Instanciamento do transform CountVectorizer\n",
    "tfidf_vectorizer_humanos_under = TfidfVectorizer()\n",
    "\n",
    "# Tokenização e criação do vocabulário\n",
    "\n",
    "tfidf_vectorizer_humanos_under.fit(X_train_humanos_under)\n",
    "\n",
    "#Treinamento e classificador\n",
    "\n",
    "pipeline_humanos_under = Pipeline([\n",
    "    ('tfidf', TfidfVectorizer(ngram_range=(1,2))),\n",
    "    ('clf', SGDClassifier(loss='log_loss')),\n",
    "])\n",
    "\n",
    "classificador_humanos_under = pipeline_humanos_under.fit(X_train_humanos_under, y_train_humanos_under)\n",
    "\n",
    "predicted_humanos_under = classificador_humanos_under.predict(X_test_humanos_under)\n",
    "\n",
    "classification_report_humanos_under = metrics.classification_report(y_test_humanos_under, predicted_humanos_under, digits=6, target_names=['Reconhecido', 'Não reconhecido'])\n",
    "\n",
    "print('Classification report para danos humanos (balanceamento RandomUnderSampler: \\n')\n",
    "print(classification_report_humanos_under)"
   ],
   "id": "99b47d1ba9220592",
   "outputs": [
    {
     "name": "stdout",
     "output_type": "stream",
     "text": [
      "Classification report para danos humanos (balanceamento RandomUnderSampler: \n",
      "\n",
      "                 precision    recall  f1-score   support\n",
      "\n",
      "    Reconhecido   0.710526  0.654987  0.681627       371\n",
      "Não reconhecido   0.671795  0.725762  0.697736       361\n",
      "\n",
      "       accuracy                       0.689891       732\n",
      "      macro avg   0.691161  0.690374  0.689682       732\n",
      "   weighted avg   0.691425  0.689891  0.689572       732\n",
      "\n"
     ]
    }
   ],
   "execution_count": 5
  },
  {
   "metadata": {},
   "cell_type": "markdown",
   "source": "### Modelo para \"Descrição de danos materiais\"",
   "id": "fb75ee914db31f9a"
  },
  {
   "metadata": {
    "tags": [
     "hide-input"
    ],
    "ExecuteTime": {
     "end_time": "2024-10-13T21:20:20.842625Z",
     "start_time": "2024-10-13T21:20:20.466068Z"
    }
   },
   "cell_type": "code",
   "source": [
    "#Treino e teste\n",
    "X_train_materiais_under, X_test_materiais_under, y_train_materiais_under, y_test_materiais_under = train_test_split(df_DM_Descricao_undersampler['DM_Descricao'], df_DM_Descricao_undersampler['Status'], test_size=0.2, random_state=1)\n",
    "\n",
    "# Instanciamento do transform CountVectorizer\n",
    "tfidf_vectorizer_materiais_under = TfidfVectorizer()\n",
    "\n",
    "# Tokenização e criação do vocabulário\n",
    "\n",
    "tfidf_vectorizer_materiais_under.fit(X_train_materiais_under)\n",
    "\n",
    "#Treinamento e classificador\n",
    "\n",
    "pipeline_materiais_under = Pipeline([\n",
    "    ('tfidf', TfidfVectorizer(ngram_range=(1,2))),\n",
    "    ('clf', SGDClassifier(loss='log_loss')),\n",
    "])\n",
    "\n",
    "classificador_materiais_under = pipeline_materiais_under.fit(X_train_materiais_under, y_train_materiais_under)\n",
    "\n",
    "predicted_materiais_under = classificador_materiais_under.predict(X_test_materiais_under)\n",
    "\n",
    "classification_report_materiais_under = metrics.classification_report(y_test_materiais_under, predicted_materiais_under, digits=6, target_names=['Reconhecido', 'Não reconhecido'])\n",
    "\n",
    "print('Classification report para danos materiais (balanceamento RandomUnderSampler: \\n')\n",
    "print(classification_report_materiais_under)"
   ],
   "id": "a140e9e3ab0b9330",
   "outputs": [
    {
     "name": "stdout",
     "output_type": "stream",
     "text": [
      "Classification report para danos materiais (balanceamento RandomUnderSampler: \n",
      "\n",
      "                 precision    recall  f1-score   support\n",
      "\n",
      "    Reconhecido   0.549763  0.517857  0.533333       224\n",
      "Não reconhecido   0.684211  0.711246  0.697466       329\n",
      "\n",
      "       accuracy                       0.632911       553\n",
      "      macro avg   0.616987  0.614552  0.615400       553\n",
      "   weighted avg   0.629751  0.632911  0.630982       553\n",
      "\n"
     ]
    }
   ],
   "execution_count": 6
  },
  {
   "metadata": {},
   "cell_type": "markdown",
   "source": "### Modelo para \"Descrição de danos ambientais\"",
   "id": "d2091389ae710ba6"
  },
  {
   "metadata": {
    "tags": [
     "hide-input"
    ],
    "ExecuteTime": {
     "end_time": "2024-10-13T21:20:21.861740Z",
     "start_time": "2024-10-13T21:20:21.668444Z"
    }
   },
   "cell_type": "code",
   "source": [
    "#Treino e teste\n",
    "X_train_ambientais_under, X_test_ambientais_under, y_train_ambientais_under, y_test_ambientais_under = train_test_split(df_DA_Descricao_undersampler['DA_Descricao'], df_DA_Descricao_undersampler['Status'], test_size=0.2, random_state=1)\n",
    "\n",
    "# Instanciamento do transform CountVectorizer\n",
    "tfidf_vectorizer_ambientais_under = TfidfVectorizer()\n",
    "\n",
    "# Tokenização e criação do vocabulário\n",
    "\n",
    "tfidf_vectorizer_ambientais_under.fit(X_train_ambientais_under)\n",
    "\n",
    "#Treinamento e classificador\n",
    "\n",
    "pipeline_ambientais_under = Pipeline([\n",
    "    ('tfidf', TfidfVectorizer(ngram_range=(1,2))),\n",
    "    ('clf', SGDClassifier(loss='log_loss')),\n",
    "])\n",
    "\n",
    "classificador_ambientais_under = pipeline_ambientais_under.fit(X_train_ambientais_under, y_train_ambientais_under)\n",
    "\n",
    "predicted_ambientais_under = classificador_ambientais_under.predict(X_test_ambientais_under)\n",
    "\n",
    "classification_report_ambientais_under = metrics.classification_report(y_test_materiais_under, predicted_materiais_under, digits=6, target_names=['Reconhecido', 'Não reconhecido'])\n",
    "\n",
    "print('Classification report para danos ambientais (balanceamento RandomUnderSampler: \\n')\n",
    "print(classification_report_ambientais_under)"
   ],
   "id": "922649234a7e773e",
   "outputs": [
    {
     "name": "stdout",
     "output_type": "stream",
     "text": [
      "Classification report para danos ambientais (balanceamento RandomUnderSampler: \n",
      "\n",
      "                 precision    recall  f1-score   support\n",
      "\n",
      "    Reconhecido   0.549763  0.517857  0.533333       224\n",
      "Não reconhecido   0.684211  0.711246  0.697466       329\n",
      "\n",
      "       accuracy                       0.632911       553\n",
      "      macro avg   0.616987  0.614552  0.615400       553\n",
      "   weighted avg   0.629751  0.632911  0.630982       553\n",
      "\n"
     ]
    }
   ],
   "execution_count": 7
  },
  {
   "metadata": {},
   "cell_type": "markdown",
   "source": "### Comparação entre os modelos para danos humanos, materiais e ambientais",
   "id": "a278c11cd84fa0ac"
  },
  {
   "metadata": {},
   "cell_type": "markdown",
   "source": "#### Métricas de classificação",
   "id": "2bd41a4debc34d00"
  },
  {
   "metadata": {
    "tags": [
     "hide-input"
    ],
    "ExecuteTime": {
     "end_time": "2024-10-13T21:20:22.761340Z",
     "start_time": "2024-10-13T21:20:22.740740Z"
    }
   },
   "cell_type": "code",
   "source": [
    "# Classification report em dicionário\n",
    "classification_report_ambiental_dict_under = metrics.classification_report(y_test_ambientais_under, predicted_ambientais_under, digits=6, target_names=['Reconhecido', 'Não reconhecido'], output_dict=True)\n",
    "classification_report_materiais_dict_under = metrics.classification_report(y_test_materiais_under, predicted_materiais_under, digits=6, target_names=['Reconhecido', 'Não reconhecido'], output_dict=True)\n",
    "classification_report_humanos_dict_under = metrics.classification_report(y_test_humanos_under, predicted_humanos_under, digits=6, target_names=['Reconhecido', 'Não reconhecido'], output_dict=True)\n",
    "\n",
    "# DataFrame\n",
    "df_ambiental_under = pd.DataFrame(classification_report_ambiental_dict_under).transpose()\n",
    "df_materiais_under = pd.DataFrame(classification_report_materiais_dict_under).transpose()\n",
    "df_humanos_under = pd.DataFrame(classification_report_humanos_dict_under).transpose()\n",
    "\n",
    "df_ambiental_under.columns = [f\"{col}_ambientais\" for col in df_ambiental_under.columns]\n",
    "df_materiais_under.columns = [f\"{col}_materiais\" for col in df_materiais_under.columns]\n",
    "df_humanos_under.columns = [f\"{col}_humanos\" for col in df_humanos_under.columns]\n",
    "\n",
    "df_comparativo_danos_under = pd.concat([df_ambiental_under, df_materiais_under, df_humanos_under], axis=1)\n",
    "\n",
    "df_comparativo_danos_under"
   ],
   "id": "224898ec04519537",
   "outputs": [
    {
     "data": {
      "text/plain": [
       "                 precision_ambientais  recall_ambientais  f1-score_ambientais  \\\n",
       "Reconhecido                  0.700000           0.750865             0.724541   \n",
       "Não reconhecido              0.714286           0.659341             0.685714   \n",
       "accuracy                     0.706406           0.706406             0.706406   \n",
       "macro avg                    0.707143           0.705103             0.705128   \n",
       "weighted avg                 0.706940           0.706406             0.705680   \n",
       "\n",
       "                 support_ambientais  precision_materiais  recall_materiais  \\\n",
       "Reconhecido              289.000000             0.549763          0.517857   \n",
       "Não reconhecido          273.000000             0.684211          0.711246   \n",
       "accuracy                   0.706406             0.632911          0.632911   \n",
       "macro avg                562.000000             0.616987          0.614552   \n",
       "weighted avg             562.000000             0.629751          0.632911   \n",
       "\n",
       "                 f1-score_materiais  support_materiais  precision_humanos  \\\n",
       "Reconhecido                0.533333         224.000000           0.710526   \n",
       "Não reconhecido            0.697466         329.000000           0.671795   \n",
       "accuracy                   0.632911           0.632911           0.689891   \n",
       "macro avg                  0.615400         553.000000           0.691161   \n",
       "weighted avg               0.630982         553.000000           0.691425   \n",
       "\n",
       "                 recall_humanos  f1-score_humanos  support_humanos  \n",
       "Reconhecido            0.654987          0.681627       371.000000  \n",
       "Não reconhecido        0.725762          0.697736       361.000000  \n",
       "accuracy               0.689891          0.689891         0.689891  \n",
       "macro avg              0.690374          0.689682       732.000000  \n",
       "weighted avg           0.689891          0.689572       732.000000  "
      ],
      "text/html": [
       "<div>\n",
       "<style scoped>\n",
       "    .dataframe tbody tr th:only-of-type {\n",
       "        vertical-align: middle;\n",
       "    }\n",
       "\n",
       "    .dataframe tbody tr th {\n",
       "        vertical-align: top;\n",
       "    }\n",
       "\n",
       "    .dataframe thead th {\n",
       "        text-align: right;\n",
       "    }\n",
       "</style>\n",
       "<table border=\"1\" class=\"dataframe\">\n",
       "  <thead>\n",
       "    <tr style=\"text-align: right;\">\n",
       "      <th></th>\n",
       "      <th>precision_ambientais</th>\n",
       "      <th>recall_ambientais</th>\n",
       "      <th>f1-score_ambientais</th>\n",
       "      <th>support_ambientais</th>\n",
       "      <th>precision_materiais</th>\n",
       "      <th>recall_materiais</th>\n",
       "      <th>f1-score_materiais</th>\n",
       "      <th>support_materiais</th>\n",
       "      <th>precision_humanos</th>\n",
       "      <th>recall_humanos</th>\n",
       "      <th>f1-score_humanos</th>\n",
       "      <th>support_humanos</th>\n",
       "    </tr>\n",
       "  </thead>\n",
       "  <tbody>\n",
       "    <tr>\n",
       "      <th>Reconhecido</th>\n",
       "      <td>0.700000</td>\n",
       "      <td>0.750865</td>\n",
       "      <td>0.724541</td>\n",
       "      <td>289.000000</td>\n",
       "      <td>0.549763</td>\n",
       "      <td>0.517857</td>\n",
       "      <td>0.533333</td>\n",
       "      <td>224.000000</td>\n",
       "      <td>0.710526</td>\n",
       "      <td>0.654987</td>\n",
       "      <td>0.681627</td>\n",
       "      <td>371.000000</td>\n",
       "    </tr>\n",
       "    <tr>\n",
       "      <th>Não reconhecido</th>\n",
       "      <td>0.714286</td>\n",
       "      <td>0.659341</td>\n",
       "      <td>0.685714</td>\n",
       "      <td>273.000000</td>\n",
       "      <td>0.684211</td>\n",
       "      <td>0.711246</td>\n",
       "      <td>0.697466</td>\n",
       "      <td>329.000000</td>\n",
       "      <td>0.671795</td>\n",
       "      <td>0.725762</td>\n",
       "      <td>0.697736</td>\n",
       "      <td>361.000000</td>\n",
       "    </tr>\n",
       "    <tr>\n",
       "      <th>accuracy</th>\n",
       "      <td>0.706406</td>\n",
       "      <td>0.706406</td>\n",
       "      <td>0.706406</td>\n",
       "      <td>0.706406</td>\n",
       "      <td>0.632911</td>\n",
       "      <td>0.632911</td>\n",
       "      <td>0.632911</td>\n",
       "      <td>0.632911</td>\n",
       "      <td>0.689891</td>\n",
       "      <td>0.689891</td>\n",
       "      <td>0.689891</td>\n",
       "      <td>0.689891</td>\n",
       "    </tr>\n",
       "    <tr>\n",
       "      <th>macro avg</th>\n",
       "      <td>0.707143</td>\n",
       "      <td>0.705103</td>\n",
       "      <td>0.705128</td>\n",
       "      <td>562.000000</td>\n",
       "      <td>0.616987</td>\n",
       "      <td>0.614552</td>\n",
       "      <td>0.615400</td>\n",
       "      <td>553.000000</td>\n",
       "      <td>0.691161</td>\n",
       "      <td>0.690374</td>\n",
       "      <td>0.689682</td>\n",
       "      <td>732.000000</td>\n",
       "    </tr>\n",
       "    <tr>\n",
       "      <th>weighted avg</th>\n",
       "      <td>0.706940</td>\n",
       "      <td>0.706406</td>\n",
       "      <td>0.705680</td>\n",
       "      <td>562.000000</td>\n",
       "      <td>0.629751</td>\n",
       "      <td>0.632911</td>\n",
       "      <td>0.630982</td>\n",
       "      <td>553.000000</td>\n",
       "      <td>0.691425</td>\n",
       "      <td>0.689891</td>\n",
       "      <td>0.689572</td>\n",
       "      <td>732.000000</td>\n",
       "    </tr>\n",
       "  </tbody>\n",
       "</table>\n",
       "</div>"
      ]
     },
     "execution_count": 8,
     "metadata": {},
     "output_type": "execute_result"
    }
   ],
   "execution_count": 8
  },
  {
   "metadata": {},
   "cell_type": "markdown",
   "source": "#### Matriz de confusão",
   "id": "ce4e96e83bab646f"
  },
  {
   "metadata": {
    "tags": [
     "hide-input"
    ],
    "ExecuteTime": {
     "end_time": "2024-10-13T21:20:23.980008Z",
     "start_time": "2024-10-13T21:20:23.638717Z"
    }
   },
   "cell_type": "code",
   "source": [
    "# Configurações\n",
    "cmap = plt.cm.Blues\n",
    "labels = ['Reconhecido', 'Não reconhecido']\n",
    "\n",
    "# Subplots\n",
    "fig, axes = plt.subplots(1, 3, figsize=(15, 5))  \n",
    "\n",
    "# Matriz de confusão para 'classificador_humanos'\n",
    "ConfusionMatrixDisplay.from_estimator(classificador_humanos_under, X_test_humanos_under, y_test_humanos_under, \n",
    "                                      values_format='d', ax=axes[0], cmap=cmap, display_labels=labels)  # Especifica o subplot 1\n",
    "axes[0].set_title('Danos Humanos')\n",
    "\n",
    "# Matriz de confusão para 'classificador_materiais'\n",
    "ConfusionMatrixDisplay.from_estimator(classificador_materiais_under, X_test_materiais_under, y_test_materiais_under, \n",
    "                                      values_format='d', ax=axes[1], cmap=cmap, display_labels=labels)  # Especifica o subplot 2\n",
    "axes[1].set_title('Danos Materiais')\n",
    "\n",
    "# Matriz de confusão para 'classificador_ambiental'\n",
    "ConfusionMatrixDisplay.from_estimator(classificador_ambientais_under, X_test_ambientais_under, y_test_ambientais_under, \n",
    "                                      values_format='d', ax=axes[2], cmap=cmap, display_labels=labels)  # Especifica o subplot 3\n",
    "axes[2].set_title('Danos Ambientais')\n",
    "\n",
    "# Exibir o gráfico\n",
    "plt.tight_layout()  # Ajusta os espaçamentos entre os gráficos para evitar sobreposição\n",
    "plt.show()"
   ],
   "id": "ab27b817d8e99469",
   "outputs": [
    {
     "data": {
      "text/plain": [
       "<Figure size 1500x500 with 6 Axes>"
      ],
      "image/png": "[encoded data removed]"
     },
     "metadata": {},
     "output_type": "display_data"
    }
   ],
   "execution_count": 9
  }
 ],
 "metadata": {
  "kernelspec": {
   "display_name": "Python 3",
   "language": "python",
   "name": "python3"
  },
  "language_info": {
   "codemirror_mode": {
    "name": "ipython",
    "version": 2
   },
   "file_extension": ".py",
   "mimetype": "text/x-python",
   "name": "python",
   "nbconvert_exporter": "python",
   "pygments_lexer": "ipython2",
   "version": "2.7.6"
  }
 },
 "nbformat": 4,
 "nbformat_minor": 5
}
