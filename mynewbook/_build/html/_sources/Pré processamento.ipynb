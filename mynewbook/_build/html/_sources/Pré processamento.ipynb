{
 "cells": [
  {
   "cell_type": "markdown",
   "id": "86792468224c0bf2",
   "metadata": {},
   "source": "## Pré processamento dos dados"
  },
  {
   "cell_type": "markdown",
   "id": "3d79fe7142325637",
   "metadata": {},
   "source": "### Bibliotecas"
  },
  {
   "cell_type": "code",
   "id": "31fa4fdf0b7482ea",
   "metadata": {
    "jupyter": {
     "source_hidden": true
    },
    "tags": [
     "hide-cell"
    ]
   },
   "source": [
    "#Bibliotecas\n",
    "import pandas as pd\n",
    "from sklearn.preprocessing import OneHotEncoder\n",
    "import numpy as np\n",
    "import seaborn as sns\n",
    "import matplotlib.pyplot as plt\n",
    "import warnings\n",
    "\n",
    "#Estilizar conteúdo\n",
    "warnings.filterwarnings('ignore')\n",
    "\n",
    "pd.set_option('display.max_rows', None)\n",
    "pd.set_option('display.max_columns', None)\n",
    "\n",
    "def estilo_tabelas(df, max_altura='300px', casas_decimais=3):\n",
    "    def cor_linhas(row):\n",
    "        if row.name % 2 == 0:\n",
    "            return ['background-color: #ffffff'] * len(row)\n",
    "        else:\n",
    "            return ['background-color: #f9f9f9'] * len(row)\n",
    "    \n",
    "    return (\n",
    "        df.style.apply(cor_linhas, axis=1) \n",
    "        .set_table_styles(\n",
    "            [\n",
    "                {'selector': 'thead th', 'props': [('font-size', '12px'), ('text-align', 'center'), ('border-bottom', '2px solid #007BFF')]},  # Azul abaixo do nome das colunas\n",
    "                {'selector': 'td', 'props': [('font-size', '10px'), ('text-align', 'center'), ('max-height', '40px'), ('white-space', 'nowrap'), ('text-overflow', 'ellipsis'), ('overflow', 'hidden'), ('max-width', '300px')]},\n",
    "                {'selector': 'table', 'props': [('width', '90%'), ('margin-left', 'auto'), ('margin-right', 'auto'), ('border-collapse', 'collapse')]},\n",
    "                {'selector': 'td, th', 'props': [('border', '1px solid #666')]},\n",
    "            ]\n",
    "        )\n",
    "        .set_properties(\n",
    "            **{'border-color': 'darkgray', 'border-style': 'solid', 'border-width': '1px'}\n",
    "        )\n",
    "        .set_table_attributes(\n",
    "            f'style=\"height:auto; overflow:auto; max-height:{max_altura}; display:block;\"'  \n",
    "        )\n",
    "        .format(\n",
    "            precision=casas_decimais  \n",
    "        )\n",
    "    )"
   ],
   "outputs": [],
   "execution_count": null
  },
  {
   "metadata": {},
   "cell_type": "markdown",
   "source": "### Base de dados",
   "id": "cb299bc2ce4f7351"
  },
  {
   "cell_type": "code",
   "id": "1d2b713caa417272",
   "metadata": {
    "jupyter": {
     "source_hidden": true
    },
    "tags": [
     "hide-input"
    ]
   },
   "source": [
    "object_columns = ['Protocolo_S2iD', 'Nome_Municipio', 'Sigla_UF', 'regiao',\n",
    "                  'Setores Censitários', 'Status', 'DH_Descricao', 'DM_Descricao',\n",
    "                  'DA_Descricao', 'DA_Polui/cont da água', 'DA_Polui/cont do ar',\n",
    "                  'DA_Polui/cont do solo', 'DA_Dimi/exauri hídrico',\n",
    "                  \"DA_Incêndi parques/APA's/APP's\", 'PEPL_Descricao', 'PEPR_Descricao',\n",
    "                  'Categoria', 'Grupo', 'Subgrupo', 'Tipo', 'Subtipo']\n",
    "\n",
    "dtype = {col: 'object' for col in object_columns}\n",
    "\n",
    "df_eventos = pd.read_csv(\n",
    "    \"https://raw.githubusercontent.com/brunagmoura/PrevisorReconhecimento/refs/heads/main/df_eventos_desastres_rec_nrec.csv\",\n",
    "    sep=';',\n",
    "    dtype = dtype,\n",
    "    decimal=',',\n",
    ")\n",
    "\n",
    "estilo_tabelas(df_eventos.head(5))"
   ],
   "outputs": [],
   "execution_count": null
  },
  {
   "metadata": {},
   "cell_type": "markdown",
   "source": "### Exclusão de variáveis",
   "id": "fff3ff2e9d242e81"
  },
  {
   "metadata": {},
   "cell_type": "markdown",
   "source": [
    "#### Exclusão de variáveis que não serão adicionadas ao modelo\n",
    "\n",
    "As variáveis \"Protocolo_S2iD\", 'Nome_Municipio', 'Data_Registro', 'Data_Evento', 'Município - UF' não adicionam informações relevantes ao modelo.\n",
    "\n",
    "As variáveis 'DH_Descricao', 'DM_Descricao', 'DA_Descricao', 'PEPL_Descricao', 'PEPR_Descricao' se referem à descrição dos danos informados pelos municípios e serão tratados em um modelo separado de NLP.\n",
    "\n",
    "As variáveis 'Categoria', 'Grupo', 'Subgrupo', 'Tipo', 'Subtipo' são originadas da variável \"COBRADE\", a qual será utilizada para representar essas informações.\n",
    "\n",
    "As variáveis 'Area', 'PIB' e 'Pop' foram substituídas pelos índices \"Rendapercapita\" (PIB/População) e \"DensidadePop\" (Área/População).\n",
    "\n",
    "A variável PE_PLePR (prejuízo econômico do setor público e do setor privado) foi dividida entre \"Prejuízo econômico do setor público\" (PEPL_total_publico) e \"Prejuízo econômico do setor privado\" (PEPR_total_privado)."
   ],
   "id": "ee5a98fa7648d543"
  },
  {
   "cell_type": "code",
   "id": "d276aaa3918759c9",
   "metadata": {
    "jupyter": {
     "source_hidden": true
    },
    "tags": [
     "hide-input"
    ]
   },
   "source": [
    "#Criar a variável Rendapercapita como proxy para a renda do município\n",
    "\n",
    "df_eventos['Rendapercapita'] = df_eventos['PIB'] / df_eventos['Pop']\n",
    "\n",
    "#Excluir variáveis que não serão utilizadas nos modelos\n",
    "\n",
    "df_eventos = df_eventos.drop(\n",
    "    ['Protocolo_S2iD', 'Nome_Municipio', 'Data_Registro', 'Data_Evento', 'Município - UF', 'codigo_ibge', 'DH_Descricao', 'DM_Descricao', 'DA_Descricao', 'PEPL_Descricao', 'PEPR_Descricao',\n",
    "     'Categoria', 'Grupo', 'Subgrupo', 'Tipo', 'Subtipo', 'Setores Censitários', 'Area', 'PIB', 'Pop', 'PE_PLePR'], axis=1)"
   ],
   "outputs": [],
   "execution_count": null
  },
  {
   "metadata": {},
   "cell_type": "markdown",
   "source": [
    "#### Exclusão das variáveis com mais de 50% de dados ausentes\n",
    "\n",
    "Na base de dados há variáveis que são ausentes em mais de 50% das variáveis, conforme capítulo \"Análise exploratória de dados - Dados ausentes\"."
   ],
   "id": "9cf8174d52b3061"
  },
  {
   "cell_type": "code",
   "id": "fb9f78c1014890f5",
   "metadata": {
    "jupyter": {
     "source_hidden": true
    },
    "tags": [
     "hide-input"
    ]
   },
   "source": [
    "df_na_counts = df_eventos.isna().sum().reset_index().rename(columns={0: 'Qtde. dados ausentes', 'index': 'Variável'})\n",
    "df_na_counts['% de dados ausentes'] = (df_na_counts['Qtde. dados ausentes'] / len(df_eventos)) * 100\n",
    "colunas_mantidas = df_na_counts[df_na_counts['% de dados ausentes'] < 50]['Variável']\n",
    "df_eventos = df_eventos[colunas_mantidas]\n",
    "print(\"Colunas mantidas: \", df_eventos.columns)"
   ],
   "outputs": [],
   "execution_count": null
  },
  {
   "cell_type": "markdown",
   "id": "7d7b081ad14e9a31",
   "metadata": {},
   "source": "### Encoding das variáveis categóricas"
  },
  {
   "metadata": {},
   "cell_type": "markdown",
   "source": [
    "#### One hot enconding\n",
    "\n",
    "Aplicação do \"one hot encoding\" nas variáveis \"Sigla_UF\", \"regiao\" e \"COBRADE\". "
   ],
   "id": "f8f5ebded3c66d83"
  },
  {
   "cell_type": "code",
   "id": "518fcc723a9890de",
   "metadata": {
    "jupyter": {
     "source_hidden": true
    },
    "tags": [
     "hide-input"
    ]
   },
   "source": [
    "encoder = OneHotEncoder(sparse_output=False, drop=None)  \n",
    "categorias = ['Sigla_UF', 'regiao', 'COBRADE']\n",
    "one_hot_encoded = encoder.fit_transform(df_eventos[categorias])\n",
    "\n",
    "one_hot_df = pd.DataFrame(one_hot_encoded, columns=encoder.get_feature_names_out(categorias))\n",
    "\n",
    "df_eventos = pd.concat([df_eventos.drop(columns=categorias), one_hot_df], axis=1)"
   ],
   "outputs": [],
   "execution_count": null
  },
  {
   "metadata": {},
   "cell_type": "markdown",
   "source": [
    "#### Enconding da variável dependente \"Status\"\n",
    "\n",
    " Atribuição do valor 0 para o Status \"Reconhecido\" e \"1\" para o Status \"Não reconhecido\"."
   ],
   "id": "ed3524e91615ade9"
  },
  {
   "metadata": {
    "tags": [
     "hide-input"
    ]
   },
   "cell_type": "code",
   "source": "df_eventos['Status'] = df_eventos['Status'].map({'Reconhecido': 0, 'Não reconhecido': 1})",
   "id": "93f891ab1b177518",
   "outputs": [],
   "execution_count": null
  },
  {
   "metadata": {},
   "cell_type": "code",
   "source": "df_eventos.head(5)",
   "id": "89c9f7812ea9b9ee",
   "outputs": [],
   "execution_count": null
  },
  {
   "metadata": {},
   "cell_type": "markdown",
   "source": [
    "### Shuffle das variáveis\n",
    "\n",
    "O objetivo é evitar a ordenação no treino."
   ],
   "id": "86df232994ccbd13"
  },
  {
   "metadata": {},
   "cell_type": "code",
   "source": "df_eventos = df_eventos.sample(frac=1, random_state=1).reset_index(drop=True)",
   "id": "721d8dd1dccaf8e0",
   "outputs": [],
   "execution_count": null
  },
  {
   "metadata": {},
   "cell_type": "markdown",
   "source": [
    "### Separar a base de dados em dois períodos\n",
    "\n",
    "A base de dados utilizada apresenta uma particularidade quanto à disponibilidade das informações. \n",
    "\n",
    "Os dados referentes à situação das famílias em risco (CadÚnico) estão acessíveis apenas a partir de 2018. Por sua vez, os dados do produto interno bruto dos municípios, utilizados para calcular a renda per capita, estão disponíveis apenas até 2021.\n",
    "\n",
    "Para evitar a exclusão dessas variáveis devido aos dados ausentes nos períodos anteriores a esse ano, optamos por dividir a base em duas partes para os testes dos modelos de classificação.\n",
    "\n",
    "A base \"pré-processado 1\" abrange o período de 2010 a 2017 e não inclui as variáveis relacionadas ao CadÚnico. Em contrapartida, a base \"pré-processado 2\" cobre o período de 2018 a 2024 e incorpora as variáveis do CadÚnico, mas exclui a variável \"Rendapercapita\"."
   ],
   "id": "fe478bf335a5c2f2"
  },
  {
   "metadata": {
    "tags": [
     "hide-input"
    ]
   },
   "cell_type": "code",
   "source": [
    "df_eventos_2010_2017 = df_eventos[df_eventos['Ano_Evento'] <= 2017]\n",
    "cadunico = ['DOMICILIO_AREARURAL', 'PDEFAGUA', 'PDEFESGOTO', 'PDEFLIXO', 'PDEFSAN', 'QTDE_FAMILIAS_ATUALIZADAS']\n",
    "df_eventos_2010_2017 = df_eventos_2010_2017.drop(columns=cadunico)\n",
    "\n",
    "print(\"Tamanho da base (2010 a 2017): \", df_eventos_2010_2017.shape)\n",
    "print(\"Dados ausentes na base (2010 a 2017) \\n\", df_eventos_2010_2017.isna().sum())"
   ],
   "id": "fb77afe9792e3d3b",
   "outputs": [],
   "execution_count": null
  },
  {
   "metadata": {
    "tags": [
     "hide-input"
    ]
   },
   "cell_type": "code",
   "source": [
    "df_eventos_2018_2024 = df_eventos[(df_eventos['Ano_Evento'] >= 2018)]\n",
    "df_eventos_2018_2024 = df_eventos_2018_2024.drop(columns=\"Rendapercapita\")\n",
    "\n",
    "print(\"Tamanho da base (2018 a 2024): \", df_eventos_2018_2024.shape)\n",
    "print(\"Dados ausentes na base (2018 a 2024) \\n\", df_eventos_2018_2024.isna().sum())"
   ],
   "id": "a144b88f35139b3e",
   "outputs": [],
   "execution_count": null
  },
  {
   "metadata": {},
   "cell_type": "markdown",
   "source": [
    "### Separar as bases de dados em dois modelos\n",
    "As bases de dados geradas contêm variáveis derivadas umas das outras (por exemplo, a variável \"DH_total_danos_humanos\" é a soma das demais variáveis relacionadas a danos humanos — mais detalhes estão disponíveis na página de introdução, onde essas variáveis são descritas).\n",
    "\n",
    "Para possibilitar a realização dos testes de maneira adequada, foram criadas duas bases de dados distintas.\n",
    "\n",
    "A primeira base, utilizada no modelo 1, considera variáveis agregadas, sendo elas: região; DH_total_danos_humanos; DM_total_danos_materiais; PEPL_total_publico; PEPR_total_privado; Empenhado; DensidadePop; Rendapercapita; COBRADE.\n",
    "\n",
    "Já a segunda base, usada no modelo 2, trabalha com variáveis individualizadas, incluindo: UF; todas as variáveis \"DH_\" (exceto DH_total_danos_humanos); todas as variáveis \"DM_\" (exceto DM_total_danos_materiais); todas as variáveis \"PEPL_\" (exceto PEPL_total_publico); todas as variáveis \"PEPR_\" (exceto PEPR_total_privado); Empenhado; DensidadePop; Rendapercapita; COBRADE.\n",
    "\n"
   ],
   "id": "b9f0a4e6545d4e2"
  },
  {
   "metadata": {
    "tags": [
     "hide-input"
    ]
   },
   "cell_type": "code",
   "source": [
    "colunas_modelo1 = [\n",
    "    'Status',\n",
    "    'DH_total_danos_humanos',\n",
    "    'DM_total_danos_materiais',\n",
    "    'PEPL_total_publico',\n",
    "    'PEPR_total_privado',\n",
    "    'regiao_Centro-oeste',\n",
    "    'regiao_Nordeste',\n",
    "    'regiao_Norte',\n",
    "    'regiao_Sudeste',\n",
    "    'regiao_Sul',\n",
    "    'COBRADE_11110',\n",
    "    'COBRADE_11120',\n",
    "    'COBRADE_11311',\n",
    "    'COBRADE_11312',\n",
    "    'COBRADE_11313',\n",
    "    'COBRADE_11321',\n",
    "    'COBRADE_11331',\n",
    "    'COBRADE_11332',\n",
    "    'COBRADE_11340',\n",
    "    'COBRADE_11410',\n",
    "    'COBRADE_11420',\n",
    "    'COBRADE_11431',\n",
    "    'COBRADE_11432',\n",
    "    'COBRADE_11433',\n",
    "    'COBRADE_12100',\n",
    "    'COBRADE_12200',\n",
    "    'COBRADE_12300',\n",
    "    'COBRADE_13111',\n",
    "    'COBRADE_13112',\n",
    "    'COBRADE_13120',\n",
    "    'COBRADE_13211',\n",
    "    'COBRADE_13212',\n",
    "    'COBRADE_13213',\n",
    "    'COBRADE_13214',\n",
    "    'COBRADE_13215',\n",
    "    'COBRADE_13310',\n",
    "    'COBRADE_13321',\n",
    "    'COBRADE_13322',\n",
    "    'COBRADE_14110',\n",
    "    'COBRADE_14120',\n",
    "    'COBRADE_14131',\n",
    "    'COBRADE_14132',\n",
    "    'COBRADE_14140',\n",
    "    'COBRADE_15110',\n",
    "    'COBRADE_15120',\n",
    "    'COBRADE_15130',\n",
    "    'COBRADE_15210',\n",
    "    'COBRADE_15230',\n",
    "    'COBRADE_22210',\n",
    "    'COBRADE_22220',\n",
    "    'COBRADE_23120',\n",
    "    'COBRADE_24100',\n",
    "    'COBRADE_24200',\n",
    "    'COBRADE_25100',\n",
    "    'COBRADE_25500'\n",
    "]\n",
    "\n",
    "colunas_CadUnico = [\n",
    "    'DOMICILIO_AREARURAL',\n",
    "    'PDEFAGUA',\n",
    "    'PDEFESGOTO',\n",
    "    'PDEFLIXO',\n",
    "    'PDEFSAN',\n",
    "    'QTDE_FAMILIAS_ATUALIZADAS'\n",
    "]\n",
    "\n",
    "colunas_Renda = [\n",
    "    'Rendapercapita'\n",
    "]\n",
    "\n",
    "df_eventos_2010_2017_modelo1 = df_eventos_2010_2017[colunas_modelo1 + colunas_Renda]\n",
    "\n",
    "df_eventos_2018_2024_modelo1 = df_eventos_2018_2024[colunas_modelo1 + colunas_CadUnico]\n"
   ],
   "id": "48cc396d2014d32e",
   "outputs": [],
   "execution_count": null
  },
  {
   "metadata": {},
   "cell_type": "markdown",
   "source": "Modelo 1 e período 2010 - 2017",
   "id": "2baad11a5ad707d9"
  },
  {
   "metadata": {
    "tags": [
     "hide-input"
    ]
   },
   "cell_type": "code",
   "source": [
    "print(\"Dimensões da base de dados 2010-2017, modelo 1: \", df_eventos_2010_2017_modelo1.shape)\n",
    "estilo_tabelas(df_eventos_2010_2017_modelo1.head(5))"
   ],
   "id": "c1460f8a55b3b177",
   "outputs": [],
   "execution_count": null
  },
  {
   "metadata": {},
   "cell_type": "markdown",
   "source": "Modelo 1 e período 2018 - 2024",
   "id": "c9700a2ed969d32a"
  },
  {
   "metadata": {
    "tags": [
     "hide-input"
    ],
    "ExecuteTime": {
     "end_time": "2024-10-15T20:55:24.326523Z",
     "start_time": "2024-10-15T20:55:24.291012Z"
    }
   },
   "cell_type": "code",
   "source": [
    "print(\"Dimensões da base de dados 2018-2024, modelo 1: \", df_eventos_2018_2024_modelo1.shape)\n",
    "estilo_tabelas(df_eventos_2018_2024_modelo1.head(5))"
   ],
   "id": "84ef8b707f3d992e",
   "outputs": [
    {
     "name": "stdout",
     "output_type": "stream",
     "text": [
      "Dimensões da base de dados 2018-2024, modelo 1:  (13211, 60)\n"
     ]
    },
    {
     "data": {
      "text/plain": [
       "<pandas.io.formats.style.Styler at 0x13b5b8340>"
      ],
      "text/html": [
       "<style type=\"text/css\">\n",
       "#T_0fefe thead th {\n",
       "  font-size: 12px;\n",
       "  text-align: center;\n",
       "  border-bottom: 2px solid #007BFF;\n",
       "}\n",
       "#T_0fefe td {\n",
       "  font-size: 10px;\n",
       "  text-align: center;\n",
       "  max-height: 40px;\n",
       "  white-space: nowrap;\n",
       "  text-overflow: ellipsis;\n",
       "  overflow: hidden;\n",
       "  max-width: 300px;\n",
       "}\n",
       "#T_0fefe table {\n",
       "  width: 90%;\n",
       "  margin-left: auto;\n",
       "  margin-right: auto;\n",
       "  border-collapse: collapse;\n",
       "}\n",
       "#T_0fefe td {\n",
       "  border: 1px solid #666;\n",
       "}\n",
       "#T_0fefe  th {\n",
       "  border: 1px solid #666;\n",
       "}\n",
       "#T_0fefe_row0_col0, #T_0fefe_row0_col1, #T_0fefe_row0_col2, #T_0fefe_row0_col3, #T_0fefe_row0_col4, #T_0fefe_row0_col5, #T_0fefe_row0_col6, #T_0fefe_row0_col7, #T_0fefe_row0_col8, #T_0fefe_row0_col9, #T_0fefe_row0_col10, #T_0fefe_row0_col11, #T_0fefe_row0_col12, #T_0fefe_row0_col13, #T_0fefe_row0_col14, #T_0fefe_row0_col15, #T_0fefe_row0_col16, #T_0fefe_row0_col17, #T_0fefe_row0_col18, #T_0fefe_row0_col19, #T_0fefe_row0_col20, #T_0fefe_row0_col21, #T_0fefe_row0_col22, #T_0fefe_row0_col23, #T_0fefe_row0_col24, #T_0fefe_row0_col25, #T_0fefe_row0_col26, #T_0fefe_row0_col27, #T_0fefe_row0_col28, #T_0fefe_row0_col29, #T_0fefe_row0_col30, #T_0fefe_row0_col31, #T_0fefe_row0_col32, #T_0fefe_row0_col33, #T_0fefe_row0_col34, #T_0fefe_row0_col35, #T_0fefe_row0_col36, #T_0fefe_row0_col37, #T_0fefe_row0_col38, #T_0fefe_row0_col39, #T_0fefe_row0_col40, #T_0fefe_row0_col41, #T_0fefe_row0_col42, #T_0fefe_row0_col43, #T_0fefe_row0_col44, #T_0fefe_row0_col45, #T_0fefe_row0_col46, #T_0fefe_row0_col47, #T_0fefe_row0_col48, #T_0fefe_row0_col49, #T_0fefe_row0_col50, #T_0fefe_row0_col51, #T_0fefe_row0_col52, #T_0fefe_row0_col53, #T_0fefe_row0_col54, #T_0fefe_row0_col55, #T_0fefe_row0_col56, #T_0fefe_row0_col57, #T_0fefe_row0_col58, #T_0fefe_row0_col59, #T_0fefe_row2_col0, #T_0fefe_row2_col1, #T_0fefe_row2_col2, #T_0fefe_row2_col3, #T_0fefe_row2_col4, #T_0fefe_row2_col5, #T_0fefe_row2_col6, #T_0fefe_row2_col7, #T_0fefe_row2_col8, #T_0fefe_row2_col9, #T_0fefe_row2_col10, #T_0fefe_row2_col11, #T_0fefe_row2_col12, #T_0fefe_row2_col13, #T_0fefe_row2_col14, #T_0fefe_row2_col15, #T_0fefe_row2_col16, #T_0fefe_row2_col17, #T_0fefe_row2_col18, #T_0fefe_row2_col19, #T_0fefe_row2_col20, #T_0fefe_row2_col21, #T_0fefe_row2_col22, #T_0fefe_row2_col23, #T_0fefe_row2_col24, #T_0fefe_row2_col25, #T_0fefe_row2_col26, #T_0fefe_row2_col27, #T_0fefe_row2_col28, #T_0fefe_row2_col29, #T_0fefe_row2_col30, #T_0fefe_row2_col31, #T_0fefe_row2_col32, #T_0fefe_row2_col33, #T_0fefe_row2_col34, #T_0fefe_row2_col35, #T_0fefe_row2_col36, #T_0fefe_row2_col37, #T_0fefe_row2_col38, #T_0fefe_row2_col39, #T_0fefe_row2_col40, #T_0fefe_row2_col41, #T_0fefe_row2_col42, #T_0fefe_row2_col43, #T_0fefe_row2_col44, #T_0fefe_row2_col45, #T_0fefe_row2_col46, #T_0fefe_row2_col47, #T_0fefe_row2_col48, #T_0fefe_row2_col49, #T_0fefe_row2_col50, #T_0fefe_row2_col51, #T_0fefe_row2_col52, #T_0fefe_row2_col53, #T_0fefe_row2_col54, #T_0fefe_row2_col55, #T_0fefe_row2_col56, #T_0fefe_row2_col57, #T_0fefe_row2_col58, #T_0fefe_row2_col59, #T_0fefe_row4_col0, #T_0fefe_row4_col1, #T_0fefe_row4_col2, #T_0fefe_row4_col3, #T_0fefe_row4_col4, #T_0fefe_row4_col5, #T_0fefe_row4_col6, #T_0fefe_row4_col7, #T_0fefe_row4_col8, #T_0fefe_row4_col9, #T_0fefe_row4_col10, #T_0fefe_row4_col11, #T_0fefe_row4_col12, #T_0fefe_row4_col13, #T_0fefe_row4_col14, #T_0fefe_row4_col15, #T_0fefe_row4_col16, #T_0fefe_row4_col17, #T_0fefe_row4_col18, #T_0fefe_row4_col19, #T_0fefe_row4_col20, #T_0fefe_row4_col21, #T_0fefe_row4_col22, #T_0fefe_row4_col23, #T_0fefe_row4_col24, #T_0fefe_row4_col25, #T_0fefe_row4_col26, #T_0fefe_row4_col27, #T_0fefe_row4_col28, #T_0fefe_row4_col29, #T_0fefe_row4_col30, #T_0fefe_row4_col31, #T_0fefe_row4_col32, #T_0fefe_row4_col33, #T_0fefe_row4_col34, #T_0fefe_row4_col35, #T_0fefe_row4_col36, #T_0fefe_row4_col37, #T_0fefe_row4_col38, #T_0fefe_row4_col39, #T_0fefe_row4_col40, #T_0fefe_row4_col41, #T_0fefe_row4_col42, #T_0fefe_row4_col43, #T_0fefe_row4_col44, #T_0fefe_row4_col45, #T_0fefe_row4_col46, #T_0fefe_row4_col47, #T_0fefe_row4_col48, #T_0fefe_row4_col49, #T_0fefe_row4_col50, #T_0fefe_row4_col51, #T_0fefe_row4_col52, #T_0fefe_row4_col53, #T_0fefe_row4_col54, #T_0fefe_row4_col55, #T_0fefe_row4_col56, #T_0fefe_row4_col57, #T_0fefe_row4_col58, #T_0fefe_row4_col59 {\n",
       "  background-color: #ffffff;\n",
       "  border-color: darkgray;\n",
       "  border-style: solid;\n",
       "  border-width: 1px;\n",
       "}\n",
       "#T_0fefe_row1_col0, #T_0fefe_row1_col1, #T_0fefe_row1_col2, #T_0fefe_row1_col3, #T_0fefe_row1_col4, #T_0fefe_row1_col5, #T_0fefe_row1_col6, #T_0fefe_row1_col7, #T_0fefe_row1_col8, #T_0fefe_row1_col9, #T_0fefe_row1_col10, #T_0fefe_row1_col11, #T_0fefe_row1_col12, #T_0fefe_row1_col13, #T_0fefe_row1_col14, #T_0fefe_row1_col15, #T_0fefe_row1_col16, #T_0fefe_row1_col17, #T_0fefe_row1_col18, #T_0fefe_row1_col19, #T_0fefe_row1_col20, #T_0fefe_row1_col21, #T_0fefe_row1_col22, #T_0fefe_row1_col23, #T_0fefe_row1_col24, #T_0fefe_row1_col25, #T_0fefe_row1_col26, #T_0fefe_row1_col27, #T_0fefe_row1_col28, #T_0fefe_row1_col29, #T_0fefe_row1_col30, #T_0fefe_row1_col31, #T_0fefe_row1_col32, #T_0fefe_row1_col33, #T_0fefe_row1_col34, #T_0fefe_row1_col35, #T_0fefe_row1_col36, #T_0fefe_row1_col37, #T_0fefe_row1_col38, #T_0fefe_row1_col39, #T_0fefe_row1_col40, #T_0fefe_row1_col41, #T_0fefe_row1_col42, #T_0fefe_row1_col43, #T_0fefe_row1_col44, #T_0fefe_row1_col45, #T_0fefe_row1_col46, #T_0fefe_row1_col47, #T_0fefe_row1_col48, #T_0fefe_row1_col49, #T_0fefe_row1_col50, #T_0fefe_row1_col51, #T_0fefe_row1_col52, #T_0fefe_row1_col53, #T_0fefe_row1_col54, #T_0fefe_row1_col55, #T_0fefe_row1_col56, #T_0fefe_row1_col57, #T_0fefe_row1_col58, #T_0fefe_row1_col59, #T_0fefe_row3_col0, #T_0fefe_row3_col1, #T_0fefe_row3_col2, #T_0fefe_row3_col3, #T_0fefe_row3_col4, #T_0fefe_row3_col5, #T_0fefe_row3_col6, #T_0fefe_row3_col7, #T_0fefe_row3_col8, #T_0fefe_row3_col9, #T_0fefe_row3_col10, #T_0fefe_row3_col11, #T_0fefe_row3_col12, #T_0fefe_row3_col13, #T_0fefe_row3_col14, #T_0fefe_row3_col15, #T_0fefe_row3_col16, #T_0fefe_row3_col17, #T_0fefe_row3_col18, #T_0fefe_row3_col19, #T_0fefe_row3_col20, #T_0fefe_row3_col21, #T_0fefe_row3_col22, #T_0fefe_row3_col23, #T_0fefe_row3_col24, #T_0fefe_row3_col25, #T_0fefe_row3_col26, #T_0fefe_row3_col27, #T_0fefe_row3_col28, #T_0fefe_row3_col29, #T_0fefe_row3_col30, #T_0fefe_row3_col31, #T_0fefe_row3_col32, #T_0fefe_row3_col33, #T_0fefe_row3_col34, #T_0fefe_row3_col35, #T_0fefe_row3_col36, #T_0fefe_row3_col37, #T_0fefe_row3_col38, #T_0fefe_row3_col39, #T_0fefe_row3_col40, #T_0fefe_row3_col41, #T_0fefe_row3_col42, #T_0fefe_row3_col43, #T_0fefe_row3_col44, #T_0fefe_row3_col45, #T_0fefe_row3_col46, #T_0fefe_row3_col47, #T_0fefe_row3_col48, #T_0fefe_row3_col49, #T_0fefe_row3_col50, #T_0fefe_row3_col51, #T_0fefe_row3_col52, #T_0fefe_row3_col53, #T_0fefe_row3_col54, #T_0fefe_row3_col55, #T_0fefe_row3_col56, #T_0fefe_row3_col57, #T_0fefe_row3_col58, #T_0fefe_row3_col59 {\n",
       "  background-color: #f9f9f9;\n",
       "  border-color: darkgray;\n",
       "  border-style: solid;\n",
       "  border-width: 1px;\n",
       "}\n",
       "</style>\n",
       "<table id=\"T_0fefe\" style=\"height:auto; overflow:auto; max-height:300px; display:block;\">\n",
       "  <thead>\n",
       "    <tr>\n",
       "      <th class=\"blank level0\" >&nbsp;</th>\n",
       "      <th id=\"T_0fefe_level0_col0\" class=\"col_heading level0 col0\" >DH_total_danos_humanos</th>\n",
       "      <th id=\"T_0fefe_level0_col1\" class=\"col_heading level0 col1\" >DM_total_danos_materiais</th>\n",
       "      <th id=\"T_0fefe_level0_col2\" class=\"col_heading level0 col2\" >PEPL_total_publico</th>\n",
       "      <th id=\"T_0fefe_level0_col3\" class=\"col_heading level0 col3\" >PEPR_total_privado</th>\n",
       "      <th id=\"T_0fefe_level0_col4\" class=\"col_heading level0 col4\" >regiao_Centro-oeste</th>\n",
       "      <th id=\"T_0fefe_level0_col5\" class=\"col_heading level0 col5\" >regiao_Nordeste</th>\n",
       "      <th id=\"T_0fefe_level0_col6\" class=\"col_heading level0 col6\" >regiao_Norte</th>\n",
       "      <th id=\"T_0fefe_level0_col7\" class=\"col_heading level0 col7\" >regiao_Sudeste</th>\n",
       "      <th id=\"T_0fefe_level0_col8\" class=\"col_heading level0 col8\" >regiao_Sul</th>\n",
       "      <th id=\"T_0fefe_level0_col9\" class=\"col_heading level0 col9\" >COBRADE_11110</th>\n",
       "      <th id=\"T_0fefe_level0_col10\" class=\"col_heading level0 col10\" >COBRADE_11120</th>\n",
       "      <th id=\"T_0fefe_level0_col11\" class=\"col_heading level0 col11\" >COBRADE_11311</th>\n",
       "      <th id=\"T_0fefe_level0_col12\" class=\"col_heading level0 col12\" >COBRADE_11312</th>\n",
       "      <th id=\"T_0fefe_level0_col13\" class=\"col_heading level0 col13\" >COBRADE_11313</th>\n",
       "      <th id=\"T_0fefe_level0_col14\" class=\"col_heading level0 col14\" >COBRADE_11321</th>\n",
       "      <th id=\"T_0fefe_level0_col15\" class=\"col_heading level0 col15\" >COBRADE_11331</th>\n",
       "      <th id=\"T_0fefe_level0_col16\" class=\"col_heading level0 col16\" >COBRADE_11332</th>\n",
       "      <th id=\"T_0fefe_level0_col17\" class=\"col_heading level0 col17\" >COBRADE_11340</th>\n",
       "      <th id=\"T_0fefe_level0_col18\" class=\"col_heading level0 col18\" >COBRADE_11410</th>\n",
       "      <th id=\"T_0fefe_level0_col19\" class=\"col_heading level0 col19\" >COBRADE_11420</th>\n",
       "      <th id=\"T_0fefe_level0_col20\" class=\"col_heading level0 col20\" >COBRADE_11431</th>\n",
       "      <th id=\"T_0fefe_level0_col21\" class=\"col_heading level0 col21\" >COBRADE_11432</th>\n",
       "      <th id=\"T_0fefe_level0_col22\" class=\"col_heading level0 col22\" >COBRADE_11433</th>\n",
       "      <th id=\"T_0fefe_level0_col23\" class=\"col_heading level0 col23\" >COBRADE_12100</th>\n",
       "      <th id=\"T_0fefe_level0_col24\" class=\"col_heading level0 col24\" >COBRADE_12200</th>\n",
       "      <th id=\"T_0fefe_level0_col25\" class=\"col_heading level0 col25\" >COBRADE_12300</th>\n",
       "      <th id=\"T_0fefe_level0_col26\" class=\"col_heading level0 col26\" >COBRADE_13111</th>\n",
       "      <th id=\"T_0fefe_level0_col27\" class=\"col_heading level0 col27\" >COBRADE_13112</th>\n",
       "      <th id=\"T_0fefe_level0_col28\" class=\"col_heading level0 col28\" >COBRADE_13120</th>\n",
       "      <th id=\"T_0fefe_level0_col29\" class=\"col_heading level0 col29\" >COBRADE_13211</th>\n",
       "      <th id=\"T_0fefe_level0_col30\" class=\"col_heading level0 col30\" >COBRADE_13212</th>\n",
       "      <th id=\"T_0fefe_level0_col31\" class=\"col_heading level0 col31\" >COBRADE_13213</th>\n",
       "      <th id=\"T_0fefe_level0_col32\" class=\"col_heading level0 col32\" >COBRADE_13214</th>\n",
       "      <th id=\"T_0fefe_level0_col33\" class=\"col_heading level0 col33\" >COBRADE_13215</th>\n",
       "      <th id=\"T_0fefe_level0_col34\" class=\"col_heading level0 col34\" >COBRADE_13310</th>\n",
       "      <th id=\"T_0fefe_level0_col35\" class=\"col_heading level0 col35\" >COBRADE_13321</th>\n",
       "      <th id=\"T_0fefe_level0_col36\" class=\"col_heading level0 col36\" >COBRADE_13322</th>\n",
       "      <th id=\"T_0fefe_level0_col37\" class=\"col_heading level0 col37\" >COBRADE_14110</th>\n",
       "      <th id=\"T_0fefe_level0_col38\" class=\"col_heading level0 col38\" >COBRADE_14120</th>\n",
       "      <th id=\"T_0fefe_level0_col39\" class=\"col_heading level0 col39\" >COBRADE_14131</th>\n",
       "      <th id=\"T_0fefe_level0_col40\" class=\"col_heading level0 col40\" >COBRADE_14132</th>\n",
       "      <th id=\"T_0fefe_level0_col41\" class=\"col_heading level0 col41\" >COBRADE_14140</th>\n",
       "      <th id=\"T_0fefe_level0_col42\" class=\"col_heading level0 col42\" >COBRADE_15110</th>\n",
       "      <th id=\"T_0fefe_level0_col43\" class=\"col_heading level0 col43\" >COBRADE_15120</th>\n",
       "      <th id=\"T_0fefe_level0_col44\" class=\"col_heading level0 col44\" >COBRADE_15130</th>\n",
       "      <th id=\"T_0fefe_level0_col45\" class=\"col_heading level0 col45\" >COBRADE_15210</th>\n",
       "      <th id=\"T_0fefe_level0_col46\" class=\"col_heading level0 col46\" >COBRADE_15230</th>\n",
       "      <th id=\"T_0fefe_level0_col47\" class=\"col_heading level0 col47\" >COBRADE_22210</th>\n",
       "      <th id=\"T_0fefe_level0_col48\" class=\"col_heading level0 col48\" >COBRADE_22220</th>\n",
       "      <th id=\"T_0fefe_level0_col49\" class=\"col_heading level0 col49\" >COBRADE_23120</th>\n",
       "      <th id=\"T_0fefe_level0_col50\" class=\"col_heading level0 col50\" >COBRADE_24100</th>\n",
       "      <th id=\"T_0fefe_level0_col51\" class=\"col_heading level0 col51\" >COBRADE_24200</th>\n",
       "      <th id=\"T_0fefe_level0_col52\" class=\"col_heading level0 col52\" >COBRADE_25100</th>\n",
       "      <th id=\"T_0fefe_level0_col53\" class=\"col_heading level0 col53\" >COBRADE_25500</th>\n",
       "      <th id=\"T_0fefe_level0_col54\" class=\"col_heading level0 col54\" >DOMICILIO_AREARURAL</th>\n",
       "      <th id=\"T_0fefe_level0_col55\" class=\"col_heading level0 col55\" >PDEFAGUA</th>\n",
       "      <th id=\"T_0fefe_level0_col56\" class=\"col_heading level0 col56\" >PDEFESGOTO</th>\n",
       "      <th id=\"T_0fefe_level0_col57\" class=\"col_heading level0 col57\" >PDEFLIXO</th>\n",
       "      <th id=\"T_0fefe_level0_col58\" class=\"col_heading level0 col58\" >PDEFSAN</th>\n",
       "      <th id=\"T_0fefe_level0_col59\" class=\"col_heading level0 col59\" >QTDE_FAMILIAS_ATUALIZADAS</th>\n",
       "    </tr>\n",
       "  </thead>\n",
       "  <tbody>\n",
       "    <tr>\n",
       "      <th id=\"T_0fefe_level0_row0\" class=\"row_heading level0 row0\" >0</th>\n",
       "      <td id=\"T_0fefe_row0_col0\" class=\"data row0 col0\" >11650</td>\n",
       "      <td id=\"T_0fefe_row0_col1\" class=\"data row0 col1\" >0.000</td>\n",
       "      <td id=\"T_0fefe_row0_col2\" class=\"data row0 col2\" >132466.926</td>\n",
       "      <td id=\"T_0fefe_row0_col3\" class=\"data row0 col3\" >861035.020</td>\n",
       "      <td id=\"T_0fefe_row0_col4\" class=\"data row0 col4\" >0.000</td>\n",
       "      <td id=\"T_0fefe_row0_col5\" class=\"data row0 col5\" >1.000</td>\n",
       "      <td id=\"T_0fefe_row0_col6\" class=\"data row0 col6\" >0.000</td>\n",
       "      <td id=\"T_0fefe_row0_col7\" class=\"data row0 col7\" >0.000</td>\n",
       "      <td id=\"T_0fefe_row0_col8\" class=\"data row0 col8\" >0.000</td>\n",
       "      <td id=\"T_0fefe_row0_col9\" class=\"data row0 col9\" >0.000</td>\n",
       "      <td id=\"T_0fefe_row0_col10\" class=\"data row0 col10\" >0.000</td>\n",
       "      <td id=\"T_0fefe_row0_col11\" class=\"data row0 col11\" >0.000</td>\n",
       "      <td id=\"T_0fefe_row0_col12\" class=\"data row0 col12\" >0.000</td>\n",
       "      <td id=\"T_0fefe_row0_col13\" class=\"data row0 col13\" >0.000</td>\n",
       "      <td id=\"T_0fefe_row0_col14\" class=\"data row0 col14\" >0.000</td>\n",
       "      <td id=\"T_0fefe_row0_col15\" class=\"data row0 col15\" >0.000</td>\n",
       "      <td id=\"T_0fefe_row0_col16\" class=\"data row0 col16\" >0.000</td>\n",
       "      <td id=\"T_0fefe_row0_col17\" class=\"data row0 col17\" >0.000</td>\n",
       "      <td id=\"T_0fefe_row0_col18\" class=\"data row0 col18\" >0.000</td>\n",
       "      <td id=\"T_0fefe_row0_col19\" class=\"data row0 col19\" >0.000</td>\n",
       "      <td id=\"T_0fefe_row0_col20\" class=\"data row0 col20\" >0.000</td>\n",
       "      <td id=\"T_0fefe_row0_col21\" class=\"data row0 col21\" >0.000</td>\n",
       "      <td id=\"T_0fefe_row0_col22\" class=\"data row0 col22\" >0.000</td>\n",
       "      <td id=\"T_0fefe_row0_col23\" class=\"data row0 col23\" >0.000</td>\n",
       "      <td id=\"T_0fefe_row0_col24\" class=\"data row0 col24\" >0.000</td>\n",
       "      <td id=\"T_0fefe_row0_col25\" class=\"data row0 col25\" >0.000</td>\n",
       "      <td id=\"T_0fefe_row0_col26\" class=\"data row0 col26\" >0.000</td>\n",
       "      <td id=\"T_0fefe_row0_col27\" class=\"data row0 col27\" >0.000</td>\n",
       "      <td id=\"T_0fefe_row0_col28\" class=\"data row0 col28\" >0.000</td>\n",
       "      <td id=\"T_0fefe_row0_col29\" class=\"data row0 col29\" >0.000</td>\n",
       "      <td id=\"T_0fefe_row0_col30\" class=\"data row0 col30\" >0.000</td>\n",
       "      <td id=\"T_0fefe_row0_col31\" class=\"data row0 col31\" >0.000</td>\n",
       "      <td id=\"T_0fefe_row0_col32\" class=\"data row0 col32\" >0.000</td>\n",
       "      <td id=\"T_0fefe_row0_col33\" class=\"data row0 col33\" >0.000</td>\n",
       "      <td id=\"T_0fefe_row0_col34\" class=\"data row0 col34\" >0.000</td>\n",
       "      <td id=\"T_0fefe_row0_col35\" class=\"data row0 col35\" >0.000</td>\n",
       "      <td id=\"T_0fefe_row0_col36\" class=\"data row0 col36\" >0.000</td>\n",
       "      <td id=\"T_0fefe_row0_col37\" class=\"data row0 col37\" >0.000</td>\n",
       "      <td id=\"T_0fefe_row0_col38\" class=\"data row0 col38\" >1.000</td>\n",
       "      <td id=\"T_0fefe_row0_col39\" class=\"data row0 col39\" >0.000</td>\n",
       "      <td id=\"T_0fefe_row0_col40\" class=\"data row0 col40\" >0.000</td>\n",
       "      <td id=\"T_0fefe_row0_col41\" class=\"data row0 col41\" >0.000</td>\n",
       "      <td id=\"T_0fefe_row0_col42\" class=\"data row0 col42\" >0.000</td>\n",
       "      <td id=\"T_0fefe_row0_col43\" class=\"data row0 col43\" >0.000</td>\n",
       "      <td id=\"T_0fefe_row0_col44\" class=\"data row0 col44\" >0.000</td>\n",
       "      <td id=\"T_0fefe_row0_col45\" class=\"data row0 col45\" >0.000</td>\n",
       "      <td id=\"T_0fefe_row0_col46\" class=\"data row0 col46\" >0.000</td>\n",
       "      <td id=\"T_0fefe_row0_col47\" class=\"data row0 col47\" >0.000</td>\n",
       "      <td id=\"T_0fefe_row0_col48\" class=\"data row0 col48\" >0.000</td>\n",
       "      <td id=\"T_0fefe_row0_col49\" class=\"data row0 col49\" >0.000</td>\n",
       "      <td id=\"T_0fefe_row0_col50\" class=\"data row0 col50\" >0.000</td>\n",
       "      <td id=\"T_0fefe_row0_col51\" class=\"data row0 col51\" >0.000</td>\n",
       "      <td id=\"T_0fefe_row0_col52\" class=\"data row0 col52\" >0.000</td>\n",
       "      <td id=\"T_0fefe_row0_col53\" class=\"data row0 col53\" >0.000</td>\n",
       "      <td id=\"T_0fefe_row0_col54\" class=\"data row0 col54\" >0.305</td>\n",
       "      <td id=\"T_0fefe_row0_col55\" class=\"data row0 col55\" >0.191</td>\n",
       "      <td id=\"T_0fefe_row0_col56\" class=\"data row0 col56\" >0.559</td>\n",
       "      <td id=\"T_0fefe_row0_col57\" class=\"data row0 col57\" >0.167</td>\n",
       "      <td id=\"T_0fefe_row0_col58\" class=\"data row0 col58\" >0.091</td>\n",
       "      <td id=\"T_0fefe_row0_col59\" class=\"data row0 col59\" >383.000</td>\n",
       "    </tr>\n",
       "    <tr>\n",
       "      <th id=\"T_0fefe_level0_row1\" class=\"row_heading level0 row1\" >1</th>\n",
       "      <td id=\"T_0fefe_row1_col0\" class=\"data row1 col0\" >2548</td>\n",
       "      <td id=\"T_0fefe_row1_col1\" class=\"data row1 col1\" >0.000</td>\n",
       "      <td id=\"T_0fefe_row1_col2\" class=\"data row1 col2\" >103709.315</td>\n",
       "      <td id=\"T_0fefe_row1_col3\" class=\"data row1 col3\" >6509159.048</td>\n",
       "      <td id=\"T_0fefe_row1_col4\" class=\"data row1 col4\" >0.000</td>\n",
       "      <td id=\"T_0fefe_row1_col5\" class=\"data row1 col5\" >0.000</td>\n",
       "      <td id=\"T_0fefe_row1_col6\" class=\"data row1 col6\" >0.000</td>\n",
       "      <td id=\"T_0fefe_row1_col7\" class=\"data row1 col7\" >0.000</td>\n",
       "      <td id=\"T_0fefe_row1_col8\" class=\"data row1 col8\" >1.000</td>\n",
       "      <td id=\"T_0fefe_row1_col9\" class=\"data row1 col9\" >0.000</td>\n",
       "      <td id=\"T_0fefe_row1_col10\" class=\"data row1 col10\" >0.000</td>\n",
       "      <td id=\"T_0fefe_row1_col11\" class=\"data row1 col11\" >0.000</td>\n",
       "      <td id=\"T_0fefe_row1_col12\" class=\"data row1 col12\" >0.000</td>\n",
       "      <td id=\"T_0fefe_row1_col13\" class=\"data row1 col13\" >0.000</td>\n",
       "      <td id=\"T_0fefe_row1_col14\" class=\"data row1 col14\" >0.000</td>\n",
       "      <td id=\"T_0fefe_row1_col15\" class=\"data row1 col15\" >0.000</td>\n",
       "      <td id=\"T_0fefe_row1_col16\" class=\"data row1 col16\" >0.000</td>\n",
       "      <td id=\"T_0fefe_row1_col17\" class=\"data row1 col17\" >0.000</td>\n",
       "      <td id=\"T_0fefe_row1_col18\" class=\"data row1 col18\" >0.000</td>\n",
       "      <td id=\"T_0fefe_row1_col19\" class=\"data row1 col19\" >0.000</td>\n",
       "      <td id=\"T_0fefe_row1_col20\" class=\"data row1 col20\" >0.000</td>\n",
       "      <td id=\"T_0fefe_row1_col21\" class=\"data row1 col21\" >0.000</td>\n",
       "      <td id=\"T_0fefe_row1_col22\" class=\"data row1 col22\" >0.000</td>\n",
       "      <td id=\"T_0fefe_row1_col23\" class=\"data row1 col23\" >0.000</td>\n",
       "      <td id=\"T_0fefe_row1_col24\" class=\"data row1 col24\" >0.000</td>\n",
       "      <td id=\"T_0fefe_row1_col25\" class=\"data row1 col25\" >0.000</td>\n",
       "      <td id=\"T_0fefe_row1_col26\" class=\"data row1 col26\" >0.000</td>\n",
       "      <td id=\"T_0fefe_row1_col27\" class=\"data row1 col27\" >0.000</td>\n",
       "      <td id=\"T_0fefe_row1_col28\" class=\"data row1 col28\" >0.000</td>\n",
       "      <td id=\"T_0fefe_row1_col29\" class=\"data row1 col29\" >0.000</td>\n",
       "      <td id=\"T_0fefe_row1_col30\" class=\"data row1 col30\" >0.000</td>\n",
       "      <td id=\"T_0fefe_row1_col31\" class=\"data row1 col31\" >0.000</td>\n",
       "      <td id=\"T_0fefe_row1_col32\" class=\"data row1 col32\" >0.000</td>\n",
       "      <td id=\"T_0fefe_row1_col33\" class=\"data row1 col33\" >0.000</td>\n",
       "      <td id=\"T_0fefe_row1_col34\" class=\"data row1 col34\" >0.000</td>\n",
       "      <td id=\"T_0fefe_row1_col35\" class=\"data row1 col35\" >0.000</td>\n",
       "      <td id=\"T_0fefe_row1_col36\" class=\"data row1 col36\" >0.000</td>\n",
       "      <td id=\"T_0fefe_row1_col37\" class=\"data row1 col37\" >1.000</td>\n",
       "      <td id=\"T_0fefe_row1_col38\" class=\"data row1 col38\" >0.000</td>\n",
       "      <td id=\"T_0fefe_row1_col39\" class=\"data row1 col39\" >0.000</td>\n",
       "      <td id=\"T_0fefe_row1_col40\" class=\"data row1 col40\" >0.000</td>\n",
       "      <td id=\"T_0fefe_row1_col41\" class=\"data row1 col41\" >0.000</td>\n",
       "      <td id=\"T_0fefe_row1_col42\" class=\"data row1 col42\" >0.000</td>\n",
       "      <td id=\"T_0fefe_row1_col43\" class=\"data row1 col43\" >0.000</td>\n",
       "      <td id=\"T_0fefe_row1_col44\" class=\"data row1 col44\" >0.000</td>\n",
       "      <td id=\"T_0fefe_row1_col45\" class=\"data row1 col45\" >0.000</td>\n",
       "      <td id=\"T_0fefe_row1_col46\" class=\"data row1 col46\" >0.000</td>\n",
       "      <td id=\"T_0fefe_row1_col47\" class=\"data row1 col47\" >0.000</td>\n",
       "      <td id=\"T_0fefe_row1_col48\" class=\"data row1 col48\" >0.000</td>\n",
       "      <td id=\"T_0fefe_row1_col49\" class=\"data row1 col49\" >0.000</td>\n",
       "      <td id=\"T_0fefe_row1_col50\" class=\"data row1 col50\" >0.000</td>\n",
       "      <td id=\"T_0fefe_row1_col51\" class=\"data row1 col51\" >0.000</td>\n",
       "      <td id=\"T_0fefe_row1_col52\" class=\"data row1 col52\" >0.000</td>\n",
       "      <td id=\"T_0fefe_row1_col53\" class=\"data row1 col53\" >0.000</td>\n",
       "      <td id=\"T_0fefe_row1_col54\" class=\"data row1 col54\" >0.632</td>\n",
       "      <td id=\"T_0fefe_row1_col55\" class=\"data row1 col55\" >0.246</td>\n",
       "      <td id=\"T_0fefe_row1_col56\" class=\"data row1 col56\" >0.456</td>\n",
       "      <td id=\"T_0fefe_row1_col57\" class=\"data row1 col57\" >0.175</td>\n",
       "      <td id=\"T_0fefe_row1_col58\" class=\"data row1 col58\" >0.070</td>\n",
       "      <td id=\"T_0fefe_row1_col59\" class=\"data row1 col59\" >57.000</td>\n",
       "    </tr>\n",
       "    <tr>\n",
       "      <th id=\"T_0fefe_level0_row2\" class=\"row_heading level0 row2\" >2</th>\n",
       "      <td id=\"T_0fefe_row2_col0\" class=\"data row2 col0\" >336</td>\n",
       "      <td id=\"T_0fefe_row2_col1\" class=\"data row2 col1\" >2296093.386</td>\n",
       "      <td id=\"T_0fefe_row2_col2\" class=\"data row2 col2\" >1928129.702</td>\n",
       "      <td id=\"T_0fefe_row2_col3\" class=\"data row2 col3\" >0.000</td>\n",
       "      <td id=\"T_0fefe_row2_col4\" class=\"data row2 col4\" >0.000</td>\n",
       "      <td id=\"T_0fefe_row2_col5\" class=\"data row2 col5\" >0.000</td>\n",
       "      <td id=\"T_0fefe_row2_col6\" class=\"data row2 col6\" >1.000</td>\n",
       "      <td id=\"T_0fefe_row2_col7\" class=\"data row2 col7\" >0.000</td>\n",
       "      <td id=\"T_0fefe_row2_col8\" class=\"data row2 col8\" >0.000</td>\n",
       "      <td id=\"T_0fefe_row2_col9\" class=\"data row2 col9\" >0.000</td>\n",
       "      <td id=\"T_0fefe_row2_col10\" class=\"data row2 col10\" >0.000</td>\n",
       "      <td id=\"T_0fefe_row2_col11\" class=\"data row2 col11\" >0.000</td>\n",
       "      <td id=\"T_0fefe_row2_col12\" class=\"data row2 col12\" >0.000</td>\n",
       "      <td id=\"T_0fefe_row2_col13\" class=\"data row2 col13\" >0.000</td>\n",
       "      <td id=\"T_0fefe_row2_col14\" class=\"data row2 col14\" >0.000</td>\n",
       "      <td id=\"T_0fefe_row2_col15\" class=\"data row2 col15\" >0.000</td>\n",
       "      <td id=\"T_0fefe_row2_col16\" class=\"data row2 col16\" >0.000</td>\n",
       "      <td id=\"T_0fefe_row2_col17\" class=\"data row2 col17\" >0.000</td>\n",
       "      <td id=\"T_0fefe_row2_col18\" class=\"data row2 col18\" >0.000</td>\n",
       "      <td id=\"T_0fefe_row2_col19\" class=\"data row2 col19\" >0.000</td>\n",
       "      <td id=\"T_0fefe_row2_col20\" class=\"data row2 col20\" >0.000</td>\n",
       "      <td id=\"T_0fefe_row2_col21\" class=\"data row2 col21\" >0.000</td>\n",
       "      <td id=\"T_0fefe_row2_col22\" class=\"data row2 col22\" >0.000</td>\n",
       "      <td id=\"T_0fefe_row2_col23\" class=\"data row2 col23\" >0.000</td>\n",
       "      <td id=\"T_0fefe_row2_col24\" class=\"data row2 col24\" >0.000</td>\n",
       "      <td id=\"T_0fefe_row2_col25\" class=\"data row2 col25\" >0.000</td>\n",
       "      <td id=\"T_0fefe_row2_col26\" class=\"data row2 col26\" >0.000</td>\n",
       "      <td id=\"T_0fefe_row2_col27\" class=\"data row2 col27\" >0.000</td>\n",
       "      <td id=\"T_0fefe_row2_col28\" class=\"data row2 col28\" >0.000</td>\n",
       "      <td id=\"T_0fefe_row2_col29\" class=\"data row2 col29\" >0.000</td>\n",
       "      <td id=\"T_0fefe_row2_col30\" class=\"data row2 col30\" >0.000</td>\n",
       "      <td id=\"T_0fefe_row2_col31\" class=\"data row2 col31\" >0.000</td>\n",
       "      <td id=\"T_0fefe_row2_col32\" class=\"data row2 col32\" >1.000</td>\n",
       "      <td id=\"T_0fefe_row2_col33\" class=\"data row2 col33\" >0.000</td>\n",
       "      <td id=\"T_0fefe_row2_col34\" class=\"data row2 col34\" >0.000</td>\n",
       "      <td id=\"T_0fefe_row2_col35\" class=\"data row2 col35\" >0.000</td>\n",
       "      <td id=\"T_0fefe_row2_col36\" class=\"data row2 col36\" >0.000</td>\n",
       "      <td id=\"T_0fefe_row2_col37\" class=\"data row2 col37\" >0.000</td>\n",
       "      <td id=\"T_0fefe_row2_col38\" class=\"data row2 col38\" >0.000</td>\n",
       "      <td id=\"T_0fefe_row2_col39\" class=\"data row2 col39\" >0.000</td>\n",
       "      <td id=\"T_0fefe_row2_col40\" class=\"data row2 col40\" >0.000</td>\n",
       "      <td id=\"T_0fefe_row2_col41\" class=\"data row2 col41\" >0.000</td>\n",
       "      <td id=\"T_0fefe_row2_col42\" class=\"data row2 col42\" >0.000</td>\n",
       "      <td id=\"T_0fefe_row2_col43\" class=\"data row2 col43\" >0.000</td>\n",
       "      <td id=\"T_0fefe_row2_col44\" class=\"data row2 col44\" >0.000</td>\n",
       "      <td id=\"T_0fefe_row2_col45\" class=\"data row2 col45\" >0.000</td>\n",
       "      <td id=\"T_0fefe_row2_col46\" class=\"data row2 col46\" >0.000</td>\n",
       "      <td id=\"T_0fefe_row2_col47\" class=\"data row2 col47\" >0.000</td>\n",
       "      <td id=\"T_0fefe_row2_col48\" class=\"data row2 col48\" >0.000</td>\n",
       "      <td id=\"T_0fefe_row2_col49\" class=\"data row2 col49\" >0.000</td>\n",
       "      <td id=\"T_0fefe_row2_col50\" class=\"data row2 col50\" >0.000</td>\n",
       "      <td id=\"T_0fefe_row2_col51\" class=\"data row2 col51\" >0.000</td>\n",
       "      <td id=\"T_0fefe_row2_col52\" class=\"data row2 col52\" >0.000</td>\n",
       "      <td id=\"T_0fefe_row2_col53\" class=\"data row2 col53\" >0.000</td>\n",
       "      <td id=\"T_0fefe_row2_col54\" class=\"data row2 col54\" >0.708</td>\n",
       "      <td id=\"T_0fefe_row2_col55\" class=\"data row2 col55\" >0.691</td>\n",
       "      <td id=\"T_0fefe_row2_col56\" class=\"data row2 col56\" >0.851</td>\n",
       "      <td id=\"T_0fefe_row2_col57\" class=\"data row2 col57\" >0.691</td>\n",
       "      <td id=\"T_0fefe_row2_col58\" class=\"data row2 col58\" >0.576</td>\n",
       "      <td id=\"T_0fefe_row2_col59\" class=\"data row2 col59\" >356.000</td>\n",
       "    </tr>\n",
       "    <tr>\n",
       "      <th id=\"T_0fefe_level0_row3\" class=\"row_heading level0 row3\" >3</th>\n",
       "      <td id=\"T_0fefe_row3_col0\" class=\"data row3 col0\" >420</td>\n",
       "      <td id=\"T_0fefe_row3_col1\" class=\"data row3 col1\" >9811880.000</td>\n",
       "      <td id=\"T_0fefe_row3_col2\" class=\"data row3 col2\" >8974880.000</td>\n",
       "      <td id=\"T_0fefe_row3_col3\" class=\"data row3 col3\" >29950000.000</td>\n",
       "      <td id=\"T_0fefe_row3_col4\" class=\"data row3 col4\" >0.000</td>\n",
       "      <td id=\"T_0fefe_row3_col5\" class=\"data row3 col5\" >0.000</td>\n",
       "      <td id=\"T_0fefe_row3_col6\" class=\"data row3 col6\" >0.000</td>\n",
       "      <td id=\"T_0fefe_row3_col7\" class=\"data row3 col7\" >0.000</td>\n",
       "      <td id=\"T_0fefe_row3_col8\" class=\"data row3 col8\" >1.000</td>\n",
       "      <td id=\"T_0fefe_row3_col9\" class=\"data row3 col9\" >0.000</td>\n",
       "      <td id=\"T_0fefe_row3_col10\" class=\"data row3 col10\" >0.000</td>\n",
       "      <td id=\"T_0fefe_row3_col11\" class=\"data row3 col11\" >0.000</td>\n",
       "      <td id=\"T_0fefe_row3_col12\" class=\"data row3 col12\" >0.000</td>\n",
       "      <td id=\"T_0fefe_row3_col13\" class=\"data row3 col13\" >0.000</td>\n",
       "      <td id=\"T_0fefe_row3_col14\" class=\"data row3 col14\" >0.000</td>\n",
       "      <td id=\"T_0fefe_row3_col15\" class=\"data row3 col15\" >0.000</td>\n",
       "      <td id=\"T_0fefe_row3_col16\" class=\"data row3 col16\" >0.000</td>\n",
       "      <td id=\"T_0fefe_row3_col17\" class=\"data row3 col17\" >0.000</td>\n",
       "      <td id=\"T_0fefe_row3_col18\" class=\"data row3 col18\" >0.000</td>\n",
       "      <td id=\"T_0fefe_row3_col19\" class=\"data row3 col19\" >0.000</td>\n",
       "      <td id=\"T_0fefe_row3_col20\" class=\"data row3 col20\" >0.000</td>\n",
       "      <td id=\"T_0fefe_row3_col21\" class=\"data row3 col21\" >0.000</td>\n",
       "      <td id=\"T_0fefe_row3_col22\" class=\"data row3 col22\" >0.000</td>\n",
       "      <td id=\"T_0fefe_row3_col23\" class=\"data row3 col23\" >0.000</td>\n",
       "      <td id=\"T_0fefe_row3_col24\" class=\"data row3 col24\" >0.000</td>\n",
       "      <td id=\"T_0fefe_row3_col25\" class=\"data row3 col25\" >0.000</td>\n",
       "      <td id=\"T_0fefe_row3_col26\" class=\"data row3 col26\" >0.000</td>\n",
       "      <td id=\"T_0fefe_row3_col27\" class=\"data row3 col27\" >0.000</td>\n",
       "      <td id=\"T_0fefe_row3_col28\" class=\"data row3 col28\" >0.000</td>\n",
       "      <td id=\"T_0fefe_row3_col29\" class=\"data row3 col29\" >0.000</td>\n",
       "      <td id=\"T_0fefe_row3_col30\" class=\"data row3 col30\" >0.000</td>\n",
       "      <td id=\"T_0fefe_row3_col31\" class=\"data row3 col31\" >0.000</td>\n",
       "      <td id=\"T_0fefe_row3_col32\" class=\"data row3 col32\" >1.000</td>\n",
       "      <td id=\"T_0fefe_row3_col33\" class=\"data row3 col33\" >0.000</td>\n",
       "      <td id=\"T_0fefe_row3_col34\" class=\"data row3 col34\" >0.000</td>\n",
       "      <td id=\"T_0fefe_row3_col35\" class=\"data row3 col35\" >0.000</td>\n",
       "      <td id=\"T_0fefe_row3_col36\" class=\"data row3 col36\" >0.000</td>\n",
       "      <td id=\"T_0fefe_row3_col37\" class=\"data row3 col37\" >0.000</td>\n",
       "      <td id=\"T_0fefe_row3_col38\" class=\"data row3 col38\" >0.000</td>\n",
       "      <td id=\"T_0fefe_row3_col39\" class=\"data row3 col39\" >0.000</td>\n",
       "      <td id=\"T_0fefe_row3_col40\" class=\"data row3 col40\" >0.000</td>\n",
       "      <td id=\"T_0fefe_row3_col41\" class=\"data row3 col41\" >0.000</td>\n",
       "      <td id=\"T_0fefe_row3_col42\" class=\"data row3 col42\" >0.000</td>\n",
       "      <td id=\"T_0fefe_row3_col43\" class=\"data row3 col43\" >0.000</td>\n",
       "      <td id=\"T_0fefe_row3_col44\" class=\"data row3 col44\" >0.000</td>\n",
       "      <td id=\"T_0fefe_row3_col45\" class=\"data row3 col45\" >0.000</td>\n",
       "      <td id=\"T_0fefe_row3_col46\" class=\"data row3 col46\" >0.000</td>\n",
       "      <td id=\"T_0fefe_row3_col47\" class=\"data row3 col47\" >0.000</td>\n",
       "      <td id=\"T_0fefe_row3_col48\" class=\"data row3 col48\" >0.000</td>\n",
       "      <td id=\"T_0fefe_row3_col49\" class=\"data row3 col49\" >0.000</td>\n",
       "      <td id=\"T_0fefe_row3_col50\" class=\"data row3 col50\" >0.000</td>\n",
       "      <td id=\"T_0fefe_row3_col51\" class=\"data row3 col51\" >0.000</td>\n",
       "      <td id=\"T_0fefe_row3_col52\" class=\"data row3 col52\" >0.000</td>\n",
       "      <td id=\"T_0fefe_row3_col53\" class=\"data row3 col53\" >0.000</td>\n",
       "      <td id=\"T_0fefe_row3_col54\" class=\"data row3 col54\" >0.187</td>\n",
       "      <td id=\"T_0fefe_row3_col55\" class=\"data row3 col55\" >0.098</td>\n",
       "      <td id=\"T_0fefe_row3_col56\" class=\"data row3 col56\" >0.992</td>\n",
       "      <td id=\"T_0fefe_row3_col57\" class=\"data row3 col57\" >0.139</td>\n",
       "      <td id=\"T_0fefe_row3_col58\" class=\"data row3 col58\" >0.077</td>\n",
       "      <td id=\"T_0fefe_row3_col59\" class=\"data row3 col59\" >632.000</td>\n",
       "    </tr>\n",
       "    <tr>\n",
       "      <th id=\"T_0fefe_level0_row4\" class=\"row_heading level0 row4\" >4</th>\n",
       "      <td id=\"T_0fefe_row4_col0\" class=\"data row4 col0\" >13245</td>\n",
       "      <td id=\"T_0fefe_row4_col1\" class=\"data row4 col1\" >0.000</td>\n",
       "      <td id=\"T_0fefe_row4_col2\" class=\"data row4 col2\" >286229.997</td>\n",
       "      <td id=\"T_0fefe_row4_col3\" class=\"data row4 col3\" >1353851.954</td>\n",
       "      <td id=\"T_0fefe_row4_col4\" class=\"data row4 col4\" >0.000</td>\n",
       "      <td id=\"T_0fefe_row4_col5\" class=\"data row4 col5\" >1.000</td>\n",
       "      <td id=\"T_0fefe_row4_col6\" class=\"data row4 col6\" >0.000</td>\n",
       "      <td id=\"T_0fefe_row4_col7\" class=\"data row4 col7\" >0.000</td>\n",
       "      <td id=\"T_0fefe_row4_col8\" class=\"data row4 col8\" >0.000</td>\n",
       "      <td id=\"T_0fefe_row4_col9\" class=\"data row4 col9\" >0.000</td>\n",
       "      <td id=\"T_0fefe_row4_col10\" class=\"data row4 col10\" >0.000</td>\n",
       "      <td id=\"T_0fefe_row4_col11\" class=\"data row4 col11\" >0.000</td>\n",
       "      <td id=\"T_0fefe_row4_col12\" class=\"data row4 col12\" >0.000</td>\n",
       "      <td id=\"T_0fefe_row4_col13\" class=\"data row4 col13\" >0.000</td>\n",
       "      <td id=\"T_0fefe_row4_col14\" class=\"data row4 col14\" >0.000</td>\n",
       "      <td id=\"T_0fefe_row4_col15\" class=\"data row4 col15\" >0.000</td>\n",
       "      <td id=\"T_0fefe_row4_col16\" class=\"data row4 col16\" >0.000</td>\n",
       "      <td id=\"T_0fefe_row4_col17\" class=\"data row4 col17\" >0.000</td>\n",
       "      <td id=\"T_0fefe_row4_col18\" class=\"data row4 col18\" >0.000</td>\n",
       "      <td id=\"T_0fefe_row4_col19\" class=\"data row4 col19\" >0.000</td>\n",
       "      <td id=\"T_0fefe_row4_col20\" class=\"data row4 col20\" >0.000</td>\n",
       "      <td id=\"T_0fefe_row4_col21\" class=\"data row4 col21\" >0.000</td>\n",
       "      <td id=\"T_0fefe_row4_col22\" class=\"data row4 col22\" >0.000</td>\n",
       "      <td id=\"T_0fefe_row4_col23\" class=\"data row4 col23\" >0.000</td>\n",
       "      <td id=\"T_0fefe_row4_col24\" class=\"data row4 col24\" >0.000</td>\n",
       "      <td id=\"T_0fefe_row4_col25\" class=\"data row4 col25\" >0.000</td>\n",
       "      <td id=\"T_0fefe_row4_col26\" class=\"data row4 col26\" >0.000</td>\n",
       "      <td id=\"T_0fefe_row4_col27\" class=\"data row4 col27\" >0.000</td>\n",
       "      <td id=\"T_0fefe_row4_col28\" class=\"data row4 col28\" >0.000</td>\n",
       "      <td id=\"T_0fefe_row4_col29\" class=\"data row4 col29\" >0.000</td>\n",
       "      <td id=\"T_0fefe_row4_col30\" class=\"data row4 col30\" >0.000</td>\n",
       "      <td id=\"T_0fefe_row4_col31\" class=\"data row4 col31\" >0.000</td>\n",
       "      <td id=\"T_0fefe_row4_col32\" class=\"data row4 col32\" >0.000</td>\n",
       "      <td id=\"T_0fefe_row4_col33\" class=\"data row4 col33\" >0.000</td>\n",
       "      <td id=\"T_0fefe_row4_col34\" class=\"data row4 col34\" >0.000</td>\n",
       "      <td id=\"T_0fefe_row4_col35\" class=\"data row4 col35\" >0.000</td>\n",
       "      <td id=\"T_0fefe_row4_col36\" class=\"data row4 col36\" >0.000</td>\n",
       "      <td id=\"T_0fefe_row4_col37\" class=\"data row4 col37\" >1.000</td>\n",
       "      <td id=\"T_0fefe_row4_col38\" class=\"data row4 col38\" >0.000</td>\n",
       "      <td id=\"T_0fefe_row4_col39\" class=\"data row4 col39\" >0.000</td>\n",
       "      <td id=\"T_0fefe_row4_col40\" class=\"data row4 col40\" >0.000</td>\n",
       "      <td id=\"T_0fefe_row4_col41\" class=\"data row4 col41\" >0.000</td>\n",
       "      <td id=\"T_0fefe_row4_col42\" class=\"data row4 col42\" >0.000</td>\n",
       "      <td id=\"T_0fefe_row4_col43\" class=\"data row4 col43\" >0.000</td>\n",
       "      <td id=\"T_0fefe_row4_col44\" class=\"data row4 col44\" >0.000</td>\n",
       "      <td id=\"T_0fefe_row4_col45\" class=\"data row4 col45\" >0.000</td>\n",
       "      <td id=\"T_0fefe_row4_col46\" class=\"data row4 col46\" >0.000</td>\n",
       "      <td id=\"T_0fefe_row4_col47\" class=\"data row4 col47\" >0.000</td>\n",
       "      <td id=\"T_0fefe_row4_col48\" class=\"data row4 col48\" >0.000</td>\n",
       "      <td id=\"T_0fefe_row4_col49\" class=\"data row4 col49\" >0.000</td>\n",
       "      <td id=\"T_0fefe_row4_col50\" class=\"data row4 col50\" >0.000</td>\n",
       "      <td id=\"T_0fefe_row4_col51\" class=\"data row4 col51\" >0.000</td>\n",
       "      <td id=\"T_0fefe_row4_col52\" class=\"data row4 col52\" >0.000</td>\n",
       "      <td id=\"T_0fefe_row4_col53\" class=\"data row4 col53\" >0.000</td>\n",
       "      <td id=\"T_0fefe_row4_col54\" class=\"data row4 col54\" >0.242</td>\n",
       "      <td id=\"T_0fefe_row4_col55\" class=\"data row4 col55\" >0.157</td>\n",
       "      <td id=\"T_0fefe_row4_col56\" class=\"data row4 col56\" >0.187</td>\n",
       "      <td id=\"T_0fefe_row4_col57\" class=\"data row4 col57\" >0.063</td>\n",
       "      <td id=\"T_0fefe_row4_col58\" class=\"data row4 col58\" >0.028</td>\n",
       "      <td id=\"T_0fefe_row4_col59\" class=\"data row4 col59\" >2231.000</td>\n",
       "    </tr>\n",
       "  </tbody>\n",
       "</table>\n"
      ]
     },
     "execution_count": 30,
     "metadata": {},
     "output_type": "execute_result"
    }
   ],
   "execution_count": 30
  },
  {
   "metadata": {
    "tags": [
     "hide-input"
    ],
    "jupyter": {
     "is_executing": true
    }
   },
   "cell_type": "code",
   "source": [
    "colunas_remover_modelo2 = [\n",
    "    'DH_total_danos_humanos',\n",
    "    'DM_total_danos_materiais',\n",
    "    'PEPL_total_publico',\n",
    "    'PEPR_total_privado',\n",
    "    'regiao_Centro-oeste',\n",
    "    'regiao_Nordeste',\n",
    "    'regiao_Norte',\n",
    "    'regiao_Sudeste',\n",
    "    'regiao_Sul',\n",
    "    'Ano_Evento']\n",
    "\n",
    "# Para df_eventos_2010_2017_modelo2\n",
    "df_eventos_2010_2017_modelo2 = df_eventos_2010_2017.drop(columns=colunas_remover_modelo2)\n",
    "\n",
    "# Para df_eventos_2018_2024_modelo2\n",
    "df_eventos_2018_2024_modelo2 = df_eventos_2018_2024.drop(columns=colunas_remover_modelo2)"
   ],
   "id": "a5dbd2575df87fdf",
   "outputs": [],
   "execution_count": null
  },
  {
   "metadata": {},
   "cell_type": "markdown",
   "source": "Modelo 2 e período 2010 - 2017",
   "id": "dd63a63775a8f84d"
  },
  {
   "metadata": {
    "tags": [
     "hide-input"
    ]
   },
   "cell_type": "code",
   "source": [
    "print(\"Dimensões da base de dados 2010-2017, modelo 2: \", df_eventos_2010_2017_modelo2.shape)\n",
    "estilo_tabelas(df_eventos_2010_2017_modelo2.head(5))"
   ],
   "id": "35dec4428fda4a16",
   "outputs": [],
   "execution_count": null
  },
  {
   "metadata": {},
   "cell_type": "markdown",
   "source": "Modelo 2 e período 2018 - 2024",
   "id": "698473f915f1449c"
  },
  {
   "metadata": {
    "tags": [
     "hide-input"
    ]
   },
   "cell_type": "code",
   "source": [
    "print(\"Dimensões da base de dados 2018-2024, modelo 2: \", df_eventos_2018_2024_modelo2.shape)\n",
    "estilo_tabelas(df_eventos_2018_2024_modelo2.head(5))"
   ],
   "id": "4f06bdce6cd32373",
   "outputs": [],
   "execution_count": null
  },
  {
   "metadata": {},
   "cell_type": "markdown",
   "source": "### Exportar bases de dados criadas",
   "id": "c9df010af433e028"
  },
  {
   "cell_type": "code",
   "id": "f0400773e25486c",
   "metadata": {
    "jupyter": {
     "source_hidden": true
    },
    "tags": [
     "hide-input"
    ]
   },
   "source": [
    "df_eventos_2010_2017_modelo1.to_csv('df_eventos_2010_2017_modelo1.csv',\n",
    "                        index=False,\n",
    "                        sep=';',\n",
    "                        decimal=',')\n",
    "\n",
    "df_eventos_2018_2024_modelo1.to_csv('df_eventos_2018_2024_modelo1.csv',\n",
    "                        index=False,\n",
    "                        sep=';',\n",
    "                        decimal=',')\n",
    "\n",
    "df_eventos_2018_2024_modelo2.to_csv('df_eventos_2018_2024_modelo2.csv',\n",
    "                        index=False,\n",
    "                        sep=';',\n",
    "                        decimal=',')\n",
    "\n",
    "df_eventos_2010_2017_modelo2.to_csv('df_eventos_2010_2017_modelo2.csv',\n",
    "                        index=False,\n",
    "                        sep=';',\n",
    "                        decimal=',')"
   ],
   "outputs": [],
   "execution_count": null
  }
 ],
 "metadata": {
  "kernelspec": {
   "display_name": "Python 3 (ipykernel)",
   "language": "python",
   "name": "python3"
  },
  "language_info": {
   "codemirror_mode": {
    "name": "ipython",
    "version": 3
   },
   "file_extension": ".py",
   "mimetype": "text/x-python",
   "name": "python",
   "nbconvert_exporter": "python",
   "pygments_lexer": "ipython3",
   "version": "3.9.6"
  }
 },
 "nbformat": 4,
 "nbformat_minor": 5
}
