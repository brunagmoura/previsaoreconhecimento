{
 "cells": [
  {
   "cell_type": "markdown",
   "id": "dff1aa2096d8179c",
   "metadata": {},
   "source": [
    "## Regressão logística - Variáveis desagregadas (2010 a 2017)"
   ]
  },
  {
   "cell_type": "markdown",
   "id": "77d2d9c0e010124a",
   "metadata": {},
   "source": [
    "### Bibliotecas e bases de dados"
   ]
  },
  {
   "cell_type": "code",
   "execution_count": 1,
   "id": "initial_id",
   "metadata": {
    "ExecuteTime": {
     "end_time": "2024-10-16T02:53:10.925586Z",
     "start_time": "2024-10-16T02:53:10.144884Z"
    },
    "collapsed": true,
    "tags": [
     "hide-input"
    ]
   },
   "outputs": [],
   "source": [
    "import pandas as pd\n",
    "import seaborn as sns\n",
    "import matplotlib.pyplot as plt\n",
    "import warnings\n",
    "from sklearn.model_selection import train_test_split\n",
    "from sklearn.linear_model import LogisticRegression\n",
    "from sklearn.preprocessing import StandardScaler\n",
    "from sklearn.pipeline import Pipeline\n",
    "from sklearn.model_selection import GridSearchCV\n",
    "from sklearn.metrics import f1_score\n",
    "from imblearn.over_sampling import SMOTE\n",
    "from imblearn.under_sampling import RandomUnderSampler\n",
    "from sklearn import metrics\n",
    "from sklearn.exceptions import ConvergenceWarning\n",
    "from sklearn.metrics import ConfusionMatrixDisplay\n",
    "\n",
    "#Estilizar conteúdo\n",
    "warnings.filterwarnings('ignore')\n",
    "ConvergenceWarning('ignore')\n",
    "\n",
    "pd.set_option('display.max_rows', None)\n",
    "pd.set_option('display.max_columns', None)\n",
    "\n",
    "def estilo_tabelas(df, max_altura='300px', casas_decimais=3):\n",
    "    def cor_linhas(row):\n",
    "        if row.name % 2 == 0:\n",
    "            return ['background-color: #ffffff'] * len(row)\n",
    "        else:\n",
    "            return ['background-color: #f9f9f9'] * len(row)\n",
    "    \n",
    "    return (\n",
    "        df.style.apply(cor_linhas, axis=1) \n",
    "        .set_table_styles(\n",
    "            [\n",
    "                {'selector': 'thead th', 'props': [('font-size', '12px'), ('text-align', 'center'), ('border-bottom', '2px solid #007BFF')]},  # Azul abaixo do nome das colunas\n",
    "                {'selector': 'td', 'props': [('font-size', '10px'), ('text-align', 'center'), ('max-height', '40px'), ('white-space', 'nowrap'), ('text-overflow', 'ellipsis'), ('overflow', 'hidden'), ('max-width', '300px')]},\n",
    "                {'selector': 'table', 'props': [('width', '90%'), ('margin-left', 'auto'), ('margin-right', 'auto'), ('border-collapse', 'collapse')]},\n",
    "                {'selector': 'td, th', 'props': [('border', '1px solid #666')]},\n",
    "            ]\n",
    "        )\n",
    "        .set_properties(\n",
    "            **{'border-color': 'darkgray', 'border-style': 'solid', 'border-width': '1px'}\n",
    "        )\n",
    "        .set_table_attributes(\n",
    "            f'style=\"height:auto; overflow:auto; max-height:{max_altura}; display:block;\"'  \n",
    "        )\n",
    "        .format(\n",
    "            precision=casas_decimais  \n",
    "        )\n",
    "    )\n",
    "\n",
    "# Base de dados\n",
    "\n",
    "df_eventos_2010_2017_modelo2 = pd.read_csv(\n",
    "    \"https://raw.githubusercontent.com/brunagmoura/PrevisorReconhecimento/refs/heads/main/df_eventos_2010_2017_modelo2.csv\",\n",
    "    sep=';',\n",
    "    decimal=',',\n",
    ")"
   ]
  },
  {
   "cell_type": "markdown",
   "id": "bac7e02c31b72ac9",
   "metadata": {},
   "source": [
    "### Ajustes da base de dados"
   ]
  },
  {
   "cell_type": "code",
   "execution_count": 2,
   "id": "95b48c0f7d8e7940",
   "metadata": {
    "ExecuteTime": {
     "end_time": "2024-10-16T02:53:11.068156Z",
     "start_time": "2024-10-16T02:53:10.931198Z"
    },
    "tags": [
     "hide-input"
    ]
   },
   "outputs": [
    {
     "data": {
      "text/html": [
       "<style type=\"text/css\">\n",
       "#T_94fb1 thead th {\n",
       "  font-size: 12px;\n",
       "  text-align: center;\n",
       "  border-bottom: 2px solid #007BFF;\n",
       "}\n",
       "#T_94fb1 td {\n",
       "  font-size: 10px;\n",
       "  text-align: center;\n",
       "  max-height: 40px;\n",
       "  white-space: nowrap;\n",
       "  text-overflow: ellipsis;\n",
       "  overflow: hidden;\n",
       "  max-width: 300px;\n",
       "}\n",
       "#T_94fb1 table {\n",
       "  width: 90%;\n",
       "  margin-left: auto;\n",
       "  margin-right: auto;\n",
       "  border-collapse: collapse;\n",
       "}\n",
       "#T_94fb1 td {\n",
       "  border: 1px solid #666;\n",
       "}\n",
       "#T_94fb1  th {\n",
       "  border: 1px solid #666;\n",
       "}\n",
       "#T_94fb1_row0_col0, #T_94fb1_row0_col1, #T_94fb1_row0_col2, #T_94fb1_row0_col3, #T_94fb1_row0_col4, #T_94fb1_row0_col5, #T_94fb1_row0_col6, #T_94fb1_row0_col7, #T_94fb1_row0_col8, #T_94fb1_row0_col9, #T_94fb1_row0_col10, #T_94fb1_row0_col11, #T_94fb1_row0_col12, #T_94fb1_row0_col13, #T_94fb1_row0_col14, #T_94fb1_row0_col15, #T_94fb1_row0_col16, #T_94fb1_row0_col17, #T_94fb1_row0_col18, #T_94fb1_row0_col19, #T_94fb1_row0_col20, #T_94fb1_row0_col21, #T_94fb1_row0_col22, #T_94fb1_row0_col23, #T_94fb1_row0_col24, #T_94fb1_row0_col25, #T_94fb1_row0_col26, #T_94fb1_row0_col27, #T_94fb1_row0_col28, #T_94fb1_row0_col29, #T_94fb1_row0_col30, #T_94fb1_row0_col31, #T_94fb1_row0_col32, #T_94fb1_row0_col33, #T_94fb1_row0_col34, #T_94fb1_row0_col35, #T_94fb1_row0_col36, #T_94fb1_row0_col37, #T_94fb1_row0_col38, #T_94fb1_row0_col39, #T_94fb1_row0_col40, #T_94fb1_row0_col41, #T_94fb1_row0_col42, #T_94fb1_row0_col43, #T_94fb1_row0_col44, #T_94fb1_row0_col45, #T_94fb1_row0_col46, #T_94fb1_row0_col47, #T_94fb1_row0_col48, #T_94fb1_row0_col49, #T_94fb1_row0_col50, #T_94fb1_row0_col51, #T_94fb1_row0_col52, #T_94fb1_row0_col53, #T_94fb1_row0_col54, #T_94fb1_row0_col55, #T_94fb1_row0_col56, #T_94fb1_row0_col57, #T_94fb1_row0_col58, #T_94fb1_row0_col59, #T_94fb1_row0_col60, #T_94fb1_row0_col61, #T_94fb1_row0_col62, #T_94fb1_row0_col63, #T_94fb1_row0_col64, #T_94fb1_row0_col65, #T_94fb1_row0_col66, #T_94fb1_row0_col67, #T_94fb1_row0_col68, #T_94fb1_row0_col69, #T_94fb1_row0_col70, #T_94fb1_row0_col71, #T_94fb1_row0_col72, #T_94fb1_row0_col73, #T_94fb1_row0_col74, #T_94fb1_row0_col75, #T_94fb1_row0_col76, #T_94fb1_row0_col77, #T_94fb1_row0_col78, #T_94fb1_row0_col79, #T_94fb1_row0_col80, #T_94fb1_row0_col81, #T_94fb1_row0_col82, #T_94fb1_row0_col83, #T_94fb1_row0_col84, #T_94fb1_row0_col85, #T_94fb1_row0_col86, #T_94fb1_row0_col87, #T_94fb1_row0_col88, #T_94fb1_row0_col89, #T_94fb1_row0_col90, #T_94fb1_row0_col91, #T_94fb1_row0_col92, #T_94fb1_row0_col93, #T_94fb1_row0_col94, #T_94fb1_row0_col95, #T_94fb1_row0_col96, #T_94fb1_row0_col97, #T_94fb1_row0_col98, #T_94fb1_row0_col99, #T_94fb1_row0_col100, #T_94fb1_row0_col101, #T_94fb1_row0_col102, #T_94fb1_row0_col103, #T_94fb1_row0_col104, #T_94fb1_row0_col105, #T_94fb1_row0_col106, #T_94fb1_row0_col107, #T_94fb1_row0_col108, #T_94fb1_row0_col109, #T_94fb1_row0_col110, #T_94fb1_row0_col111, #T_94fb1_row0_col112, #T_94fb1_row0_col113, #T_94fb1_row0_col114, #T_94fb1_row0_col115, #T_94fb1_row0_col116, #T_94fb1_row1_col0, #T_94fb1_row1_col1, #T_94fb1_row1_col2, #T_94fb1_row1_col3, #T_94fb1_row1_col4, #T_94fb1_row1_col5, #T_94fb1_row1_col6, #T_94fb1_row1_col7, #T_94fb1_row1_col8, #T_94fb1_row1_col9, #T_94fb1_row1_col10, #T_94fb1_row1_col11, #T_94fb1_row1_col12, #T_94fb1_row1_col13, #T_94fb1_row1_col14, #T_94fb1_row1_col15, #T_94fb1_row1_col16, #T_94fb1_row1_col17, #T_94fb1_row1_col18, #T_94fb1_row1_col19, #T_94fb1_row1_col20, #T_94fb1_row1_col21, #T_94fb1_row1_col22, #T_94fb1_row1_col23, #T_94fb1_row1_col24, #T_94fb1_row1_col25, #T_94fb1_row1_col26, #T_94fb1_row1_col27, #T_94fb1_row1_col28, #T_94fb1_row1_col29, #T_94fb1_row1_col30, #T_94fb1_row1_col31, #T_94fb1_row1_col32, #T_94fb1_row1_col33, #T_94fb1_row1_col34, #T_94fb1_row1_col35, #T_94fb1_row1_col36, #T_94fb1_row1_col37, #T_94fb1_row1_col38, #T_94fb1_row1_col39, #T_94fb1_row1_col40, #T_94fb1_row1_col41, #T_94fb1_row1_col42, #T_94fb1_row1_col43, #T_94fb1_row1_col44, #T_94fb1_row1_col45, #T_94fb1_row1_col46, #T_94fb1_row1_col47, #T_94fb1_row1_col48, #T_94fb1_row1_col49, #T_94fb1_row1_col50, #T_94fb1_row1_col51, #T_94fb1_row1_col52, #T_94fb1_row1_col53, #T_94fb1_row1_col54, #T_94fb1_row1_col55, #T_94fb1_row1_col56, #T_94fb1_row1_col57, #T_94fb1_row1_col58, #T_94fb1_row1_col59, #T_94fb1_row1_col60, #T_94fb1_row1_col61, #T_94fb1_row1_col62, #T_94fb1_row1_col63, #T_94fb1_row1_col64, #T_94fb1_row1_col65, #T_94fb1_row1_col66, #T_94fb1_row1_col67, #T_94fb1_row1_col68, #T_94fb1_row1_col69, #T_94fb1_row1_col70, #T_94fb1_row1_col71, #T_94fb1_row1_col72, #T_94fb1_row1_col73, #T_94fb1_row1_col74, #T_94fb1_row1_col75, #T_94fb1_row1_col76, #T_94fb1_row1_col77, #T_94fb1_row1_col78, #T_94fb1_row1_col79, #T_94fb1_row1_col80, #T_94fb1_row1_col81, #T_94fb1_row1_col82, #T_94fb1_row1_col83, #T_94fb1_row1_col84, #T_94fb1_row1_col85, #T_94fb1_row1_col86, #T_94fb1_row1_col87, #T_94fb1_row1_col88, #T_94fb1_row1_col89, #T_94fb1_row1_col90, #T_94fb1_row1_col91, #T_94fb1_row1_col92, #T_94fb1_row1_col93, #T_94fb1_row1_col94, #T_94fb1_row1_col95, #T_94fb1_row1_col96, #T_94fb1_row1_col97, #T_94fb1_row1_col98, #T_94fb1_row1_col99, #T_94fb1_row1_col100, #T_94fb1_row1_col101, #T_94fb1_row1_col102, #T_94fb1_row1_col103, #T_94fb1_row1_col104, #T_94fb1_row1_col105, #T_94fb1_row1_col106, #T_94fb1_row1_col107, #T_94fb1_row1_col108, #T_94fb1_row1_col109, #T_94fb1_row1_col110, #T_94fb1_row1_col111, #T_94fb1_row1_col112, #T_94fb1_row1_col113, #T_94fb1_row1_col114, #T_94fb1_row1_col115, #T_94fb1_row1_col116, #T_94fb1_row4_col0, #T_94fb1_row4_col1, #T_94fb1_row4_col2, #T_94fb1_row4_col3, #T_94fb1_row4_col4, #T_94fb1_row4_col5, #T_94fb1_row4_col6, #T_94fb1_row4_col7, #T_94fb1_row4_col8, #T_94fb1_row4_col9, #T_94fb1_row4_col10, #T_94fb1_row4_col11, #T_94fb1_row4_col12, #T_94fb1_row4_col13, #T_94fb1_row4_col14, #T_94fb1_row4_col15, #T_94fb1_row4_col16, #T_94fb1_row4_col17, #T_94fb1_row4_col18, #T_94fb1_row4_col19, #T_94fb1_row4_col20, #T_94fb1_row4_col21, #T_94fb1_row4_col22, #T_94fb1_row4_col23, #T_94fb1_row4_col24, #T_94fb1_row4_col25, #T_94fb1_row4_col26, #T_94fb1_row4_col27, #T_94fb1_row4_col28, #T_94fb1_row4_col29, #T_94fb1_row4_col30, #T_94fb1_row4_col31, #T_94fb1_row4_col32, #T_94fb1_row4_col33, #T_94fb1_row4_col34, #T_94fb1_row4_col35, #T_94fb1_row4_col36, #T_94fb1_row4_col37, #T_94fb1_row4_col38, #T_94fb1_row4_col39, #T_94fb1_row4_col40, #T_94fb1_row4_col41, #T_94fb1_row4_col42, #T_94fb1_row4_col43, #T_94fb1_row4_col44, #T_94fb1_row4_col45, #T_94fb1_row4_col46, #T_94fb1_row4_col47, #T_94fb1_row4_col48, #T_94fb1_row4_col49, #T_94fb1_row4_col50, #T_94fb1_row4_col51, #T_94fb1_row4_col52, #T_94fb1_row4_col53, #T_94fb1_row4_col54, #T_94fb1_row4_col55, #T_94fb1_row4_col56, #T_94fb1_row4_col57, #T_94fb1_row4_col58, #T_94fb1_row4_col59, #T_94fb1_row4_col60, #T_94fb1_row4_col61, #T_94fb1_row4_col62, #T_94fb1_row4_col63, #T_94fb1_row4_col64, #T_94fb1_row4_col65, #T_94fb1_row4_col66, #T_94fb1_row4_col67, #T_94fb1_row4_col68, #T_94fb1_row4_col69, #T_94fb1_row4_col70, #T_94fb1_row4_col71, #T_94fb1_row4_col72, #T_94fb1_row4_col73, #T_94fb1_row4_col74, #T_94fb1_row4_col75, #T_94fb1_row4_col76, #T_94fb1_row4_col77, #T_94fb1_row4_col78, #T_94fb1_row4_col79, #T_94fb1_row4_col80, #T_94fb1_row4_col81, #T_94fb1_row4_col82, #T_94fb1_row4_col83, #T_94fb1_row4_col84, #T_94fb1_row4_col85, #T_94fb1_row4_col86, #T_94fb1_row4_col87, #T_94fb1_row4_col88, #T_94fb1_row4_col89, #T_94fb1_row4_col90, #T_94fb1_row4_col91, #T_94fb1_row4_col92, #T_94fb1_row4_col93, #T_94fb1_row4_col94, #T_94fb1_row4_col95, #T_94fb1_row4_col96, #T_94fb1_row4_col97, #T_94fb1_row4_col98, #T_94fb1_row4_col99, #T_94fb1_row4_col100, #T_94fb1_row4_col101, #T_94fb1_row4_col102, #T_94fb1_row4_col103, #T_94fb1_row4_col104, #T_94fb1_row4_col105, #T_94fb1_row4_col106, #T_94fb1_row4_col107, #T_94fb1_row4_col108, #T_94fb1_row4_col109, #T_94fb1_row4_col110, #T_94fb1_row4_col111, #T_94fb1_row4_col112, #T_94fb1_row4_col113, #T_94fb1_row4_col114, #T_94fb1_row4_col115, #T_94fb1_row4_col116 {\n",
       "  background-color: #ffffff;\n",
       "  border-color: darkgray;\n",
       "  border-style: solid;\n",
       "  border-width: 1px;\n",
       "}\n",
       "#T_94fb1_row2_col0, #T_94fb1_row2_col1, #T_94fb1_row2_col2, #T_94fb1_row2_col3, #T_94fb1_row2_col4, #T_94fb1_row2_col5, #T_94fb1_row2_col6, #T_94fb1_row2_col7, #T_94fb1_row2_col8, #T_94fb1_row2_col9, #T_94fb1_row2_col10, #T_94fb1_row2_col11, #T_94fb1_row2_col12, #T_94fb1_row2_col13, #T_94fb1_row2_col14, #T_94fb1_row2_col15, #T_94fb1_row2_col16, #T_94fb1_row2_col17, #T_94fb1_row2_col18, #T_94fb1_row2_col19, #T_94fb1_row2_col20, #T_94fb1_row2_col21, #T_94fb1_row2_col22, #T_94fb1_row2_col23, #T_94fb1_row2_col24, #T_94fb1_row2_col25, #T_94fb1_row2_col26, #T_94fb1_row2_col27, #T_94fb1_row2_col28, #T_94fb1_row2_col29, #T_94fb1_row2_col30, #T_94fb1_row2_col31, #T_94fb1_row2_col32, #T_94fb1_row2_col33, #T_94fb1_row2_col34, #T_94fb1_row2_col35, #T_94fb1_row2_col36, #T_94fb1_row2_col37, #T_94fb1_row2_col38, #T_94fb1_row2_col39, #T_94fb1_row2_col40, #T_94fb1_row2_col41, #T_94fb1_row2_col42, #T_94fb1_row2_col43, #T_94fb1_row2_col44, #T_94fb1_row2_col45, #T_94fb1_row2_col46, #T_94fb1_row2_col47, #T_94fb1_row2_col48, #T_94fb1_row2_col49, #T_94fb1_row2_col50, #T_94fb1_row2_col51, #T_94fb1_row2_col52, #T_94fb1_row2_col53, #T_94fb1_row2_col54, #T_94fb1_row2_col55, #T_94fb1_row2_col56, #T_94fb1_row2_col57, #T_94fb1_row2_col58, #T_94fb1_row2_col59, #T_94fb1_row2_col60, #T_94fb1_row2_col61, #T_94fb1_row2_col62, #T_94fb1_row2_col63, #T_94fb1_row2_col64, #T_94fb1_row2_col65, #T_94fb1_row2_col66, #T_94fb1_row2_col67, #T_94fb1_row2_col68, #T_94fb1_row2_col69, #T_94fb1_row2_col70, #T_94fb1_row2_col71, #T_94fb1_row2_col72, #T_94fb1_row2_col73, #T_94fb1_row2_col74, #T_94fb1_row2_col75, #T_94fb1_row2_col76, #T_94fb1_row2_col77, #T_94fb1_row2_col78, #T_94fb1_row2_col79, #T_94fb1_row2_col80, #T_94fb1_row2_col81, #T_94fb1_row2_col82, #T_94fb1_row2_col83, #T_94fb1_row2_col84, #T_94fb1_row2_col85, #T_94fb1_row2_col86, #T_94fb1_row2_col87, #T_94fb1_row2_col88, #T_94fb1_row2_col89, #T_94fb1_row2_col90, #T_94fb1_row2_col91, #T_94fb1_row2_col92, #T_94fb1_row2_col93, #T_94fb1_row2_col94, #T_94fb1_row2_col95, #T_94fb1_row2_col96, #T_94fb1_row2_col97, #T_94fb1_row2_col98, #T_94fb1_row2_col99, #T_94fb1_row2_col100, #T_94fb1_row2_col101, #T_94fb1_row2_col102, #T_94fb1_row2_col103, #T_94fb1_row2_col104, #T_94fb1_row2_col105, #T_94fb1_row2_col106, #T_94fb1_row2_col107, #T_94fb1_row2_col108, #T_94fb1_row2_col109, #T_94fb1_row2_col110, #T_94fb1_row2_col111, #T_94fb1_row2_col112, #T_94fb1_row2_col113, #T_94fb1_row2_col114, #T_94fb1_row2_col115, #T_94fb1_row2_col116, #T_94fb1_row3_col0, #T_94fb1_row3_col1, #T_94fb1_row3_col2, #T_94fb1_row3_col3, #T_94fb1_row3_col4, #T_94fb1_row3_col5, #T_94fb1_row3_col6, #T_94fb1_row3_col7, #T_94fb1_row3_col8, #T_94fb1_row3_col9, #T_94fb1_row3_col10, #T_94fb1_row3_col11, #T_94fb1_row3_col12, #T_94fb1_row3_col13, #T_94fb1_row3_col14, #T_94fb1_row3_col15, #T_94fb1_row3_col16, #T_94fb1_row3_col17, #T_94fb1_row3_col18, #T_94fb1_row3_col19, #T_94fb1_row3_col20, #T_94fb1_row3_col21, #T_94fb1_row3_col22, #T_94fb1_row3_col23, #T_94fb1_row3_col24, #T_94fb1_row3_col25, #T_94fb1_row3_col26, #T_94fb1_row3_col27, #T_94fb1_row3_col28, #T_94fb1_row3_col29, #T_94fb1_row3_col30, #T_94fb1_row3_col31, #T_94fb1_row3_col32, #T_94fb1_row3_col33, #T_94fb1_row3_col34, #T_94fb1_row3_col35, #T_94fb1_row3_col36, #T_94fb1_row3_col37, #T_94fb1_row3_col38, #T_94fb1_row3_col39, #T_94fb1_row3_col40, #T_94fb1_row3_col41, #T_94fb1_row3_col42, #T_94fb1_row3_col43, #T_94fb1_row3_col44, #T_94fb1_row3_col45, #T_94fb1_row3_col46, #T_94fb1_row3_col47, #T_94fb1_row3_col48, #T_94fb1_row3_col49, #T_94fb1_row3_col50, #T_94fb1_row3_col51, #T_94fb1_row3_col52, #T_94fb1_row3_col53, #T_94fb1_row3_col54, #T_94fb1_row3_col55, #T_94fb1_row3_col56, #T_94fb1_row3_col57, #T_94fb1_row3_col58, #T_94fb1_row3_col59, #T_94fb1_row3_col60, #T_94fb1_row3_col61, #T_94fb1_row3_col62, #T_94fb1_row3_col63, #T_94fb1_row3_col64, #T_94fb1_row3_col65, #T_94fb1_row3_col66, #T_94fb1_row3_col67, #T_94fb1_row3_col68, #T_94fb1_row3_col69, #T_94fb1_row3_col70, #T_94fb1_row3_col71, #T_94fb1_row3_col72, #T_94fb1_row3_col73, #T_94fb1_row3_col74, #T_94fb1_row3_col75, #T_94fb1_row3_col76, #T_94fb1_row3_col77, #T_94fb1_row3_col78, #T_94fb1_row3_col79, #T_94fb1_row3_col80, #T_94fb1_row3_col81, #T_94fb1_row3_col82, #T_94fb1_row3_col83, #T_94fb1_row3_col84, #T_94fb1_row3_col85, #T_94fb1_row3_col86, #T_94fb1_row3_col87, #T_94fb1_row3_col88, #T_94fb1_row3_col89, #T_94fb1_row3_col90, #T_94fb1_row3_col91, #T_94fb1_row3_col92, #T_94fb1_row3_col93, #T_94fb1_row3_col94, #T_94fb1_row3_col95, #T_94fb1_row3_col96, #T_94fb1_row3_col97, #T_94fb1_row3_col98, #T_94fb1_row3_col99, #T_94fb1_row3_col100, #T_94fb1_row3_col101, #T_94fb1_row3_col102, #T_94fb1_row3_col103, #T_94fb1_row3_col104, #T_94fb1_row3_col105, #T_94fb1_row3_col106, #T_94fb1_row3_col107, #T_94fb1_row3_col108, #T_94fb1_row3_col109, #T_94fb1_row3_col110, #T_94fb1_row3_col111, #T_94fb1_row3_col112, #T_94fb1_row3_col113, #T_94fb1_row3_col114, #T_94fb1_row3_col115, #T_94fb1_row3_col116 {\n",
       "  background-color: #f9f9f9;\n",
       "  border-color: darkgray;\n",
       "  border-style: solid;\n",
       "  border-width: 1px;\n",
       "}\n",
       "</style>\n",
       "<table id=\"T_94fb1\" style=\"height:auto; overflow:auto; max-height:300px; display:block;\">\n",
       "  <thead>\n",
       "    <tr>\n",
       "      <th class=\"blank level0\" >&nbsp;</th>\n",
       "      <th id=\"T_94fb1_level0_col0\" class=\"col_heading level0 col0\" >Status</th>\n",
       "      <th id=\"T_94fb1_level0_col1\" class=\"col_heading level0 col1\" >DH_MORTOS</th>\n",
       "      <th id=\"T_94fb1_level0_col2\" class=\"col_heading level0 col2\" >DH_FERIDOS</th>\n",
       "      <th id=\"T_94fb1_level0_col3\" class=\"col_heading level0 col3\" >DH_ENFERMOS</th>\n",
       "      <th id=\"T_94fb1_level0_col4\" class=\"col_heading level0 col4\" >DH_DESABRIGADOS</th>\n",
       "      <th id=\"T_94fb1_level0_col5\" class=\"col_heading level0 col5\" >DH_DESALOJADOS</th>\n",
       "      <th id=\"T_94fb1_level0_col6\" class=\"col_heading level0 col6\" >DH_DESAPARECIDOS</th>\n",
       "      <th id=\"T_94fb1_level0_col7\" class=\"col_heading level0 col7\" >DH_OUTROS AFETADOS</th>\n",
       "      <th id=\"T_94fb1_level0_col8\" class=\"col_heading level0 col8\" >DM_Uni Habita Danificadas</th>\n",
       "      <th id=\"T_94fb1_level0_col9\" class=\"col_heading level0 col9\" >DM_Uni Habita Destruidas</th>\n",
       "      <th id=\"T_94fb1_level0_col10\" class=\"col_heading level0 col10\" >DM_Uni Habita Valor</th>\n",
       "      <th id=\"T_94fb1_level0_col11\" class=\"col_heading level0 col11\" >DM_Inst Saúde Danificadas</th>\n",
       "      <th id=\"T_94fb1_level0_col12\" class=\"col_heading level0 col12\" >DM_Inst Saúde Destruidas</th>\n",
       "      <th id=\"T_94fb1_level0_col13\" class=\"col_heading level0 col13\" >DM_Inst Saúde Valor</th>\n",
       "      <th id=\"T_94fb1_level0_col14\" class=\"col_heading level0 col14\" >DM_Inst Ensino Danificadas</th>\n",
       "      <th id=\"T_94fb1_level0_col15\" class=\"col_heading level0 col15\" >DM_Inst Ensino Destruidas</th>\n",
       "      <th id=\"T_94fb1_level0_col16\" class=\"col_heading level0 col16\" >DM_Inst Ensino Valor</th>\n",
       "      <th id=\"T_94fb1_level0_col17\" class=\"col_heading level0 col17\" >DM_Inst Serviços Danificadas</th>\n",
       "      <th id=\"T_94fb1_level0_col18\" class=\"col_heading level0 col18\" >DM_Inst Serviços Destruidas</th>\n",
       "      <th id=\"T_94fb1_level0_col19\" class=\"col_heading level0 col19\" >DM_Inst Serviços Valor</th>\n",
       "      <th id=\"T_94fb1_level0_col20\" class=\"col_heading level0 col20\" >DM_Inst Comuni Danificadas</th>\n",
       "      <th id=\"T_94fb1_level0_col21\" class=\"col_heading level0 col21\" >DM_Inst Comuni Destruidas</th>\n",
       "      <th id=\"T_94fb1_level0_col22\" class=\"col_heading level0 col22\" >DM_Inst Comuni Valor</th>\n",
       "      <th id=\"T_94fb1_level0_col23\" class=\"col_heading level0 col23\" >DM_Obras de Infra Danificadas</th>\n",
       "      <th id=\"T_94fb1_level0_col24\" class=\"col_heading level0 col24\" >DM_Obras de Infra Destruidas</th>\n",
       "      <th id=\"T_94fb1_level0_col25\" class=\"col_heading level0 col25\" >DM_Obras de Infra Valor</th>\n",
       "      <th id=\"T_94fb1_level0_col26\" class=\"col_heading level0 col26\" >PEPL_Assis_méd e emergên(R$)</th>\n",
       "      <th id=\"T_94fb1_level0_col27\" class=\"col_heading level0 col27\" >PEPL_Abast de água pot(R$)</th>\n",
       "      <th id=\"T_94fb1_level0_col28\" class=\"col_heading level0 col28\" >PEPL_sist de esgotos sanit(R$)</th>\n",
       "      <th id=\"T_94fb1_level0_col29\" class=\"col_heading level0 col29\" >PEPL_Sis limp e rec lixo (R$)</th>\n",
       "      <th id=\"T_94fb1_level0_col30\" class=\"col_heading level0 col30\" >PEPL_Sis cont pragas (R$)</th>\n",
       "      <th id=\"T_94fb1_level0_col31\" class=\"col_heading level0 col31\" >PEPL_distrib energia (R$)</th>\n",
       "      <th id=\"T_94fb1_level0_col32\" class=\"col_heading level0 col32\" >PEPL_Telecomunicações (R$)</th>\n",
       "      <th id=\"T_94fb1_level0_col33\" class=\"col_heading level0 col33\" >PEPL_Tran loc/reg/l_curso (R$)</th>\n",
       "      <th id=\"T_94fb1_level0_col34\" class=\"col_heading level0 col34\" >PEPL_Distrib combustíveis(R$)</th>\n",
       "      <th id=\"T_94fb1_level0_col35\" class=\"col_heading level0 col35\" >PEPL_Segurança pública (R$)</th>\n",
       "      <th id=\"T_94fb1_level0_col36\" class=\"col_heading level0 col36\" >PEPL_Ensino (R$)</th>\n",
       "      <th id=\"T_94fb1_level0_col37\" class=\"col_heading level0 col37\" >PEPR_Agricultura (R$)</th>\n",
       "      <th id=\"T_94fb1_level0_col38\" class=\"col_heading level0 col38\" >PEPR_Pecuária (R$)</th>\n",
       "      <th id=\"T_94fb1_level0_col39\" class=\"col_heading level0 col39\" >PEPR_Indústria (R$)</th>\n",
       "      <th id=\"T_94fb1_level0_col40\" class=\"col_heading level0 col40\" >PEPR_Comércio (R$)</th>\n",
       "      <th id=\"T_94fb1_level0_col41\" class=\"col_heading level0 col41\" >PEPR_Serviços (R$)</th>\n",
       "      <th id=\"T_94fb1_level0_col42\" class=\"col_heading level0 col42\" >DensidadePop</th>\n",
       "      <th id=\"T_94fb1_level0_col43\" class=\"col_heading level0 col43\" >Rendapercapita</th>\n",
       "      <th id=\"T_94fb1_level0_col44\" class=\"col_heading level0 col44\" >Sigla_UF_AC</th>\n",
       "      <th id=\"T_94fb1_level0_col45\" class=\"col_heading level0 col45\" >Sigla_UF_AL</th>\n",
       "      <th id=\"T_94fb1_level0_col46\" class=\"col_heading level0 col46\" >Sigla_UF_AM</th>\n",
       "      <th id=\"T_94fb1_level0_col47\" class=\"col_heading level0 col47\" >Sigla_UF_AP</th>\n",
       "      <th id=\"T_94fb1_level0_col48\" class=\"col_heading level0 col48\" >Sigla_UF_BA</th>\n",
       "      <th id=\"T_94fb1_level0_col49\" class=\"col_heading level0 col49\" >Sigla_UF_CE</th>\n",
       "      <th id=\"T_94fb1_level0_col50\" class=\"col_heading level0 col50\" >Sigla_UF_DF</th>\n",
       "      <th id=\"T_94fb1_level0_col51\" class=\"col_heading level0 col51\" >Sigla_UF_ES</th>\n",
       "      <th id=\"T_94fb1_level0_col52\" class=\"col_heading level0 col52\" >Sigla_UF_GO</th>\n",
       "      <th id=\"T_94fb1_level0_col53\" class=\"col_heading level0 col53\" >Sigla_UF_MA</th>\n",
       "      <th id=\"T_94fb1_level0_col54\" class=\"col_heading level0 col54\" >Sigla_UF_MG</th>\n",
       "      <th id=\"T_94fb1_level0_col55\" class=\"col_heading level0 col55\" >Sigla_UF_MS</th>\n",
       "      <th id=\"T_94fb1_level0_col56\" class=\"col_heading level0 col56\" >Sigla_UF_MT</th>\n",
       "      <th id=\"T_94fb1_level0_col57\" class=\"col_heading level0 col57\" >Sigla_UF_PA</th>\n",
       "      <th id=\"T_94fb1_level0_col58\" class=\"col_heading level0 col58\" >Sigla_UF_PB</th>\n",
       "      <th id=\"T_94fb1_level0_col59\" class=\"col_heading level0 col59\" >Sigla_UF_PE</th>\n",
       "      <th id=\"T_94fb1_level0_col60\" class=\"col_heading level0 col60\" >Sigla_UF_PI</th>\n",
       "      <th id=\"T_94fb1_level0_col61\" class=\"col_heading level0 col61\" >Sigla_UF_PR</th>\n",
       "      <th id=\"T_94fb1_level0_col62\" class=\"col_heading level0 col62\" >Sigla_UF_RJ</th>\n",
       "      <th id=\"T_94fb1_level0_col63\" class=\"col_heading level0 col63\" >Sigla_UF_RN</th>\n",
       "      <th id=\"T_94fb1_level0_col64\" class=\"col_heading level0 col64\" >Sigla_UF_RO</th>\n",
       "      <th id=\"T_94fb1_level0_col65\" class=\"col_heading level0 col65\" >Sigla_UF_RR</th>\n",
       "      <th id=\"T_94fb1_level0_col66\" class=\"col_heading level0 col66\" >Sigla_UF_RS</th>\n",
       "      <th id=\"T_94fb1_level0_col67\" class=\"col_heading level0 col67\" >Sigla_UF_SC</th>\n",
       "      <th id=\"T_94fb1_level0_col68\" class=\"col_heading level0 col68\" >Sigla_UF_SE</th>\n",
       "      <th id=\"T_94fb1_level0_col69\" class=\"col_heading level0 col69\" >Sigla_UF_SP</th>\n",
       "      <th id=\"T_94fb1_level0_col70\" class=\"col_heading level0 col70\" >Sigla_UF_TO</th>\n",
       "      <th id=\"T_94fb1_level0_col71\" class=\"col_heading level0 col71\" >Sigla_UF_pa</th>\n",
       "      <th id=\"T_94fb1_level0_col72\" class=\"col_heading level0 col72\" >COBRADE_11110</th>\n",
       "      <th id=\"T_94fb1_level0_col73\" class=\"col_heading level0 col73\" >COBRADE_11120</th>\n",
       "      <th id=\"T_94fb1_level0_col74\" class=\"col_heading level0 col74\" >COBRADE_11311</th>\n",
       "      <th id=\"T_94fb1_level0_col75\" class=\"col_heading level0 col75\" >COBRADE_11312</th>\n",
       "      <th id=\"T_94fb1_level0_col76\" class=\"col_heading level0 col76\" >COBRADE_11313</th>\n",
       "      <th id=\"T_94fb1_level0_col77\" class=\"col_heading level0 col77\" >COBRADE_11321</th>\n",
       "      <th id=\"T_94fb1_level0_col78\" class=\"col_heading level0 col78\" >COBRADE_11331</th>\n",
       "      <th id=\"T_94fb1_level0_col79\" class=\"col_heading level0 col79\" >COBRADE_11332</th>\n",
       "      <th id=\"T_94fb1_level0_col80\" class=\"col_heading level0 col80\" >COBRADE_11340</th>\n",
       "      <th id=\"T_94fb1_level0_col81\" class=\"col_heading level0 col81\" >COBRADE_11410</th>\n",
       "      <th id=\"T_94fb1_level0_col82\" class=\"col_heading level0 col82\" >COBRADE_11420</th>\n",
       "      <th id=\"T_94fb1_level0_col83\" class=\"col_heading level0 col83\" >COBRADE_11431</th>\n",
       "      <th id=\"T_94fb1_level0_col84\" class=\"col_heading level0 col84\" >COBRADE_11432</th>\n",
       "      <th id=\"T_94fb1_level0_col85\" class=\"col_heading level0 col85\" >COBRADE_11433</th>\n",
       "      <th id=\"T_94fb1_level0_col86\" class=\"col_heading level0 col86\" >COBRADE_12100</th>\n",
       "      <th id=\"T_94fb1_level0_col87\" class=\"col_heading level0 col87\" >COBRADE_12200</th>\n",
       "      <th id=\"T_94fb1_level0_col88\" class=\"col_heading level0 col88\" >COBRADE_12300</th>\n",
       "      <th id=\"T_94fb1_level0_col89\" class=\"col_heading level0 col89\" >COBRADE_13111</th>\n",
       "      <th id=\"T_94fb1_level0_col90\" class=\"col_heading level0 col90\" >COBRADE_13112</th>\n",
       "      <th id=\"T_94fb1_level0_col91\" class=\"col_heading level0 col91\" >COBRADE_13120</th>\n",
       "      <th id=\"T_94fb1_level0_col92\" class=\"col_heading level0 col92\" >COBRADE_13211</th>\n",
       "      <th id=\"T_94fb1_level0_col93\" class=\"col_heading level0 col93\" >COBRADE_13212</th>\n",
       "      <th id=\"T_94fb1_level0_col94\" class=\"col_heading level0 col94\" >COBRADE_13213</th>\n",
       "      <th id=\"T_94fb1_level0_col95\" class=\"col_heading level0 col95\" >COBRADE_13214</th>\n",
       "      <th id=\"T_94fb1_level0_col96\" class=\"col_heading level0 col96\" >COBRADE_13215</th>\n",
       "      <th id=\"T_94fb1_level0_col97\" class=\"col_heading level0 col97\" >COBRADE_13310</th>\n",
       "      <th id=\"T_94fb1_level0_col98\" class=\"col_heading level0 col98\" >COBRADE_13321</th>\n",
       "      <th id=\"T_94fb1_level0_col99\" class=\"col_heading level0 col99\" >COBRADE_13322</th>\n",
       "      <th id=\"T_94fb1_level0_col100\" class=\"col_heading level0 col100\" >COBRADE_14110</th>\n",
       "      <th id=\"T_94fb1_level0_col101\" class=\"col_heading level0 col101\" >COBRADE_14120</th>\n",
       "      <th id=\"T_94fb1_level0_col102\" class=\"col_heading level0 col102\" >COBRADE_14131</th>\n",
       "      <th id=\"T_94fb1_level0_col103\" class=\"col_heading level0 col103\" >COBRADE_14132</th>\n",
       "      <th id=\"T_94fb1_level0_col104\" class=\"col_heading level0 col104\" >COBRADE_14140</th>\n",
       "      <th id=\"T_94fb1_level0_col105\" class=\"col_heading level0 col105\" >COBRADE_15110</th>\n",
       "      <th id=\"T_94fb1_level0_col106\" class=\"col_heading level0 col106\" >COBRADE_15120</th>\n",
       "      <th id=\"T_94fb1_level0_col107\" class=\"col_heading level0 col107\" >COBRADE_15130</th>\n",
       "      <th id=\"T_94fb1_level0_col108\" class=\"col_heading level0 col108\" >COBRADE_15210</th>\n",
       "      <th id=\"T_94fb1_level0_col109\" class=\"col_heading level0 col109\" >COBRADE_15230</th>\n",
       "      <th id=\"T_94fb1_level0_col110\" class=\"col_heading level0 col110\" >COBRADE_22210</th>\n",
       "      <th id=\"T_94fb1_level0_col111\" class=\"col_heading level0 col111\" >COBRADE_22220</th>\n",
       "      <th id=\"T_94fb1_level0_col112\" class=\"col_heading level0 col112\" >COBRADE_23120</th>\n",
       "      <th id=\"T_94fb1_level0_col113\" class=\"col_heading level0 col113\" >COBRADE_24100</th>\n",
       "      <th id=\"T_94fb1_level0_col114\" class=\"col_heading level0 col114\" >COBRADE_24200</th>\n",
       "      <th id=\"T_94fb1_level0_col115\" class=\"col_heading level0 col115\" >COBRADE_25100</th>\n",
       "      <th id=\"T_94fb1_level0_col116\" class=\"col_heading level0 col116\" >COBRADE_25500</th>\n",
       "    </tr>\n",
       "  </thead>\n",
       "  <tbody>\n",
       "    <tr>\n",
       "      <th id=\"T_94fb1_level0_row0\" class=\"row_heading level0 row0\" >0</th>\n",
       "      <td id=\"T_94fb1_row0_col0\" class=\"data row0 col0\" >0</td>\n",
       "      <td id=\"T_94fb1_row0_col1\" class=\"data row0 col1\" >0</td>\n",
       "      <td id=\"T_94fb1_row0_col2\" class=\"data row0 col2\" >0</td>\n",
       "      <td id=\"T_94fb1_row0_col3\" class=\"data row0 col3\" >0</td>\n",
       "      <td id=\"T_94fb1_row0_col4\" class=\"data row0 col4\" >0</td>\n",
       "      <td id=\"T_94fb1_row0_col5\" class=\"data row0 col5\" >0</td>\n",
       "      <td id=\"T_94fb1_row0_col6\" class=\"data row0 col6\" >0</td>\n",
       "      <td id=\"T_94fb1_row0_col7\" class=\"data row0 col7\" >4000</td>\n",
       "      <td id=\"T_94fb1_row0_col8\" class=\"data row0 col8\" >0</td>\n",
       "      <td id=\"T_94fb1_row0_col9\" class=\"data row0 col9\" >0</td>\n",
       "      <td id=\"T_94fb1_row0_col10\" class=\"data row0 col10\" >0.000</td>\n",
       "      <td id=\"T_94fb1_row0_col11\" class=\"data row0 col11\" >0.000</td>\n",
       "      <td id=\"T_94fb1_row0_col12\" class=\"data row0 col12\" >0</td>\n",
       "      <td id=\"T_94fb1_row0_col13\" class=\"data row0 col13\" >0.000</td>\n",
       "      <td id=\"T_94fb1_row0_col14\" class=\"data row0 col14\" >0.000</td>\n",
       "      <td id=\"T_94fb1_row0_col15\" class=\"data row0 col15\" >0</td>\n",
       "      <td id=\"T_94fb1_row0_col16\" class=\"data row0 col16\" >0.000</td>\n",
       "      <td id=\"T_94fb1_row0_col17\" class=\"data row0 col17\" >0</td>\n",
       "      <td id=\"T_94fb1_row0_col18\" class=\"data row0 col18\" >0</td>\n",
       "      <td id=\"T_94fb1_row0_col19\" class=\"data row0 col19\" >0.000</td>\n",
       "      <td id=\"T_94fb1_row0_col20\" class=\"data row0 col20\" >0</td>\n",
       "      <td id=\"T_94fb1_row0_col21\" class=\"data row0 col21\" >0</td>\n",
       "      <td id=\"T_94fb1_row0_col22\" class=\"data row0 col22\" >0.000</td>\n",
       "      <td id=\"T_94fb1_row0_col23\" class=\"data row0 col23\" >8.000</td>\n",
       "      <td id=\"T_94fb1_row0_col24\" class=\"data row0 col24\" >2.000</td>\n",
       "      <td id=\"T_94fb1_row0_col25\" class=\"data row0 col25\" >166542.286</td>\n",
       "      <td id=\"T_94fb1_row0_col26\" class=\"data row0 col26\" >0.000</td>\n",
       "      <td id=\"T_94fb1_row0_col27\" class=\"data row0 col27\" >0.000</td>\n",
       "      <td id=\"T_94fb1_row0_col28\" class=\"data row0 col28\" >0.000</td>\n",
       "      <td id=\"T_94fb1_row0_col29\" class=\"data row0 col29\" >0.000</td>\n",
       "      <td id=\"T_94fb1_row0_col30\" class=\"data row0 col30\" >0.000</td>\n",
       "      <td id=\"T_94fb1_row0_col31\" class=\"data row0 col31\" >0.000</td>\n",
       "      <td id=\"T_94fb1_row0_col32\" class=\"data row0 col32\" >0.000</td>\n",
       "      <td id=\"T_94fb1_row0_col33\" class=\"data row0 col33\" >6078793.423</td>\n",
       "      <td id=\"T_94fb1_row0_col34\" class=\"data row0 col34\" >0.000</td>\n",
       "      <td id=\"T_94fb1_row0_col35\" class=\"data row0 col35\" >0.000</td>\n",
       "      <td id=\"T_94fb1_row0_col36\" class=\"data row0 col36\" >41635.571</td>\n",
       "      <td id=\"T_94fb1_row0_col37\" class=\"data row0 col37\" >5204446.424</td>\n",
       "      <td id=\"T_94fb1_row0_col38\" class=\"data row0 col38\" >0.000</td>\n",
       "      <td id=\"T_94fb1_row0_col39\" class=\"data row0 col39\" >0.000</td>\n",
       "      <td id=\"T_94fb1_row0_col40\" class=\"data row0 col40\" >0.000</td>\n",
       "      <td id=\"T_94fb1_row0_col41\" class=\"data row0 col41\" >2081778.549</td>\n",
       "      <td id=\"T_94fb1_row0_col42\" class=\"data row0 col42\" >60.642</td>\n",
       "      <td id=\"T_94fb1_row0_col43\" class=\"data row0 col43\" >17.934</td>\n",
       "      <td id=\"T_94fb1_row0_col44\" class=\"data row0 col44\" >0.000</td>\n",
       "      <td id=\"T_94fb1_row0_col45\" class=\"data row0 col45\" >0.000</td>\n",
       "      <td id=\"T_94fb1_row0_col46\" class=\"data row0 col46\" >0.000</td>\n",
       "      <td id=\"T_94fb1_row0_col47\" class=\"data row0 col47\" >0.000</td>\n",
       "      <td id=\"T_94fb1_row0_col48\" class=\"data row0 col48\" >0.000</td>\n",
       "      <td id=\"T_94fb1_row0_col49\" class=\"data row0 col49\" >0.000</td>\n",
       "      <td id=\"T_94fb1_row0_col50\" class=\"data row0 col50\" >0.000</td>\n",
       "      <td id=\"T_94fb1_row0_col51\" class=\"data row0 col51\" >0.000</td>\n",
       "      <td id=\"T_94fb1_row0_col52\" class=\"data row0 col52\" >0.000</td>\n",
       "      <td id=\"T_94fb1_row0_col53\" class=\"data row0 col53\" >0.000</td>\n",
       "      <td id=\"T_94fb1_row0_col54\" class=\"data row0 col54\" >0.000</td>\n",
       "      <td id=\"T_94fb1_row0_col55\" class=\"data row0 col55\" >0.000</td>\n",
       "      <td id=\"T_94fb1_row0_col56\" class=\"data row0 col56\" >0.000</td>\n",
       "      <td id=\"T_94fb1_row0_col57\" class=\"data row0 col57\" >0.000</td>\n",
       "      <td id=\"T_94fb1_row0_col58\" class=\"data row0 col58\" >0.000</td>\n",
       "      <td id=\"T_94fb1_row0_col59\" class=\"data row0 col59\" >0.000</td>\n",
       "      <td id=\"T_94fb1_row0_col60\" class=\"data row0 col60\" >0.000</td>\n",
       "      <td id=\"T_94fb1_row0_col61\" class=\"data row0 col61\" >1.000</td>\n",
       "      <td id=\"T_94fb1_row0_col62\" class=\"data row0 col62\" >0.000</td>\n",
       "      <td id=\"T_94fb1_row0_col63\" class=\"data row0 col63\" >0.000</td>\n",
       "      <td id=\"T_94fb1_row0_col64\" class=\"data row0 col64\" >0.000</td>\n",
       "      <td id=\"T_94fb1_row0_col65\" class=\"data row0 col65\" >0.000</td>\n",
       "      <td id=\"T_94fb1_row0_col66\" class=\"data row0 col66\" >0.000</td>\n",
       "      <td id=\"T_94fb1_row0_col67\" class=\"data row0 col67\" >0.000</td>\n",
       "      <td id=\"T_94fb1_row0_col68\" class=\"data row0 col68\" >0.000</td>\n",
       "      <td id=\"T_94fb1_row0_col69\" class=\"data row0 col69\" >0.000</td>\n",
       "      <td id=\"T_94fb1_row0_col70\" class=\"data row0 col70\" >0.000</td>\n",
       "      <td id=\"T_94fb1_row0_col71\" class=\"data row0 col71\" >0.000</td>\n",
       "      <td id=\"T_94fb1_row0_col72\" class=\"data row0 col72\" >0.000</td>\n",
       "      <td id=\"T_94fb1_row0_col73\" class=\"data row0 col73\" >0.000</td>\n",
       "      <td id=\"T_94fb1_row0_col74\" class=\"data row0 col74\" >0.000</td>\n",
       "      <td id=\"T_94fb1_row0_col75\" class=\"data row0 col75\" >0.000</td>\n",
       "      <td id=\"T_94fb1_row0_col76\" class=\"data row0 col76\" >0.000</td>\n",
       "      <td id=\"T_94fb1_row0_col77\" class=\"data row0 col77\" >0.000</td>\n",
       "      <td id=\"T_94fb1_row0_col78\" class=\"data row0 col78\" >0.000</td>\n",
       "      <td id=\"T_94fb1_row0_col79\" class=\"data row0 col79\" >0.000</td>\n",
       "      <td id=\"T_94fb1_row0_col80\" class=\"data row0 col80\" >0.000</td>\n",
       "      <td id=\"T_94fb1_row0_col81\" class=\"data row0 col81\" >0.000</td>\n",
       "      <td id=\"T_94fb1_row0_col82\" class=\"data row0 col82\" >0.000</td>\n",
       "      <td id=\"T_94fb1_row0_col83\" class=\"data row0 col83\" >0.000</td>\n",
       "      <td id=\"T_94fb1_row0_col84\" class=\"data row0 col84\" >0.000</td>\n",
       "      <td id=\"T_94fb1_row0_col85\" class=\"data row0 col85\" >0.000</td>\n",
       "      <td id=\"T_94fb1_row0_col86\" class=\"data row0 col86\" >0.000</td>\n",
       "      <td id=\"T_94fb1_row0_col87\" class=\"data row0 col87\" >1.000</td>\n",
       "      <td id=\"T_94fb1_row0_col88\" class=\"data row0 col88\" >0.000</td>\n",
       "      <td id=\"T_94fb1_row0_col89\" class=\"data row0 col89\" >0.000</td>\n",
       "      <td id=\"T_94fb1_row0_col90\" class=\"data row0 col90\" >0.000</td>\n",
       "      <td id=\"T_94fb1_row0_col91\" class=\"data row0 col91\" >0.000</td>\n",
       "      <td id=\"T_94fb1_row0_col92\" class=\"data row0 col92\" >0.000</td>\n",
       "      <td id=\"T_94fb1_row0_col93\" class=\"data row0 col93\" >0.000</td>\n",
       "      <td id=\"T_94fb1_row0_col94\" class=\"data row0 col94\" >0.000</td>\n",
       "      <td id=\"T_94fb1_row0_col95\" class=\"data row0 col95\" >0.000</td>\n",
       "      <td id=\"T_94fb1_row0_col96\" class=\"data row0 col96\" >0.000</td>\n",
       "      <td id=\"T_94fb1_row0_col97\" class=\"data row0 col97\" >0.000</td>\n",
       "      <td id=\"T_94fb1_row0_col98\" class=\"data row0 col98\" >0.000</td>\n",
       "      <td id=\"T_94fb1_row0_col99\" class=\"data row0 col99\" >0.000</td>\n",
       "      <td id=\"T_94fb1_row0_col100\" class=\"data row0 col100\" >0.000</td>\n",
       "      <td id=\"T_94fb1_row0_col101\" class=\"data row0 col101\" >0.000</td>\n",
       "      <td id=\"T_94fb1_row0_col102\" class=\"data row0 col102\" >0.000</td>\n",
       "      <td id=\"T_94fb1_row0_col103\" class=\"data row0 col103\" >0.000</td>\n",
       "      <td id=\"T_94fb1_row0_col104\" class=\"data row0 col104\" >0.000</td>\n",
       "      <td id=\"T_94fb1_row0_col105\" class=\"data row0 col105\" >0.000</td>\n",
       "      <td id=\"T_94fb1_row0_col106\" class=\"data row0 col106\" >0.000</td>\n",
       "      <td id=\"T_94fb1_row0_col107\" class=\"data row0 col107\" >0.000</td>\n",
       "      <td id=\"T_94fb1_row0_col108\" class=\"data row0 col108\" >0.000</td>\n",
       "      <td id=\"T_94fb1_row0_col109\" class=\"data row0 col109\" >0.000</td>\n",
       "      <td id=\"T_94fb1_row0_col110\" class=\"data row0 col110\" >0.000</td>\n",
       "      <td id=\"T_94fb1_row0_col111\" class=\"data row0 col111\" >0.000</td>\n",
       "      <td id=\"T_94fb1_row0_col112\" class=\"data row0 col112\" >0.000</td>\n",
       "      <td id=\"T_94fb1_row0_col113\" class=\"data row0 col113\" >0.000</td>\n",
       "      <td id=\"T_94fb1_row0_col114\" class=\"data row0 col114\" >0.000</td>\n",
       "      <td id=\"T_94fb1_row0_col115\" class=\"data row0 col115\" >0.000</td>\n",
       "      <td id=\"T_94fb1_row0_col116\" class=\"data row0 col116\" >0.000</td>\n",
       "    </tr>\n",
       "    <tr>\n",
       "      <th id=\"T_94fb1_level0_row1\" class=\"row_heading level0 row1\" >2</th>\n",
       "      <td id=\"T_94fb1_row1_col0\" class=\"data row1 col0\" >0</td>\n",
       "      <td id=\"T_94fb1_row1_col1\" class=\"data row1 col1\" >0</td>\n",
       "      <td id=\"T_94fb1_row1_col2\" class=\"data row1 col2\" >0</td>\n",
       "      <td id=\"T_94fb1_row1_col3\" class=\"data row1 col3\" >0</td>\n",
       "      <td id=\"T_94fb1_row1_col4\" class=\"data row1 col4\" >0</td>\n",
       "      <td id=\"T_94fb1_row1_col5\" class=\"data row1 col5\" >0</td>\n",
       "      <td id=\"T_94fb1_row1_col6\" class=\"data row1 col6\" >0</td>\n",
       "      <td id=\"T_94fb1_row1_col7\" class=\"data row1 col7\" >2732</td>\n",
       "      <td id=\"T_94fb1_row1_col8\" class=\"data row1 col8\" >0</td>\n",
       "      <td id=\"T_94fb1_row1_col9\" class=\"data row1 col9\" >0</td>\n",
       "      <td id=\"T_94fb1_row1_col10\" class=\"data row1 col10\" >0.000</td>\n",
       "      <td id=\"T_94fb1_row1_col11\" class=\"data row1 col11\" >0.000</td>\n",
       "      <td id=\"T_94fb1_row1_col12\" class=\"data row1 col12\" >0</td>\n",
       "      <td id=\"T_94fb1_row1_col13\" class=\"data row1 col13\" >0.000</td>\n",
       "      <td id=\"T_94fb1_row1_col14\" class=\"data row1 col14\" >0.000</td>\n",
       "      <td id=\"T_94fb1_row1_col15\" class=\"data row1 col15\" >0</td>\n",
       "      <td id=\"T_94fb1_row1_col16\" class=\"data row1 col16\" >0.000</td>\n",
       "      <td id=\"T_94fb1_row1_col17\" class=\"data row1 col17\" >0</td>\n",
       "      <td id=\"T_94fb1_row1_col18\" class=\"data row1 col18\" >0</td>\n",
       "      <td id=\"T_94fb1_row1_col19\" class=\"data row1 col19\" >0.000</td>\n",
       "      <td id=\"T_94fb1_row1_col20\" class=\"data row1 col20\" >0</td>\n",
       "      <td id=\"T_94fb1_row1_col21\" class=\"data row1 col21\" >0</td>\n",
       "      <td id=\"T_94fb1_row1_col22\" class=\"data row1 col22\" >0.000</td>\n",
       "      <td id=\"T_94fb1_row1_col23\" class=\"data row1 col23\" >0.000</td>\n",
       "      <td id=\"T_94fb1_row1_col24\" class=\"data row1 col24\" >0.000</td>\n",
       "      <td id=\"T_94fb1_row1_col25\" class=\"data row1 col25\" >0.000</td>\n",
       "      <td id=\"T_94fb1_row1_col26\" class=\"data row1 col26\" >0.000</td>\n",
       "      <td id=\"T_94fb1_row1_col27\" class=\"data row1 col27\" >0.000</td>\n",
       "      <td id=\"T_94fb1_row1_col28\" class=\"data row1 col28\" >0.000</td>\n",
       "      <td id=\"T_94fb1_row1_col29\" class=\"data row1 col29\" >0.000</td>\n",
       "      <td id=\"T_94fb1_row1_col30\" class=\"data row1 col30\" >0.000</td>\n",
       "      <td id=\"T_94fb1_row1_col31\" class=\"data row1 col31\" >0.000</td>\n",
       "      <td id=\"T_94fb1_row1_col32\" class=\"data row1 col32\" >0.000</td>\n",
       "      <td id=\"T_94fb1_row1_col33\" class=\"data row1 col33\" >0.000</td>\n",
       "      <td id=\"T_94fb1_row1_col34\" class=\"data row1 col34\" >0.000</td>\n",
       "      <td id=\"T_94fb1_row1_col35\" class=\"data row1 col35\" >0.000</td>\n",
       "      <td id=\"T_94fb1_row1_col36\" class=\"data row1 col36\" >0.000</td>\n",
       "      <td id=\"T_94fb1_row1_col37\" class=\"data row1 col37\" >0.000</td>\n",
       "      <td id=\"T_94fb1_row1_col38\" class=\"data row1 col38\" >0.000</td>\n",
       "      <td id=\"T_94fb1_row1_col39\" class=\"data row1 col39\" >0.000</td>\n",
       "      <td id=\"T_94fb1_row1_col40\" class=\"data row1 col40\" >26406.490</td>\n",
       "      <td id=\"T_94fb1_row1_col41\" class=\"data row1 col41\" >0.000</td>\n",
       "      <td id=\"T_94fb1_row1_col42\" class=\"data row1 col42\" >2.079</td>\n",
       "      <td id=\"T_94fb1_row1_col43\" class=\"data row1 col43\" >13.655</td>\n",
       "      <td id=\"T_94fb1_row1_col44\" class=\"data row1 col44\" >0.000</td>\n",
       "      <td id=\"T_94fb1_row1_col45\" class=\"data row1 col45\" >0.000</td>\n",
       "      <td id=\"T_94fb1_row1_col46\" class=\"data row1 col46\" >0.000</td>\n",
       "      <td id=\"T_94fb1_row1_col47\" class=\"data row1 col47\" >0.000</td>\n",
       "      <td id=\"T_94fb1_row1_col48\" class=\"data row1 col48\" >0.000</td>\n",
       "      <td id=\"T_94fb1_row1_col49\" class=\"data row1 col49\" >0.000</td>\n",
       "      <td id=\"T_94fb1_row1_col50\" class=\"data row1 col50\" >0.000</td>\n",
       "      <td id=\"T_94fb1_row1_col51\" class=\"data row1 col51\" >0.000</td>\n",
       "      <td id=\"T_94fb1_row1_col52\" class=\"data row1 col52\" >0.000</td>\n",
       "      <td id=\"T_94fb1_row1_col53\" class=\"data row1 col53\" >0.000</td>\n",
       "      <td id=\"T_94fb1_row1_col54\" class=\"data row1 col54\" >1.000</td>\n",
       "      <td id=\"T_94fb1_row1_col55\" class=\"data row1 col55\" >0.000</td>\n",
       "      <td id=\"T_94fb1_row1_col56\" class=\"data row1 col56\" >0.000</td>\n",
       "      <td id=\"T_94fb1_row1_col57\" class=\"data row1 col57\" >0.000</td>\n",
       "      <td id=\"T_94fb1_row1_col58\" class=\"data row1 col58\" >0.000</td>\n",
       "      <td id=\"T_94fb1_row1_col59\" class=\"data row1 col59\" >0.000</td>\n",
       "      <td id=\"T_94fb1_row1_col60\" class=\"data row1 col60\" >0.000</td>\n",
       "      <td id=\"T_94fb1_row1_col61\" class=\"data row1 col61\" >0.000</td>\n",
       "      <td id=\"T_94fb1_row1_col62\" class=\"data row1 col62\" >0.000</td>\n",
       "      <td id=\"T_94fb1_row1_col63\" class=\"data row1 col63\" >0.000</td>\n",
       "      <td id=\"T_94fb1_row1_col64\" class=\"data row1 col64\" >0.000</td>\n",
       "      <td id=\"T_94fb1_row1_col65\" class=\"data row1 col65\" >0.000</td>\n",
       "      <td id=\"T_94fb1_row1_col66\" class=\"data row1 col66\" >0.000</td>\n",
       "      <td id=\"T_94fb1_row1_col67\" class=\"data row1 col67\" >0.000</td>\n",
       "      <td id=\"T_94fb1_row1_col68\" class=\"data row1 col68\" >0.000</td>\n",
       "      <td id=\"T_94fb1_row1_col69\" class=\"data row1 col69\" >0.000</td>\n",
       "      <td id=\"T_94fb1_row1_col70\" class=\"data row1 col70\" >0.000</td>\n",
       "      <td id=\"T_94fb1_row1_col71\" class=\"data row1 col71\" >0.000</td>\n",
       "      <td id=\"T_94fb1_row1_col72\" class=\"data row1 col72\" >0.000</td>\n",
       "      <td id=\"T_94fb1_row1_col73\" class=\"data row1 col73\" >0.000</td>\n",
       "      <td id=\"T_94fb1_row1_col74\" class=\"data row1 col74\" >0.000</td>\n",
       "      <td id=\"T_94fb1_row1_col75\" class=\"data row1 col75\" >0.000</td>\n",
       "      <td id=\"T_94fb1_row1_col76\" class=\"data row1 col76\" >0.000</td>\n",
       "      <td id=\"T_94fb1_row1_col77\" class=\"data row1 col77\" >0.000</td>\n",
       "      <td id=\"T_94fb1_row1_col78\" class=\"data row1 col78\" >0.000</td>\n",
       "      <td id=\"T_94fb1_row1_col79\" class=\"data row1 col79\" >0.000</td>\n",
       "      <td id=\"T_94fb1_row1_col80\" class=\"data row1 col80\" >0.000</td>\n",
       "      <td id=\"T_94fb1_row1_col81\" class=\"data row1 col81\" >0.000</td>\n",
       "      <td id=\"T_94fb1_row1_col82\" class=\"data row1 col82\" >0.000</td>\n",
       "      <td id=\"T_94fb1_row1_col83\" class=\"data row1 col83\" >0.000</td>\n",
       "      <td id=\"T_94fb1_row1_col84\" class=\"data row1 col84\" >0.000</td>\n",
       "      <td id=\"T_94fb1_row1_col85\" class=\"data row1 col85\" >0.000</td>\n",
       "      <td id=\"T_94fb1_row1_col86\" class=\"data row1 col86\" >0.000</td>\n",
       "      <td id=\"T_94fb1_row1_col87\" class=\"data row1 col87\" >0.000</td>\n",
       "      <td id=\"T_94fb1_row1_col88\" class=\"data row1 col88\" >0.000</td>\n",
       "      <td id=\"T_94fb1_row1_col89\" class=\"data row1 col89\" >0.000</td>\n",
       "      <td id=\"T_94fb1_row1_col90\" class=\"data row1 col90\" >0.000</td>\n",
       "      <td id=\"T_94fb1_row1_col91\" class=\"data row1 col91\" >0.000</td>\n",
       "      <td id=\"T_94fb1_row1_col92\" class=\"data row1 col92\" >0.000</td>\n",
       "      <td id=\"T_94fb1_row1_col93\" class=\"data row1 col93\" >0.000</td>\n",
       "      <td id=\"T_94fb1_row1_col94\" class=\"data row1 col94\" >0.000</td>\n",
       "      <td id=\"T_94fb1_row1_col95\" class=\"data row1 col95\" >0.000</td>\n",
       "      <td id=\"T_94fb1_row1_col96\" class=\"data row1 col96\" >0.000</td>\n",
       "      <td id=\"T_94fb1_row1_col97\" class=\"data row1 col97\" >0.000</td>\n",
       "      <td id=\"T_94fb1_row1_col98\" class=\"data row1 col98\" >0.000</td>\n",
       "      <td id=\"T_94fb1_row1_col99\" class=\"data row1 col99\" >0.000</td>\n",
       "      <td id=\"T_94fb1_row1_col100\" class=\"data row1 col100\" >1.000</td>\n",
       "      <td id=\"T_94fb1_row1_col101\" class=\"data row1 col101\" >0.000</td>\n",
       "      <td id=\"T_94fb1_row1_col102\" class=\"data row1 col102\" >0.000</td>\n",
       "      <td id=\"T_94fb1_row1_col103\" class=\"data row1 col103\" >0.000</td>\n",
       "      <td id=\"T_94fb1_row1_col104\" class=\"data row1 col104\" >0.000</td>\n",
       "      <td id=\"T_94fb1_row1_col105\" class=\"data row1 col105\" >0.000</td>\n",
       "      <td id=\"T_94fb1_row1_col106\" class=\"data row1 col106\" >0.000</td>\n",
       "      <td id=\"T_94fb1_row1_col107\" class=\"data row1 col107\" >0.000</td>\n",
       "      <td id=\"T_94fb1_row1_col108\" class=\"data row1 col108\" >0.000</td>\n",
       "      <td id=\"T_94fb1_row1_col109\" class=\"data row1 col109\" >0.000</td>\n",
       "      <td id=\"T_94fb1_row1_col110\" class=\"data row1 col110\" >0.000</td>\n",
       "      <td id=\"T_94fb1_row1_col111\" class=\"data row1 col111\" >0.000</td>\n",
       "      <td id=\"T_94fb1_row1_col112\" class=\"data row1 col112\" >0.000</td>\n",
       "      <td id=\"T_94fb1_row1_col113\" class=\"data row1 col113\" >0.000</td>\n",
       "      <td id=\"T_94fb1_row1_col114\" class=\"data row1 col114\" >0.000</td>\n",
       "      <td id=\"T_94fb1_row1_col115\" class=\"data row1 col115\" >0.000</td>\n",
       "      <td id=\"T_94fb1_row1_col116\" class=\"data row1 col116\" >0.000</td>\n",
       "    </tr>\n",
       "    <tr>\n",
       "      <th id=\"T_94fb1_level0_row2\" class=\"row_heading level0 row2\" >3</th>\n",
       "      <td id=\"T_94fb1_row2_col0\" class=\"data row2 col0\" >0</td>\n",
       "      <td id=\"T_94fb1_row2_col1\" class=\"data row2 col1\" >0</td>\n",
       "      <td id=\"T_94fb1_row2_col2\" class=\"data row2 col2\" >0</td>\n",
       "      <td id=\"T_94fb1_row2_col3\" class=\"data row2 col3\" >0</td>\n",
       "      <td id=\"T_94fb1_row2_col4\" class=\"data row2 col4\" >0</td>\n",
       "      <td id=\"T_94fb1_row2_col5\" class=\"data row2 col5\" >0</td>\n",
       "      <td id=\"T_94fb1_row2_col6\" class=\"data row2 col6\" >0</td>\n",
       "      <td id=\"T_94fb1_row2_col7\" class=\"data row2 col7\" >0</td>\n",
       "      <td id=\"T_94fb1_row2_col8\" class=\"data row2 col8\" >0</td>\n",
       "      <td id=\"T_94fb1_row2_col9\" class=\"data row2 col9\" >0</td>\n",
       "      <td id=\"T_94fb1_row2_col10\" class=\"data row2 col10\" >0.000</td>\n",
       "      <td id=\"T_94fb1_row2_col11\" class=\"data row2 col11\" >0.000</td>\n",
       "      <td id=\"T_94fb1_row2_col12\" class=\"data row2 col12\" >0</td>\n",
       "      <td id=\"T_94fb1_row2_col13\" class=\"data row2 col13\" >0.000</td>\n",
       "      <td id=\"T_94fb1_row2_col14\" class=\"data row2 col14\" >0.000</td>\n",
       "      <td id=\"T_94fb1_row2_col15\" class=\"data row2 col15\" >0</td>\n",
       "      <td id=\"T_94fb1_row2_col16\" class=\"data row2 col16\" >0.000</td>\n",
       "      <td id=\"T_94fb1_row2_col17\" class=\"data row2 col17\" >0</td>\n",
       "      <td id=\"T_94fb1_row2_col18\" class=\"data row2 col18\" >0</td>\n",
       "      <td id=\"T_94fb1_row2_col19\" class=\"data row2 col19\" >0.000</td>\n",
       "      <td id=\"T_94fb1_row2_col20\" class=\"data row2 col20\" >0</td>\n",
       "      <td id=\"T_94fb1_row2_col21\" class=\"data row2 col21\" >0</td>\n",
       "      <td id=\"T_94fb1_row2_col22\" class=\"data row2 col22\" >0.000</td>\n",
       "      <td id=\"T_94fb1_row2_col23\" class=\"data row2 col23\" >0.000</td>\n",
       "      <td id=\"T_94fb1_row2_col24\" class=\"data row2 col24\" >0.000</td>\n",
       "      <td id=\"T_94fb1_row2_col25\" class=\"data row2 col25\" >0.000</td>\n",
       "      <td id=\"T_94fb1_row2_col26\" class=\"data row2 col26\" >0.000</td>\n",
       "      <td id=\"T_94fb1_row2_col27\" class=\"data row2 col27\" >0.000</td>\n",
       "      <td id=\"T_94fb1_row2_col28\" class=\"data row2 col28\" >0.000</td>\n",
       "      <td id=\"T_94fb1_row2_col29\" class=\"data row2 col29\" >0.000</td>\n",
       "      <td id=\"T_94fb1_row2_col30\" class=\"data row2 col30\" >0.000</td>\n",
       "      <td id=\"T_94fb1_row2_col31\" class=\"data row2 col31\" >0.000</td>\n",
       "      <td id=\"T_94fb1_row2_col32\" class=\"data row2 col32\" >0.000</td>\n",
       "      <td id=\"T_94fb1_row2_col33\" class=\"data row2 col33\" >0.000</td>\n",
       "      <td id=\"T_94fb1_row2_col34\" class=\"data row2 col34\" >0.000</td>\n",
       "      <td id=\"T_94fb1_row2_col35\" class=\"data row2 col35\" >0.000</td>\n",
       "      <td id=\"T_94fb1_row2_col36\" class=\"data row2 col36\" >0.000</td>\n",
       "      <td id=\"T_94fb1_row2_col37\" class=\"data row2 col37\" >0.000</td>\n",
       "      <td id=\"T_94fb1_row2_col38\" class=\"data row2 col38\" >0.000</td>\n",
       "      <td id=\"T_94fb1_row2_col39\" class=\"data row2 col39\" >0.000</td>\n",
       "      <td id=\"T_94fb1_row2_col40\" class=\"data row2 col40\" >0.000</td>\n",
       "      <td id=\"T_94fb1_row2_col41\" class=\"data row2 col41\" >0.000</td>\n",
       "      <td id=\"T_94fb1_row2_col42\" class=\"data row2 col42\" >19.773</td>\n",
       "      <td id=\"T_94fb1_row2_col43\" class=\"data row2 col43\" >5.997</td>\n",
       "      <td id=\"T_94fb1_row2_col44\" class=\"data row2 col44\" >0.000</td>\n",
       "      <td id=\"T_94fb1_row2_col45\" class=\"data row2 col45\" >0.000</td>\n",
       "      <td id=\"T_94fb1_row2_col46\" class=\"data row2 col46\" >0.000</td>\n",
       "      <td id=\"T_94fb1_row2_col47\" class=\"data row2 col47\" >0.000</td>\n",
       "      <td id=\"T_94fb1_row2_col48\" class=\"data row2 col48\" >0.000</td>\n",
       "      <td id=\"T_94fb1_row2_col49\" class=\"data row2 col49\" >0.000</td>\n",
       "      <td id=\"T_94fb1_row2_col50\" class=\"data row2 col50\" >0.000</td>\n",
       "      <td id=\"T_94fb1_row2_col51\" class=\"data row2 col51\" >0.000</td>\n",
       "      <td id=\"T_94fb1_row2_col52\" class=\"data row2 col52\" >0.000</td>\n",
       "      <td id=\"T_94fb1_row2_col53\" class=\"data row2 col53\" >0.000</td>\n",
       "      <td id=\"T_94fb1_row2_col54\" class=\"data row2 col54\" >0.000</td>\n",
       "      <td id=\"T_94fb1_row2_col55\" class=\"data row2 col55\" >0.000</td>\n",
       "      <td id=\"T_94fb1_row2_col56\" class=\"data row2 col56\" >0.000</td>\n",
       "      <td id=\"T_94fb1_row2_col57\" class=\"data row2 col57\" >0.000</td>\n",
       "      <td id=\"T_94fb1_row2_col58\" class=\"data row2 col58\" >0.000</td>\n",
       "      <td id=\"T_94fb1_row2_col59\" class=\"data row2 col59\" >1.000</td>\n",
       "      <td id=\"T_94fb1_row2_col60\" class=\"data row2 col60\" >0.000</td>\n",
       "      <td id=\"T_94fb1_row2_col61\" class=\"data row2 col61\" >0.000</td>\n",
       "      <td id=\"T_94fb1_row2_col62\" class=\"data row2 col62\" >0.000</td>\n",
       "      <td id=\"T_94fb1_row2_col63\" class=\"data row2 col63\" >0.000</td>\n",
       "      <td id=\"T_94fb1_row2_col64\" class=\"data row2 col64\" >0.000</td>\n",
       "      <td id=\"T_94fb1_row2_col65\" class=\"data row2 col65\" >0.000</td>\n",
       "      <td id=\"T_94fb1_row2_col66\" class=\"data row2 col66\" >0.000</td>\n",
       "      <td id=\"T_94fb1_row2_col67\" class=\"data row2 col67\" >0.000</td>\n",
       "      <td id=\"T_94fb1_row2_col68\" class=\"data row2 col68\" >0.000</td>\n",
       "      <td id=\"T_94fb1_row2_col69\" class=\"data row2 col69\" >0.000</td>\n",
       "      <td id=\"T_94fb1_row2_col70\" class=\"data row2 col70\" >0.000</td>\n",
       "      <td id=\"T_94fb1_row2_col71\" class=\"data row2 col71\" >0.000</td>\n",
       "      <td id=\"T_94fb1_row2_col72\" class=\"data row2 col72\" >0.000</td>\n",
       "      <td id=\"T_94fb1_row2_col73\" class=\"data row2 col73\" >0.000</td>\n",
       "      <td id=\"T_94fb1_row2_col74\" class=\"data row2 col74\" >0.000</td>\n",
       "      <td id=\"T_94fb1_row2_col75\" class=\"data row2 col75\" >0.000</td>\n",
       "      <td id=\"T_94fb1_row2_col76\" class=\"data row2 col76\" >0.000</td>\n",
       "      <td id=\"T_94fb1_row2_col77\" class=\"data row2 col77\" >0.000</td>\n",
       "      <td id=\"T_94fb1_row2_col78\" class=\"data row2 col78\" >0.000</td>\n",
       "      <td id=\"T_94fb1_row2_col79\" class=\"data row2 col79\" >0.000</td>\n",
       "      <td id=\"T_94fb1_row2_col80\" class=\"data row2 col80\" >0.000</td>\n",
       "      <td id=\"T_94fb1_row2_col81\" class=\"data row2 col81\" >0.000</td>\n",
       "      <td id=\"T_94fb1_row2_col82\" class=\"data row2 col82\" >0.000</td>\n",
       "      <td id=\"T_94fb1_row2_col83\" class=\"data row2 col83\" >0.000</td>\n",
       "      <td id=\"T_94fb1_row2_col84\" class=\"data row2 col84\" >0.000</td>\n",
       "      <td id=\"T_94fb1_row2_col85\" class=\"data row2 col85\" >0.000</td>\n",
       "      <td id=\"T_94fb1_row2_col86\" class=\"data row2 col86\" >0.000</td>\n",
       "      <td id=\"T_94fb1_row2_col87\" class=\"data row2 col87\" >0.000</td>\n",
       "      <td id=\"T_94fb1_row2_col88\" class=\"data row2 col88\" >0.000</td>\n",
       "      <td id=\"T_94fb1_row2_col89\" class=\"data row2 col89\" >0.000</td>\n",
       "      <td id=\"T_94fb1_row2_col90\" class=\"data row2 col90\" >0.000</td>\n",
       "      <td id=\"T_94fb1_row2_col91\" class=\"data row2 col91\" >0.000</td>\n",
       "      <td id=\"T_94fb1_row2_col92\" class=\"data row2 col92\" >0.000</td>\n",
       "      <td id=\"T_94fb1_row2_col93\" class=\"data row2 col93\" >0.000</td>\n",
       "      <td id=\"T_94fb1_row2_col94\" class=\"data row2 col94\" >0.000</td>\n",
       "      <td id=\"T_94fb1_row2_col95\" class=\"data row2 col95\" >0.000</td>\n",
       "      <td id=\"T_94fb1_row2_col96\" class=\"data row2 col96\" >0.000</td>\n",
       "      <td id=\"T_94fb1_row2_col97\" class=\"data row2 col97\" >0.000</td>\n",
       "      <td id=\"T_94fb1_row2_col98\" class=\"data row2 col98\" >0.000</td>\n",
       "      <td id=\"T_94fb1_row2_col99\" class=\"data row2 col99\" >0.000</td>\n",
       "      <td id=\"T_94fb1_row2_col100\" class=\"data row2 col100\" >1.000</td>\n",
       "      <td id=\"T_94fb1_row2_col101\" class=\"data row2 col101\" >0.000</td>\n",
       "      <td id=\"T_94fb1_row2_col102\" class=\"data row2 col102\" >0.000</td>\n",
       "      <td id=\"T_94fb1_row2_col103\" class=\"data row2 col103\" >0.000</td>\n",
       "      <td id=\"T_94fb1_row2_col104\" class=\"data row2 col104\" >0.000</td>\n",
       "      <td id=\"T_94fb1_row2_col105\" class=\"data row2 col105\" >0.000</td>\n",
       "      <td id=\"T_94fb1_row2_col106\" class=\"data row2 col106\" >0.000</td>\n",
       "      <td id=\"T_94fb1_row2_col107\" class=\"data row2 col107\" >0.000</td>\n",
       "      <td id=\"T_94fb1_row2_col108\" class=\"data row2 col108\" >0.000</td>\n",
       "      <td id=\"T_94fb1_row2_col109\" class=\"data row2 col109\" >0.000</td>\n",
       "      <td id=\"T_94fb1_row2_col110\" class=\"data row2 col110\" >0.000</td>\n",
       "      <td id=\"T_94fb1_row2_col111\" class=\"data row2 col111\" >0.000</td>\n",
       "      <td id=\"T_94fb1_row2_col112\" class=\"data row2 col112\" >0.000</td>\n",
       "      <td id=\"T_94fb1_row2_col113\" class=\"data row2 col113\" >0.000</td>\n",
       "      <td id=\"T_94fb1_row2_col114\" class=\"data row2 col114\" >0.000</td>\n",
       "      <td id=\"T_94fb1_row2_col115\" class=\"data row2 col115\" >0.000</td>\n",
       "      <td id=\"T_94fb1_row2_col116\" class=\"data row2 col116\" >0.000</td>\n",
       "    </tr>\n",
       "    <tr>\n",
       "      <th id=\"T_94fb1_level0_row3\" class=\"row_heading level0 row3\" >7</th>\n",
       "      <td id=\"T_94fb1_row3_col0\" class=\"data row3 col0\" >0</td>\n",
       "      <td id=\"T_94fb1_row3_col1\" class=\"data row3 col1\" >0</td>\n",
       "      <td id=\"T_94fb1_row3_col2\" class=\"data row3 col2\" >0</td>\n",
       "      <td id=\"T_94fb1_row3_col3\" class=\"data row3 col3\" >0</td>\n",
       "      <td id=\"T_94fb1_row3_col4\" class=\"data row3 col4\" >0</td>\n",
       "      <td id=\"T_94fb1_row3_col5\" class=\"data row3 col5\" >0</td>\n",
       "      <td id=\"T_94fb1_row3_col6\" class=\"data row3 col6\" >0</td>\n",
       "      <td id=\"T_94fb1_row3_col7\" class=\"data row3 col7\" >0</td>\n",
       "      <td id=\"T_94fb1_row3_col8\" class=\"data row3 col8\" >0</td>\n",
       "      <td id=\"T_94fb1_row3_col9\" class=\"data row3 col9\" >0</td>\n",
       "      <td id=\"T_94fb1_row3_col10\" class=\"data row3 col10\" >0.000</td>\n",
       "      <td id=\"T_94fb1_row3_col11\" class=\"data row3 col11\" >0.000</td>\n",
       "      <td id=\"T_94fb1_row3_col12\" class=\"data row3 col12\" >0</td>\n",
       "      <td id=\"T_94fb1_row3_col13\" class=\"data row3 col13\" >0.000</td>\n",
       "      <td id=\"T_94fb1_row3_col14\" class=\"data row3 col14\" >0.000</td>\n",
       "      <td id=\"T_94fb1_row3_col15\" class=\"data row3 col15\" >0</td>\n",
       "      <td id=\"T_94fb1_row3_col16\" class=\"data row3 col16\" >0.000</td>\n",
       "      <td id=\"T_94fb1_row3_col17\" class=\"data row3 col17\" >0</td>\n",
       "      <td id=\"T_94fb1_row3_col18\" class=\"data row3 col18\" >0</td>\n",
       "      <td id=\"T_94fb1_row3_col19\" class=\"data row3 col19\" >0.000</td>\n",
       "      <td id=\"T_94fb1_row3_col20\" class=\"data row3 col20\" >0</td>\n",
       "      <td id=\"T_94fb1_row3_col21\" class=\"data row3 col21\" >0</td>\n",
       "      <td id=\"T_94fb1_row3_col22\" class=\"data row3 col22\" >0.000</td>\n",
       "      <td id=\"T_94fb1_row3_col23\" class=\"data row3 col23\" >0.000</td>\n",
       "      <td id=\"T_94fb1_row3_col24\" class=\"data row3 col24\" >0.000</td>\n",
       "      <td id=\"T_94fb1_row3_col25\" class=\"data row3 col25\" >0.000</td>\n",
       "      <td id=\"T_94fb1_row3_col26\" class=\"data row3 col26\" >0.000</td>\n",
       "      <td id=\"T_94fb1_row3_col27\" class=\"data row3 col27\" >0.000</td>\n",
       "      <td id=\"T_94fb1_row3_col28\" class=\"data row3 col28\" >0.000</td>\n",
       "      <td id=\"T_94fb1_row3_col29\" class=\"data row3 col29\" >0.000</td>\n",
       "      <td id=\"T_94fb1_row3_col30\" class=\"data row3 col30\" >0.000</td>\n",
       "      <td id=\"T_94fb1_row3_col31\" class=\"data row3 col31\" >0.000</td>\n",
       "      <td id=\"T_94fb1_row3_col32\" class=\"data row3 col32\" >0.000</td>\n",
       "      <td id=\"T_94fb1_row3_col33\" class=\"data row3 col33\" >0.000</td>\n",
       "      <td id=\"T_94fb1_row3_col34\" class=\"data row3 col34\" >0.000</td>\n",
       "      <td id=\"T_94fb1_row3_col35\" class=\"data row3 col35\" >0.000</td>\n",
       "      <td id=\"T_94fb1_row3_col36\" class=\"data row3 col36\" >0.000</td>\n",
       "      <td id=\"T_94fb1_row3_col37\" class=\"data row3 col37\" >0.000</td>\n",
       "      <td id=\"T_94fb1_row3_col38\" class=\"data row3 col38\" >0.000</td>\n",
       "      <td id=\"T_94fb1_row3_col39\" class=\"data row3 col39\" >0.000</td>\n",
       "      <td id=\"T_94fb1_row3_col40\" class=\"data row3 col40\" >0.000</td>\n",
       "      <td id=\"T_94fb1_row3_col41\" class=\"data row3 col41\" >0.000</td>\n",
       "      <td id=\"T_94fb1_row3_col42\" class=\"data row3 col42\" >84.752</td>\n",
       "      <td id=\"T_94fb1_row3_col43\" class=\"data row3 col43\" >9.864</td>\n",
       "      <td id=\"T_94fb1_row3_col44\" class=\"data row3 col44\" >0.000</td>\n",
       "      <td id=\"T_94fb1_row3_col45\" class=\"data row3 col45\" >0.000</td>\n",
       "      <td id=\"T_94fb1_row3_col46\" class=\"data row3 col46\" >0.000</td>\n",
       "      <td id=\"T_94fb1_row3_col47\" class=\"data row3 col47\" >0.000</td>\n",
       "      <td id=\"T_94fb1_row3_col48\" class=\"data row3 col48\" >0.000</td>\n",
       "      <td id=\"T_94fb1_row3_col49\" class=\"data row3 col49\" >0.000</td>\n",
       "      <td id=\"T_94fb1_row3_col50\" class=\"data row3 col50\" >0.000</td>\n",
       "      <td id=\"T_94fb1_row3_col51\" class=\"data row3 col51\" >0.000</td>\n",
       "      <td id=\"T_94fb1_row3_col52\" class=\"data row3 col52\" >0.000</td>\n",
       "      <td id=\"T_94fb1_row3_col53\" class=\"data row3 col53\" >0.000</td>\n",
       "      <td id=\"T_94fb1_row3_col54\" class=\"data row3 col54\" >0.000</td>\n",
       "      <td id=\"T_94fb1_row3_col55\" class=\"data row3 col55\" >0.000</td>\n",
       "      <td id=\"T_94fb1_row3_col56\" class=\"data row3 col56\" >0.000</td>\n",
       "      <td id=\"T_94fb1_row3_col57\" class=\"data row3 col57\" >0.000</td>\n",
       "      <td id=\"T_94fb1_row3_col58\" class=\"data row3 col58\" >0.000</td>\n",
       "      <td id=\"T_94fb1_row3_col59\" class=\"data row3 col59\" >0.000</td>\n",
       "      <td id=\"T_94fb1_row3_col60\" class=\"data row3 col60\" >0.000</td>\n",
       "      <td id=\"T_94fb1_row3_col61\" class=\"data row3 col61\" >0.000</td>\n",
       "      <td id=\"T_94fb1_row3_col62\" class=\"data row3 col62\" >0.000</td>\n",
       "      <td id=\"T_94fb1_row3_col63\" class=\"data row3 col63\" >1.000</td>\n",
       "      <td id=\"T_94fb1_row3_col64\" class=\"data row3 col64\" >0.000</td>\n",
       "      <td id=\"T_94fb1_row3_col65\" class=\"data row3 col65\" >0.000</td>\n",
       "      <td id=\"T_94fb1_row3_col66\" class=\"data row3 col66\" >0.000</td>\n",
       "      <td id=\"T_94fb1_row3_col67\" class=\"data row3 col67\" >0.000</td>\n",
       "      <td id=\"T_94fb1_row3_col68\" class=\"data row3 col68\" >0.000</td>\n",
       "      <td id=\"T_94fb1_row3_col69\" class=\"data row3 col69\" >0.000</td>\n",
       "      <td id=\"T_94fb1_row3_col70\" class=\"data row3 col70\" >0.000</td>\n",
       "      <td id=\"T_94fb1_row3_col71\" class=\"data row3 col71\" >0.000</td>\n",
       "      <td id=\"T_94fb1_row3_col72\" class=\"data row3 col72\" >0.000</td>\n",
       "      <td id=\"T_94fb1_row3_col73\" class=\"data row3 col73\" >0.000</td>\n",
       "      <td id=\"T_94fb1_row3_col74\" class=\"data row3 col74\" >0.000</td>\n",
       "      <td id=\"T_94fb1_row3_col75\" class=\"data row3 col75\" >0.000</td>\n",
       "      <td id=\"T_94fb1_row3_col76\" class=\"data row3 col76\" >0.000</td>\n",
       "      <td id=\"T_94fb1_row3_col77\" class=\"data row3 col77\" >0.000</td>\n",
       "      <td id=\"T_94fb1_row3_col78\" class=\"data row3 col78\" >0.000</td>\n",
       "      <td id=\"T_94fb1_row3_col79\" class=\"data row3 col79\" >0.000</td>\n",
       "      <td id=\"T_94fb1_row3_col80\" class=\"data row3 col80\" >0.000</td>\n",
       "      <td id=\"T_94fb1_row3_col81\" class=\"data row3 col81\" >0.000</td>\n",
       "      <td id=\"T_94fb1_row3_col82\" class=\"data row3 col82\" >0.000</td>\n",
       "      <td id=\"T_94fb1_row3_col83\" class=\"data row3 col83\" >0.000</td>\n",
       "      <td id=\"T_94fb1_row3_col84\" class=\"data row3 col84\" >0.000</td>\n",
       "      <td id=\"T_94fb1_row3_col85\" class=\"data row3 col85\" >0.000</td>\n",
       "      <td id=\"T_94fb1_row3_col86\" class=\"data row3 col86\" >0.000</td>\n",
       "      <td id=\"T_94fb1_row3_col87\" class=\"data row3 col87\" >0.000</td>\n",
       "      <td id=\"T_94fb1_row3_col88\" class=\"data row3 col88\" >0.000</td>\n",
       "      <td id=\"T_94fb1_row3_col89\" class=\"data row3 col89\" >0.000</td>\n",
       "      <td id=\"T_94fb1_row3_col90\" class=\"data row3 col90\" >0.000</td>\n",
       "      <td id=\"T_94fb1_row3_col91\" class=\"data row3 col91\" >0.000</td>\n",
       "      <td id=\"T_94fb1_row3_col92\" class=\"data row3 col92\" >0.000</td>\n",
       "      <td id=\"T_94fb1_row3_col93\" class=\"data row3 col93\" >0.000</td>\n",
       "      <td id=\"T_94fb1_row3_col94\" class=\"data row3 col94\" >0.000</td>\n",
       "      <td id=\"T_94fb1_row3_col95\" class=\"data row3 col95\" >0.000</td>\n",
       "      <td id=\"T_94fb1_row3_col96\" class=\"data row3 col96\" >0.000</td>\n",
       "      <td id=\"T_94fb1_row3_col97\" class=\"data row3 col97\" >0.000</td>\n",
       "      <td id=\"T_94fb1_row3_col98\" class=\"data row3 col98\" >0.000</td>\n",
       "      <td id=\"T_94fb1_row3_col99\" class=\"data row3 col99\" >0.000</td>\n",
       "      <td id=\"T_94fb1_row3_col100\" class=\"data row3 col100\" >0.000</td>\n",
       "      <td id=\"T_94fb1_row3_col101\" class=\"data row3 col101\" >1.000</td>\n",
       "      <td id=\"T_94fb1_row3_col102\" class=\"data row3 col102\" >0.000</td>\n",
       "      <td id=\"T_94fb1_row3_col103\" class=\"data row3 col103\" >0.000</td>\n",
       "      <td id=\"T_94fb1_row3_col104\" class=\"data row3 col104\" >0.000</td>\n",
       "      <td id=\"T_94fb1_row3_col105\" class=\"data row3 col105\" >0.000</td>\n",
       "      <td id=\"T_94fb1_row3_col106\" class=\"data row3 col106\" >0.000</td>\n",
       "      <td id=\"T_94fb1_row3_col107\" class=\"data row3 col107\" >0.000</td>\n",
       "      <td id=\"T_94fb1_row3_col108\" class=\"data row3 col108\" >0.000</td>\n",
       "      <td id=\"T_94fb1_row3_col109\" class=\"data row3 col109\" >0.000</td>\n",
       "      <td id=\"T_94fb1_row3_col110\" class=\"data row3 col110\" >0.000</td>\n",
       "      <td id=\"T_94fb1_row3_col111\" class=\"data row3 col111\" >0.000</td>\n",
       "      <td id=\"T_94fb1_row3_col112\" class=\"data row3 col112\" >0.000</td>\n",
       "      <td id=\"T_94fb1_row3_col113\" class=\"data row3 col113\" >0.000</td>\n",
       "      <td id=\"T_94fb1_row3_col114\" class=\"data row3 col114\" >0.000</td>\n",
       "      <td id=\"T_94fb1_row3_col115\" class=\"data row3 col115\" >0.000</td>\n",
       "      <td id=\"T_94fb1_row3_col116\" class=\"data row3 col116\" >0.000</td>\n",
       "    </tr>\n",
       "    <tr>\n",
       "      <th id=\"T_94fb1_level0_row4\" class=\"row_heading level0 row4\" >10</th>\n",
       "      <td id=\"T_94fb1_row4_col0\" class=\"data row4 col0\" >0</td>\n",
       "      <td id=\"T_94fb1_row4_col1\" class=\"data row4 col1\" >0</td>\n",
       "      <td id=\"T_94fb1_row4_col2\" class=\"data row4 col2\" >0</td>\n",
       "      <td id=\"T_94fb1_row4_col3\" class=\"data row4 col3\" >0</td>\n",
       "      <td id=\"T_94fb1_row4_col4\" class=\"data row4 col4\" >0</td>\n",
       "      <td id=\"T_94fb1_row4_col5\" class=\"data row4 col5\" >0</td>\n",
       "      <td id=\"T_94fb1_row4_col6\" class=\"data row4 col6\" >0</td>\n",
       "      <td id=\"T_94fb1_row4_col7\" class=\"data row4 col7\" >0</td>\n",
       "      <td id=\"T_94fb1_row4_col8\" class=\"data row4 col8\" >0</td>\n",
       "      <td id=\"T_94fb1_row4_col9\" class=\"data row4 col9\" >0</td>\n",
       "      <td id=\"T_94fb1_row4_col10\" class=\"data row4 col10\" >0.000</td>\n",
       "      <td id=\"T_94fb1_row4_col11\" class=\"data row4 col11\" >0.000</td>\n",
       "      <td id=\"T_94fb1_row4_col12\" class=\"data row4 col12\" >0</td>\n",
       "      <td id=\"T_94fb1_row4_col13\" class=\"data row4 col13\" >0.000</td>\n",
       "      <td id=\"T_94fb1_row4_col14\" class=\"data row4 col14\" >0.000</td>\n",
       "      <td id=\"T_94fb1_row4_col15\" class=\"data row4 col15\" >0</td>\n",
       "      <td id=\"T_94fb1_row4_col16\" class=\"data row4 col16\" >0.000</td>\n",
       "      <td id=\"T_94fb1_row4_col17\" class=\"data row4 col17\" >0</td>\n",
       "      <td id=\"T_94fb1_row4_col18\" class=\"data row4 col18\" >0</td>\n",
       "      <td id=\"T_94fb1_row4_col19\" class=\"data row4 col19\" >0.000</td>\n",
       "      <td id=\"T_94fb1_row4_col20\" class=\"data row4 col20\" >0</td>\n",
       "      <td id=\"T_94fb1_row4_col21\" class=\"data row4 col21\" >0</td>\n",
       "      <td id=\"T_94fb1_row4_col22\" class=\"data row4 col22\" >0.000</td>\n",
       "      <td id=\"T_94fb1_row4_col23\" class=\"data row4 col23\" >0.000</td>\n",
       "      <td id=\"T_94fb1_row4_col24\" class=\"data row4 col24\" >0.000</td>\n",
       "      <td id=\"T_94fb1_row4_col25\" class=\"data row4 col25\" >0.000</td>\n",
       "      <td id=\"T_94fb1_row4_col26\" class=\"data row4 col26\" >0.000</td>\n",
       "      <td id=\"T_94fb1_row4_col27\" class=\"data row4 col27\" >0.000</td>\n",
       "      <td id=\"T_94fb1_row4_col28\" class=\"data row4 col28\" >0.000</td>\n",
       "      <td id=\"T_94fb1_row4_col29\" class=\"data row4 col29\" >0.000</td>\n",
       "      <td id=\"T_94fb1_row4_col30\" class=\"data row4 col30\" >0.000</td>\n",
       "      <td id=\"T_94fb1_row4_col31\" class=\"data row4 col31\" >0.000</td>\n",
       "      <td id=\"T_94fb1_row4_col32\" class=\"data row4 col32\" >0.000</td>\n",
       "      <td id=\"T_94fb1_row4_col33\" class=\"data row4 col33\" >0.000</td>\n",
       "      <td id=\"T_94fb1_row4_col34\" class=\"data row4 col34\" >0.000</td>\n",
       "      <td id=\"T_94fb1_row4_col35\" class=\"data row4 col35\" >0.000</td>\n",
       "      <td id=\"T_94fb1_row4_col36\" class=\"data row4 col36\" >0.000</td>\n",
       "      <td id=\"T_94fb1_row4_col37\" class=\"data row4 col37\" >47275391.045</td>\n",
       "      <td id=\"T_94fb1_row4_col38\" class=\"data row4 col38\" >1799063.507</td>\n",
       "      <td id=\"T_94fb1_row4_col39\" class=\"data row4 col39\" >0.000</td>\n",
       "      <td id=\"T_94fb1_row4_col40\" class=\"data row4 col40\" >0.000</td>\n",
       "      <td id=\"T_94fb1_row4_col41\" class=\"data row4 col41\" >65899.762</td>\n",
       "      <td id=\"T_94fb1_row4_col42\" class=\"data row4 col42\" >84.076</td>\n",
       "      <td id=\"T_94fb1_row4_col43\" class=\"data row4 col43\" >27.783</td>\n",
       "      <td id=\"T_94fb1_row4_col44\" class=\"data row4 col44\" >0.000</td>\n",
       "      <td id=\"T_94fb1_row4_col45\" class=\"data row4 col45\" >0.000</td>\n",
       "      <td id=\"T_94fb1_row4_col46\" class=\"data row4 col46\" >0.000</td>\n",
       "      <td id=\"T_94fb1_row4_col47\" class=\"data row4 col47\" >0.000</td>\n",
       "      <td id=\"T_94fb1_row4_col48\" class=\"data row4 col48\" >0.000</td>\n",
       "      <td id=\"T_94fb1_row4_col49\" class=\"data row4 col49\" >0.000</td>\n",
       "      <td id=\"T_94fb1_row4_col50\" class=\"data row4 col50\" >0.000</td>\n",
       "      <td id=\"T_94fb1_row4_col51\" class=\"data row4 col51\" >0.000</td>\n",
       "      <td id=\"T_94fb1_row4_col52\" class=\"data row4 col52\" >0.000</td>\n",
       "      <td id=\"T_94fb1_row4_col53\" class=\"data row4 col53\" >0.000</td>\n",
       "      <td id=\"T_94fb1_row4_col54\" class=\"data row4 col54\" >0.000</td>\n",
       "      <td id=\"T_94fb1_row4_col55\" class=\"data row4 col55\" >0.000</td>\n",
       "      <td id=\"T_94fb1_row4_col56\" class=\"data row4 col56\" >0.000</td>\n",
       "      <td id=\"T_94fb1_row4_col57\" class=\"data row4 col57\" >0.000</td>\n",
       "      <td id=\"T_94fb1_row4_col58\" class=\"data row4 col58\" >0.000</td>\n",
       "      <td id=\"T_94fb1_row4_col59\" class=\"data row4 col59\" >0.000</td>\n",
       "      <td id=\"T_94fb1_row4_col60\" class=\"data row4 col60\" >0.000</td>\n",
       "      <td id=\"T_94fb1_row4_col61\" class=\"data row4 col61\" >0.000</td>\n",
       "      <td id=\"T_94fb1_row4_col62\" class=\"data row4 col62\" >0.000</td>\n",
       "      <td id=\"T_94fb1_row4_col63\" class=\"data row4 col63\" >0.000</td>\n",
       "      <td id=\"T_94fb1_row4_col64\" class=\"data row4 col64\" >0.000</td>\n",
       "      <td id=\"T_94fb1_row4_col65\" class=\"data row4 col65\" >0.000</td>\n",
       "      <td id=\"T_94fb1_row4_col66\" class=\"data row4 col66\" >1.000</td>\n",
       "      <td id=\"T_94fb1_row4_col67\" class=\"data row4 col67\" >0.000</td>\n",
       "      <td id=\"T_94fb1_row4_col68\" class=\"data row4 col68\" >0.000</td>\n",
       "      <td id=\"T_94fb1_row4_col69\" class=\"data row4 col69\" >0.000</td>\n",
       "      <td id=\"T_94fb1_row4_col70\" class=\"data row4 col70\" >0.000</td>\n",
       "      <td id=\"T_94fb1_row4_col71\" class=\"data row4 col71\" >0.000</td>\n",
       "      <td id=\"T_94fb1_row4_col72\" class=\"data row4 col72\" >0.000</td>\n",
       "      <td id=\"T_94fb1_row4_col73\" class=\"data row4 col73\" >0.000</td>\n",
       "      <td id=\"T_94fb1_row4_col74\" class=\"data row4 col74\" >0.000</td>\n",
       "      <td id=\"T_94fb1_row4_col75\" class=\"data row4 col75\" >0.000</td>\n",
       "      <td id=\"T_94fb1_row4_col76\" class=\"data row4 col76\" >0.000</td>\n",
       "      <td id=\"T_94fb1_row4_col77\" class=\"data row4 col77\" >0.000</td>\n",
       "      <td id=\"T_94fb1_row4_col78\" class=\"data row4 col78\" >0.000</td>\n",
       "      <td id=\"T_94fb1_row4_col79\" class=\"data row4 col79\" >0.000</td>\n",
       "      <td id=\"T_94fb1_row4_col80\" class=\"data row4 col80\" >0.000</td>\n",
       "      <td id=\"T_94fb1_row4_col81\" class=\"data row4 col81\" >0.000</td>\n",
       "      <td id=\"T_94fb1_row4_col82\" class=\"data row4 col82\" >0.000</td>\n",
       "      <td id=\"T_94fb1_row4_col83\" class=\"data row4 col83\" >0.000</td>\n",
       "      <td id=\"T_94fb1_row4_col84\" class=\"data row4 col84\" >0.000</td>\n",
       "      <td id=\"T_94fb1_row4_col85\" class=\"data row4 col85\" >0.000</td>\n",
       "      <td id=\"T_94fb1_row4_col86\" class=\"data row4 col86\" >0.000</td>\n",
       "      <td id=\"T_94fb1_row4_col87\" class=\"data row4 col87\" >0.000</td>\n",
       "      <td id=\"T_94fb1_row4_col88\" class=\"data row4 col88\" >0.000</td>\n",
       "      <td id=\"T_94fb1_row4_col89\" class=\"data row4 col89\" >0.000</td>\n",
       "      <td id=\"T_94fb1_row4_col90\" class=\"data row4 col90\" >0.000</td>\n",
       "      <td id=\"T_94fb1_row4_col91\" class=\"data row4 col91\" >0.000</td>\n",
       "      <td id=\"T_94fb1_row4_col92\" class=\"data row4 col92\" >0.000</td>\n",
       "      <td id=\"T_94fb1_row4_col93\" class=\"data row4 col93\" >0.000</td>\n",
       "      <td id=\"T_94fb1_row4_col94\" class=\"data row4 col94\" >0.000</td>\n",
       "      <td id=\"T_94fb1_row4_col95\" class=\"data row4 col95\" >0.000</td>\n",
       "      <td id=\"T_94fb1_row4_col96\" class=\"data row4 col96\" >0.000</td>\n",
       "      <td id=\"T_94fb1_row4_col97\" class=\"data row4 col97\" >0.000</td>\n",
       "      <td id=\"T_94fb1_row4_col98\" class=\"data row4 col98\" >0.000</td>\n",
       "      <td id=\"T_94fb1_row4_col99\" class=\"data row4 col99\" >0.000</td>\n",
       "      <td id=\"T_94fb1_row4_col100\" class=\"data row4 col100\" >1.000</td>\n",
       "      <td id=\"T_94fb1_row4_col101\" class=\"data row4 col101\" >0.000</td>\n",
       "      <td id=\"T_94fb1_row4_col102\" class=\"data row4 col102\" >0.000</td>\n",
       "      <td id=\"T_94fb1_row4_col103\" class=\"data row4 col103\" >0.000</td>\n",
       "      <td id=\"T_94fb1_row4_col104\" class=\"data row4 col104\" >0.000</td>\n",
       "      <td id=\"T_94fb1_row4_col105\" class=\"data row4 col105\" >0.000</td>\n",
       "      <td id=\"T_94fb1_row4_col106\" class=\"data row4 col106\" >0.000</td>\n",
       "      <td id=\"T_94fb1_row4_col107\" class=\"data row4 col107\" >0.000</td>\n",
       "      <td id=\"T_94fb1_row4_col108\" class=\"data row4 col108\" >0.000</td>\n",
       "      <td id=\"T_94fb1_row4_col109\" class=\"data row4 col109\" >0.000</td>\n",
       "      <td id=\"T_94fb1_row4_col110\" class=\"data row4 col110\" >0.000</td>\n",
       "      <td id=\"T_94fb1_row4_col111\" class=\"data row4 col111\" >0.000</td>\n",
       "      <td id=\"T_94fb1_row4_col112\" class=\"data row4 col112\" >0.000</td>\n",
       "      <td id=\"T_94fb1_row4_col113\" class=\"data row4 col113\" >0.000</td>\n",
       "      <td id=\"T_94fb1_row4_col114\" class=\"data row4 col114\" >0.000</td>\n",
       "      <td id=\"T_94fb1_row4_col115\" class=\"data row4 col115\" >0.000</td>\n",
       "      <td id=\"T_94fb1_row4_col116\" class=\"data row4 col116\" >0.000</td>\n",
       "    </tr>\n",
       "  </tbody>\n",
       "</table>\n"
      ],
      "text/plain": [
       "<pandas.io.formats.style.Styler at 0x107834d30>"
      ]
     },
     "execution_count": 2,
     "metadata": {},
     "output_type": "execute_result"
    }
   ],
   "source": [
    "# Remover linhas com dados ausentes\n",
    "\n",
    "df_eventos_2010_2017_modelo2 = df_eventos_2010_2017_modelo2.dropna()\n",
    "\n",
    "estilo_tabelas(df_eventos_2010_2017_modelo2.head(5))"
   ]
  },
  {
   "cell_type": "markdown",
   "id": "26dbfde7dbafc6c1",
   "metadata": {},
   "source": [
    "### Treino e teste"
   ]
  },
  {
   "cell_type": "code",
   "execution_count": 3,
   "id": "dd770a12d080e4ef",
   "metadata": {
    "ExecuteTime": {
     "end_time": "2024-10-16T02:54:07.033066Z",
     "start_time": "2024-10-16T02:54:06.979069Z"
    },
    "tags": [
     "hide-input"
    ]
   },
   "outputs": [],
   "source": [
    "X_2010_2017_modelo2 = df_eventos_2010_2017_modelo2.drop('Status', axis=1)\n",
    "\n",
    "y_2010_2017_modelo2 = df_eventos_2010_2017_modelo2['Status']\n",
    "\n",
    "X_train_2010_2017_modelo2, X_test_2010_2017_modelo2, y_train_2010_2017_modelo2, y_test_2010_2017_modelo2 = train_test_split(X_2010_2017_modelo2, y_2010_2017_modelo2, test_size=0.2, random_state=1, stratify=y_2010_2017_modelo2)"
   ]
  },
  {
   "cell_type": "markdown",
   "id": "a710e565084491ab",
   "metadata": {},
   "source": [
    "### Resultados - sem balanceamento"
   ]
  },
  {
   "cell_type": "code",
   "execution_count": 4,
   "id": "3c9844bfb4bc929c",
   "metadata": {
    "ExecuteTime": {
     "end_time": "2024-10-16T02:57:40.384987Z",
     "start_time": "2024-10-16T02:56:07.501725Z"
    }
   },
   "outputs": [
    {
     "name": "stderr",
     "output_type": "stream",
     "text": [
      "/Users/brunamoura/PrevisorReconhecimento/.venv/lib/python3.9/site-packages/sklearn/linear_model/_sag.py:349: ConvergenceWarning: The max_iter was reached which means the coef_ did not converge\n",
      "  warnings.warn(\n"
     ]
    },
    {
     "name": "stderr",
     "output_type": "stream",
     "text": [
      "/Users/brunamoura/PrevisorReconhecimento/.venv/lib/python3.9/site-packages/sklearn/linear_model/_sag.py:349: ConvergenceWarning: The max_iter was reached which means the coef_ did not converge\n",
      "  warnings.warn(\n"
     ]
    },
    {
     "name": "stderr",
     "output_type": "stream",
     "text": [
      "/Users/brunamoura/PrevisorReconhecimento/.venv/lib/python3.9/site-packages/sklearn/linear_model/_sag.py:349: ConvergenceWarning: The max_iter was reached which means the coef_ did not converge\n",
      "  warnings.warn(\n",
      "/Users/brunamoura/PrevisorReconhecimento/.venv/lib/python3.9/site-packages/sklearn/linear_model/_sag.py:349: ConvergenceWarning: The max_iter was reached which means the coef_ did not converge\n",
      "  warnings.warn(\n"
     ]
    },
    {
     "name": "stderr",
     "output_type": "stream",
     "text": [
      "/Users/brunamoura/PrevisorReconhecimento/.venv/lib/python3.9/site-packages/sklearn/linear_model/_sag.py:349: ConvergenceWarning: The max_iter was reached which means the coef_ did not converge\n",
      "  warnings.warn(\n",
      "/Users/brunamoura/PrevisorReconhecimento/.venv/lib/python3.9/site-packages/sklearn/linear_model/_sag.py:349: ConvergenceWarning: The max_iter was reached which means the coef_ did not converge\n",
      "  warnings.warn(\n"
     ]
    },
    {
     "name": "stderr",
     "output_type": "stream",
     "text": [
      "/Users/brunamoura/PrevisorReconhecimento/.venv/lib/python3.9/site-packages/sklearn/linear_model/_sag.py:349: ConvergenceWarning: The max_iter was reached which means the coef_ did not converge\n",
      "  warnings.warn(\n",
      "/Users/brunamoura/PrevisorReconhecimento/.venv/lib/python3.9/site-packages/sklearn/linear_model/_sag.py:349: ConvergenceWarning: The max_iter was reached which means the coef_ did not converge\n",
      "  warnings.warn(\n"
     ]
    },
    {
     "name": "stderr",
     "output_type": "stream",
     "text": [
      "/Users/brunamoura/PrevisorReconhecimento/.venv/lib/python3.9/site-packages/sklearn/linear_model/_sag.py:349: ConvergenceWarning: The max_iter was reached which means the coef_ did not converge\n",
      "  warnings.warn(\n"
     ]
    },
    {
     "name": "stderr",
     "output_type": "stream",
     "text": [
      "/Users/brunamoura/PrevisorReconhecimento/.venv/lib/python3.9/site-packages/sklearn/linear_model/_sag.py:349: ConvergenceWarning: The max_iter was reached which means the coef_ did not converge\n",
      "  warnings.warn(\n"
     ]
    },
    {
     "name": "stderr",
     "output_type": "stream",
     "text": [
      "/Users/brunamoura/PrevisorReconhecimento/.venv/lib/python3.9/site-packages/sklearn/linear_model/_sag.py:349: ConvergenceWarning: The max_iter was reached which means the coef_ did not converge\n",
      "  warnings.warn(\n"
     ]
    },
    {
     "name": "stderr",
     "output_type": "stream",
     "text": [
      "/Users/brunamoura/PrevisorReconhecimento/.venv/lib/python3.9/site-packages/sklearn/linear_model/_sag.py:349: ConvergenceWarning: The max_iter was reached which means the coef_ did not converge\n",
      "  warnings.warn(\n"
     ]
    },
    {
     "name": "stderr",
     "output_type": "stream",
     "text": [
      "/Users/brunamoura/PrevisorReconhecimento/.venv/lib/python3.9/site-packages/sklearn/linear_model/_sag.py:349: ConvergenceWarning: The max_iter was reached which means the coef_ did not converge\n",
      "  warnings.warn(\n",
      "/Users/brunamoura/PrevisorReconhecimento/.venv/lib/python3.9/site-packages/sklearn/linear_model/_sag.py:349: ConvergenceWarning: The max_iter was reached which means the coef_ did not converge\n",
      "  warnings.warn(\n"
     ]
    },
    {
     "name": "stderr",
     "output_type": "stream",
     "text": [
      "/Users/brunamoura/PrevisorReconhecimento/.venv/lib/python3.9/site-packages/sklearn/linear_model/_sag.py:349: ConvergenceWarning: The max_iter was reached which means the coef_ did not converge\n",
      "  warnings.warn(\n",
      "/Users/brunamoura/PrevisorReconhecimento/.venv/lib/python3.9/site-packages/sklearn/linear_model/_sag.py:349: ConvergenceWarning: The max_iter was reached which means the coef_ did not converge\n",
      "  warnings.warn(\n"
     ]
    },
    {
     "name": "stderr",
     "output_type": "stream",
     "text": [
      "/Users/brunamoura/PrevisorReconhecimento/.venv/lib/python3.9/site-packages/sklearn/linear_model/_sag.py:349: ConvergenceWarning: The max_iter was reached which means the coef_ did not converge\n",
      "  warnings.warn(\n"
     ]
    },
    {
     "name": "stderr",
     "output_type": "stream",
     "text": [
      "/Users/brunamoura/PrevisorReconhecimento/.venv/lib/python3.9/site-packages/sklearn/linear_model/_sag.py:349: ConvergenceWarning: The max_iter was reached which means the coef_ did not converge\n",
      "  warnings.warn(\n"
     ]
    },
    {
     "name": "stderr",
     "output_type": "stream",
     "text": [
      "/Users/brunamoura/PrevisorReconhecimento/.venv/lib/python3.9/site-packages/sklearn/linear_model/_sag.py:349: ConvergenceWarning: The max_iter was reached which means the coef_ did not converge\n",
      "  warnings.warn(\n",
      "/Users/brunamoura/PrevisorReconhecimento/.venv/lib/python3.9/site-packages/sklearn/linear_model/_sag.py:349: ConvergenceWarning: The max_iter was reached which means the coef_ did not converge\n",
      "  warnings.warn(\n"
     ]
    },
    {
     "name": "stderr",
     "output_type": "stream",
     "text": [
      "/Users/brunamoura/PrevisorReconhecimento/.venv/lib/python3.9/site-packages/sklearn/linear_model/_sag.py:349: ConvergenceWarning: The max_iter was reached which means the coef_ did not converge\n",
      "  warnings.warn(\n",
      "/Users/brunamoura/PrevisorReconhecimento/.venv/lib/python3.9/site-packages/sklearn/linear_model/_sag.py:349: ConvergenceWarning: The max_iter was reached which means the coef_ did not converge\n",
      "  warnings.warn(\n"
     ]
    },
    {
     "name": "stdout",
     "output_type": "stream",
     "text": [
      "Melhores hiperparâmetros: {'logreg__C': 1, 'logreg__fit_intercept': True, 'logreg__max_iter': 1000, 'logreg__penalty': 'l1', 'logreg__solver': 'saga', 'logreg__tol': 0.0001}\n",
      "F1 Score: 0.875857\n",
      "Classification report para modelo 2 (2010 - 2017): \n",
      "\n",
      "                 precision    recall  f1-score   support\n",
      "\n",
      "    Reconhecido   0.915284  0.987220  0.949892      1565\n",
      "Não reconhecido   0.375000  0.077419  0.128342       155\n",
      "\n",
      "       accuracy                       0.905233      1720\n",
      "      macro avg   0.645142  0.532320  0.539117      1720\n",
      "   weighted avg   0.866596  0.905233  0.875857      1720\n",
      "\n"
     ]
    }
   ],
   "source": [
    "# Criar pipeline com normalização e modelo de Regressão Logística\n",
    "pipeline_2010_2017_modelo2 = Pipeline([\n",
    "    ('scaler', StandardScaler()),\n",
    "    ('logreg', LogisticRegression(random_state=1, solver='lbfgs'))\n",
    "])\n",
    "\n",
    "# Definir hiperparâmetros para o Grid Search\n",
    "param_grid_2010_2017_modelo2 = {\n",
    "    'logreg__C': [0.01, 0.1, 1, 10],  # Regularização\n",
    "    'logreg__max_iter': [1000],  # Número máximo de iterações\n",
    "    'logreg__fit_intercept': [True, False],  # Se deve ajustar o intercepto\n",
    "    'logreg__tol': [1e-4, 1e-3],  # Tolerância para convergência\n",
    "    'logreg__penalty': ['l1', 'l2'],  # Tipos de penalidade\n",
    "    'logreg__solver': ['saga'],\n",
    "}\n",
    "\n",
    "# Grid Search com validação cruzada\n",
    "grid_search_2010_2017_modelo2 = GridSearchCV(pipeline_2010_2017_modelo2, param_grid_2010_2017_modelo2, cv=2, scoring='f1_weighted', n_jobs=-1)\n",
    "\n",
    "grid_search_2010_2017_modelo2.fit(X_train_2010_2017_modelo2, y_train_2010_2017_modelo2)\n",
    "\n",
    "# Melhor modelo encontrado\n",
    "logreg_best_2010_2017_modelo2 = grid_search_2010_2017_modelo2.best_estimator_\n",
    "\n",
    "print(f\"Melhores hiperparâmetros: {grid_search_2010_2017_modelo2.best_params_}\")\n",
    "\n",
    "# F1 score no conjunto de teste\n",
    "y_pred_2010_2017_modelo2 = logreg_best_2010_2017_modelo2.predict(X_test_2010_2017_modelo2)\n",
    "\n",
    "f1_2010_2017_modelo2 = f1_score(y_test_2010_2017_modelo2, y_pred_2010_2017_modelo2, average='weighted')\n",
    "print(f\"F1 Score: {f1_2010_2017_modelo2:.6f}\")\n",
    "\n",
    "classification_report_2010_2017_modelo2 = metrics.classification_report(y_test_2010_2017_modelo2, y_pred_2010_2017_modelo2, digits=6, target_names=['Reconhecido', 'Não reconhecido'])\n",
    "print('Classification report para modelo 2 (2010 - 2017): \\n')\n",
    "print(classification_report_2010_2017_modelo2)"
   ]
  },
  {
   "cell_type": "code",
   "execution_count": 5,
   "id": "9183d8e28369136",
   "metadata": {
    "ExecuteTime": {
     "end_time": "2024-10-16T02:59:36.395075Z",
     "start_time": "2024-10-16T02:59:35.847542Z"
    }
   },
   "outputs": [
    {
     "data": {
      "text/plain": [
       "<sklearn.metrics._plot.confusion_matrix.ConfusionMatrixDisplay at 0x10787e130>"
      ]
     },
     "execution_count": 5,
     "metadata": {},
     "output_type": "execute_result"
    },
    {
     "data": {
      "image/png": "[encoded data removed]",
      "text/plain": [
       "<Figure size 640x480 with 2 Axes>"
      ]
     },
     "metadata": {},
     "output_type": "display_data"
    }
   ],
   "source": [
    "ConfusionMatrixDisplay.from_estimator(grid_search_2010_2017_modelo2, X_test_2010_2017_modelo2, y_test_2010_2017_modelo2, \n",
    "                                      values_format='d', cmap='Blues', display_labels=['Reconhecido', 'Não reconhecido'])"
   ]
  },
  {
   "cell_type": "markdown",
   "id": "1dd1af7acc4b5cfc",
   "metadata": {},
   "source": [
    "### Resultados - com balanceamento SMOTE"
   ]
  },
  {
   "cell_type": "code",
   "execution_count": 6,
   "id": "771ad3829c8c6881",
   "metadata": {
    "ExecuteTime": {
     "end_time": "2024-10-16T03:03:13.131528Z",
     "start_time": "2024-10-16T03:00:52.745108Z"
    }
   },
   "outputs": [
    {
     "name": "stderr",
     "output_type": "stream",
     "text": [
      "/Users/brunamoura/PrevisorReconhecimento/.venv/lib/python3.9/site-packages/sklearn/linear_model/_sag.py:349: ConvergenceWarning: The max_iter was reached which means the coef_ did not converge\n",
      "  warnings.warn(\n"
     ]
    },
    {
     "name": "stderr",
     "output_type": "stream",
     "text": [
      "/Users/brunamoura/PrevisorReconhecimento/.venv/lib/python3.9/site-packages/sklearn/linear_model/_sag.py:349: ConvergenceWarning: The max_iter was reached which means the coef_ did not converge\n",
      "  warnings.warn(\n"
     ]
    },
    {
     "name": "stderr",
     "output_type": "stream",
     "text": [
      "/Users/brunamoura/PrevisorReconhecimento/.venv/lib/python3.9/site-packages/sklearn/linear_model/_sag.py:349: ConvergenceWarning: The max_iter was reached which means the coef_ did not converge\n",
      "  warnings.warn(\n"
     ]
    },
    {
     "name": "stderr",
     "output_type": "stream",
     "text": [
      "/Users/brunamoura/PrevisorReconhecimento/.venv/lib/python3.9/site-packages/sklearn/linear_model/_sag.py:349: ConvergenceWarning: The max_iter was reached which means the coef_ did not converge\n",
      "  warnings.warn(\n"
     ]
    },
    {
     "name": "stderr",
     "output_type": "stream",
     "text": [
      "/Users/brunamoura/PrevisorReconhecimento/.venv/lib/python3.9/site-packages/sklearn/linear_model/_sag.py:349: ConvergenceWarning: The max_iter was reached which means the coef_ did not converge\n",
      "  warnings.warn(\n"
     ]
    },
    {
     "name": "stderr",
     "output_type": "stream",
     "text": [
      "/Users/brunamoura/PrevisorReconhecimento/.venv/lib/python3.9/site-packages/sklearn/linear_model/_sag.py:349: ConvergenceWarning: The max_iter was reached which means the coef_ did not converge\n",
      "  warnings.warn(\n"
     ]
    },
    {
     "name": "stderr",
     "output_type": "stream",
     "text": [
      "/Users/brunamoura/PrevisorReconhecimento/.venv/lib/python3.9/site-packages/sklearn/linear_model/_sag.py:349: ConvergenceWarning: The max_iter was reached which means the coef_ did not converge\n",
      "  warnings.warn(\n"
     ]
    },
    {
     "name": "stderr",
     "output_type": "stream",
     "text": [
      "/Users/brunamoura/PrevisorReconhecimento/.venv/lib/python3.9/site-packages/sklearn/linear_model/_sag.py:349: ConvergenceWarning: The max_iter was reached which means the coef_ did not converge\n",
      "  warnings.warn(\n"
     ]
    },
    {
     "name": "stderr",
     "output_type": "stream",
     "text": [
      "/Users/brunamoura/PrevisorReconhecimento/.venv/lib/python3.9/site-packages/sklearn/linear_model/_sag.py:349: ConvergenceWarning: The max_iter was reached which means the coef_ did not converge\n",
      "  warnings.warn(\n"
     ]
    },
    {
     "name": "stderr",
     "output_type": "stream",
     "text": [
      "/Users/brunamoura/PrevisorReconhecimento/.venv/lib/python3.9/site-packages/sklearn/linear_model/_sag.py:349: ConvergenceWarning: The max_iter was reached which means the coef_ did not converge\n",
      "  warnings.warn(\n"
     ]
    },
    {
     "name": "stderr",
     "output_type": "stream",
     "text": [
      "/Users/brunamoura/PrevisorReconhecimento/.venv/lib/python3.9/site-packages/sklearn/linear_model/_sag.py:349: ConvergenceWarning: The max_iter was reached which means the coef_ did not converge\n",
      "  warnings.warn(\n"
     ]
    },
    {
     "name": "stderr",
     "output_type": "stream",
     "text": [
      "/Users/brunamoura/PrevisorReconhecimento/.venv/lib/python3.9/site-packages/sklearn/linear_model/_sag.py:349: ConvergenceWarning: The max_iter was reached which means the coef_ did not converge\n",
      "  warnings.warn(\n"
     ]
    },
    {
     "name": "stderr",
     "output_type": "stream",
     "text": [
      "/Users/brunamoura/PrevisorReconhecimento/.venv/lib/python3.9/site-packages/sklearn/linear_model/_sag.py:349: ConvergenceWarning: The max_iter was reached which means the coef_ did not converge\n",
      "  warnings.warn(\n"
     ]
    },
    {
     "name": "stderr",
     "output_type": "stream",
     "text": [
      "/Users/brunamoura/PrevisorReconhecimento/.venv/lib/python3.9/site-packages/sklearn/linear_model/_sag.py:349: ConvergenceWarning: The max_iter was reached which means the coef_ did not converge\n",
      "  warnings.warn(\n"
     ]
    },
    {
     "name": "stderr",
     "output_type": "stream",
     "text": [
      "/Users/brunamoura/PrevisorReconhecimento/.venv/lib/python3.9/site-packages/sklearn/linear_model/_sag.py:349: ConvergenceWarning: The max_iter was reached which means the coef_ did not converge\n",
      "  warnings.warn(\n"
     ]
    },
    {
     "name": "stderr",
     "output_type": "stream",
     "text": [
      "/Users/brunamoura/PrevisorReconhecimento/.venv/lib/python3.9/site-packages/sklearn/linear_model/_sag.py:349: ConvergenceWarning: The max_iter was reached which means the coef_ did not converge\n",
      "  warnings.warn(\n"
     ]
    },
    {
     "name": "stderr",
     "output_type": "stream",
     "text": [
      "/Users/brunamoura/PrevisorReconhecimento/.venv/lib/python3.9/site-packages/sklearn/linear_model/_sag.py:349: ConvergenceWarning: The max_iter was reached which means the coef_ did not converge\n",
      "  warnings.warn(\n"
     ]
    },
    {
     "name": "stderr",
     "output_type": "stream",
     "text": [
      "/Users/brunamoura/PrevisorReconhecimento/.venv/lib/python3.9/site-packages/sklearn/linear_model/_sag.py:349: ConvergenceWarning: The max_iter was reached which means the coef_ did not converge\n",
      "  warnings.warn(\n"
     ]
    },
    {
     "name": "stderr",
     "output_type": "stream",
     "text": [
      "/Users/brunamoura/PrevisorReconhecimento/.venv/lib/python3.9/site-packages/sklearn/linear_model/_sag.py:349: ConvergenceWarning: The max_iter was reached which means the coef_ did not converge\n",
      "  warnings.warn(\n"
     ]
    },
    {
     "name": "stderr",
     "output_type": "stream",
     "text": [
      "/Users/brunamoura/PrevisorReconhecimento/.venv/lib/python3.9/site-packages/sklearn/linear_model/_sag.py:349: ConvergenceWarning: The max_iter was reached which means the coef_ did not converge\n",
      "  warnings.warn(\n"
     ]
    },
    {
     "name": "stderr",
     "output_type": "stream",
     "text": [
      "/Users/brunamoura/PrevisorReconhecimento/.venv/lib/python3.9/site-packages/sklearn/linear_model/_sag.py:349: ConvergenceWarning: The max_iter was reached which means the coef_ did not converge\n",
      "  warnings.warn(\n"
     ]
    },
    {
     "name": "stderr",
     "output_type": "stream",
     "text": [
      "/Users/brunamoura/PrevisorReconhecimento/.venv/lib/python3.9/site-packages/sklearn/linear_model/_sag.py:349: ConvergenceWarning: The max_iter was reached which means the coef_ did not converge\n",
      "  warnings.warn(\n"
     ]
    },
    {
     "name": "stderr",
     "output_type": "stream",
     "text": [
      "/Users/brunamoura/PrevisorReconhecimento/.venv/lib/python3.9/site-packages/sklearn/linear_model/_sag.py:349: ConvergenceWarning: The max_iter was reached which means the coef_ did not converge\n",
      "  warnings.warn(\n",
      "/Users/brunamoura/PrevisorReconhecimento/.venv/lib/python3.9/site-packages/sklearn/linear_model/_sag.py:349: ConvergenceWarning: The max_iter was reached which means the coef_ did not converge\n",
      "  warnings.warn(\n"
     ]
    },
    {
     "name": "stderr",
     "output_type": "stream",
     "text": [
      "/Users/brunamoura/PrevisorReconhecimento/.venv/lib/python3.9/site-packages/sklearn/linear_model/_sag.py:349: ConvergenceWarning: The max_iter was reached which means the coef_ did not converge\n",
      "  warnings.warn(\n"
     ]
    },
    {
     "name": "stderr",
     "output_type": "stream",
     "text": [
      "/Users/brunamoura/PrevisorReconhecimento/.venv/lib/python3.9/site-packages/sklearn/linear_model/_sag.py:349: ConvergenceWarning: The max_iter was reached which means the coef_ did not converge\n",
      "  warnings.warn(\n"
     ]
    },
    {
     "name": "stderr",
     "output_type": "stream",
     "text": [
      "/Users/brunamoura/PrevisorReconhecimento/.venv/lib/python3.9/site-packages/sklearn/linear_model/_sag.py:349: ConvergenceWarning: The max_iter was reached which means the coef_ did not converge\n",
      "  warnings.warn(\n"
     ]
    },
    {
     "name": "stderr",
     "output_type": "stream",
     "text": [
      "/Users/brunamoura/PrevisorReconhecimento/.venv/lib/python3.9/site-packages/sklearn/linear_model/_sag.py:349: ConvergenceWarning: The max_iter was reached which means the coef_ did not converge\n",
      "  warnings.warn(\n"
     ]
    },
    {
     "name": "stderr",
     "output_type": "stream",
     "text": [
      "/Users/brunamoura/PrevisorReconhecimento/.venv/lib/python3.9/site-packages/sklearn/linear_model/_sag.py:349: ConvergenceWarning: The max_iter was reached which means the coef_ did not converge\n",
      "  warnings.warn(\n"
     ]
    },
    {
     "name": "stderr",
     "output_type": "stream",
     "text": [
      "/Users/brunamoura/PrevisorReconhecimento/.venv/lib/python3.9/site-packages/sklearn/linear_model/_sag.py:349: ConvergenceWarning: The max_iter was reached which means the coef_ did not converge\n",
      "  warnings.warn(\n",
      "/Users/brunamoura/PrevisorReconhecimento/.venv/lib/python3.9/site-packages/sklearn/linear_model/_sag.py:349: ConvergenceWarning: The max_iter was reached which means the coef_ did not converge\n",
      "  warnings.warn(\n"
     ]
    },
    {
     "name": "stdout",
     "output_type": "stream",
     "text": [
      "Melhores hiperparâmetros: {'logreg__C': 10, 'logreg__fit_intercept': True, 'logreg__max_iter': 1000, 'logreg__penalty': 'l2', 'logreg__solver': 'saga', 'logreg__tol': 0.0001}\n",
      "F1 Score: 0.80\n",
      "Classification report para modelo 3 com smote (2010 - 2017): \n",
      "\n",
      "                 precision    recall  f1-score   support\n",
      "\n",
      "    Reconhecido   0.951181  0.771885  0.852205      1565\n",
      "Não reconhecido   0.206667  0.600000  0.307438       155\n",
      "\n",
      "       accuracy                       0.756395      1720\n",
      "      macro avg   0.578924  0.685942  0.579821      1720\n",
      "   weighted avg   0.884088  0.756395  0.803112      1720\n",
      "\n"
     ]
    }
   ],
   "source": [
    "smote = SMOTE(random_state=1)\n",
    "X_train_smote_2010_2017_modelo2, y_train_smote_2010_2017_modelo2 = smote.fit_resample(X_train_2010_2017_modelo2, y_train_2010_2017_modelo2)\n",
    "\n",
    "pipeline_2010_2017_modelo2 = Pipeline([\n",
    "    ('scaler', StandardScaler()), \n",
    "    ('logreg', LogisticRegression(random_state=1, solver='lbfgs'))  \n",
    "])\n",
    "\n",
    "# Definir hiperparâmetros para o Grid Search\n",
    "param_grid_2010_2017_modelo2 = {\n",
    "    'logreg__C': [0.01, 0.1, 1, 10],  # Regularização\n",
    "    'logreg__max_iter': [1000],  # Número máximo de iterações\n",
    "    'logreg__fit_intercept': [True, False],  # Se deve ajustar o intercepto\n",
    "    'logreg__tol': [1e-4, 1e-3],  # Tolerância para convergência\n",
    "    'logreg__penalty': ['l1', 'l2'],  # Tipos de penalidade\n",
    "    'logreg__solver': ['saga'],\n",
    "}\n",
    "\n",
    "# Grid Search com validação cruzada\n",
    "grid_search_2010_2017_modelo2 = GridSearchCV(pipeline_2010_2017_modelo2, param_grid_2010_2017_modelo2, cv=3, scoring='f1_weighted', n_jobs=-1)\n",
    "\n",
    "# Treinar o pipeline com Grid Search\n",
    "grid_search_2010_2017_modelo2.fit(X_train_smote_2010_2017_modelo2, y_train_smote_2010_2017_modelo2)\n",
    "\n",
    "# Melhor modelo encontrado\n",
    "logreg_best_2010_2017_modelo2 = grid_search_2010_2017_modelo2.best_estimator_\n",
    "\n",
    "print(f\"Melhores hiperparâmetros: {grid_search_2010_2017_modelo2.best_params_}\")\n",
    "\n",
    "# F1 score no conjunto de teste\n",
    "y_pred_2010_2017_modelo2_smote = logreg_best_2010_2017_modelo2.predict(X_test_2010_2017_modelo2)\n",
    "\n",
    "f1_smote_2010_2017_modelo2 = f1_score(y_test_2010_2017_modelo2, y_pred_2010_2017_modelo2_smote, average='weighted')\n",
    "print(f\"F1 Score: {f1_smote_2010_2017_modelo2:.2f}\")\n",
    "\n",
    "classification_report_smote_2010_2017_modelo2 = metrics.classification_report(y_test_2010_2017_modelo2, y_pred_2010_2017_modelo2_smote, digits=6, target_names=['Reconhecido', 'Não reconhecido'])\n",
    "print('Classification report para modelo 3 com smote (2010 - 2017): \\n')\n",
    "print(classification_report_smote_2010_2017_modelo2)"
   ]
  },
  {
   "cell_type": "markdown",
   "id": "6dd4c1fd1c770e37",
   "metadata": {},
   "source": []
  }
 ],
 "metadata": {
  "kernelspec": {
   "display_name": "Python 3",
   "language": "python",
   "name": "python3"
  },
  "language_info": {
   "codemirror_mode": {
    "name": "ipython",
    "version": 3
   },
   "file_extension": ".py",
   "mimetype": "text/x-python",
   "name": "python",
   "nbconvert_exporter": "python",
   "pygments_lexer": "ipython3",
   "version": "3.9.6"
  }
 },
 "nbformat": 4,
 "nbformat_minor": 5
}